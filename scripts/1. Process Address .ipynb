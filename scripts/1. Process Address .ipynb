{
 "cells": [
  {
   "cell_type": "markdown",
   "metadata": {},
   "source": [
    "This script is to split street address into categories. "
   ]
  },
  {
   "cell_type": "code",
   "execution_count": 50,
   "metadata": {
    "collapsed": false
   },
   "outputs": [
    {
     "data": {
      "text/plain": [
       "'C:\\\\Users\\\\Angela\\\\Documents\\\\GitHub\\\\Latest_Github\\\\permits\\\\scripts'"
      ]
     },
     "execution_count": 50,
     "metadata": {},
     "output_type": "execute_result"
    }
   ],
   "source": [
    "import pandas as pd \n",
    "import numpy as np\n",
    "import os\n",
    "os.getcwd()"
   ]
  },
  {
   "cell_type": "code",
   "execution_count": 72,
   "metadata": {
    "collapsed": true
   },
   "outputs": [],
   "source": [
    "DIR = 'J:\\Projects\\Permits'\n",
    "PERMIT_DIR = '17Permit\\data\\working'\n",
    "STEP = 'step1'\n",
    "INPUT = 'SETP0_OUTPUT.csv'\n",
    "OUTPUT = 'SETP1_OUTPUT.csv'"
   ]
  },
  {
   "cell_type": "code",
   "execution_count": 76,
   "metadata": {
    "collapsed": false
   },
   "outputs": [],
   "source": [
    "INPUT_PATH = os.path.join(DIR, PERMIT_DIR, STEP, INPUT )\n",
    "OUTPUT_PATH = os.path.join(DIR, PERMIT_DIR, STEP, OUTPUT )\n",
    "TEMP_PATH = os.path.join(DIR, PERMIT_DIR, 'template.csv')"
   ]
  },
  {
   "cell_type": "code",
   "execution_count": 77,
   "metadata": {
    "collapsed": false
   },
   "outputs": [
    {
     "data": {
      "text/plain": [
       "'J:\\\\Projects\\\\Permits\\\\17Permit\\\\data\\\\working\\\\template.csv'"
      ]
     },
     "execution_count": 77,
     "metadata": {},
     "output_type": "execute_result"
    }
   ],
   "source": [
    "TEMP_PATH"
   ]
  },
  {
   "cell_type": "code",
   "execution_count": 78,
   "metadata": {
    "collapsed": false
   },
   "outputs": [],
   "source": [
    "temp = pd.read_csv(TEMP_PATH)\n",
    "permit_data = pd.read_csv(INPUT_PATH)"
   ]
  },
  {
   "cell_type": "code",
   "execution_count": 55,
   "metadata": {
    "collapsed": false,
    "scrolled": true
   },
   "outputs": [
    {
     "data": {
      "text/plain": [
       "Index([u'PERMITID #', u'PROJECT NAME', u'TAX PARCEL ID #', u'SITE ADDRESS',\n",
       "       u'SITE ZIPCODE', u'ISSUE DATE', u'FINAL DATE', u'PERMIT STATUS',\n",
       "       u'# OF UNITS', u'# OF BUILDINGS', u'ESTIMATED VALUE', u'CONDO',\n",
       "       u'LOT AREA/SIZE', u'ZONING CODE', u'WORK DESCRIPTION',\n",
       "       u'STRUCTURE TYPE', u'PERMIT ACTIVITY', u'LAND USE', u'Delete (-1, 0)',\n",
       "       u'quick note (why delete)', u'# of Units', u'Condo (yes/no)', u'PS',\n",
       "       u'TYPE', u'TYPE2'],\n",
       "      dtype='object')"
      ]
     },
     "execution_count": 55,
     "metadata": {},
     "output_type": "execute_result"
    }
   ],
   "source": [
    "permit_data.columns"
   ]
  },
  {
   "cell_type": "code",
   "execution_count": 56,
   "metadata": {
    "collapsed": true
   },
   "outputs": [],
   "source": [
    "#hard code\n",
    "my_address = 'SITE ADDRESS'"
   ]
  },
  {
   "cell_type": "markdown",
   "metadata": {},
   "source": [
    "# Step 1: General process "
   ]
  },
  {
   "cell_type": "code",
   "execution_count": 57,
   "metadata": {
    "collapsed": true
   },
   "outputs": [],
   "source": [
    "test = permit_data"
   ]
  },
  {
   "cell_type": "code",
   "execution_count": 58,
   "metadata": {
    "collapsed": false
   },
   "outputs": [
    {
     "data": {
      "text/plain": [
       "0    5502 173rd Ave SE\n",
       "1     13852 SE 62nd St\n",
       "2    4005 120th Ave SE\n",
       "3     4650 150th Pl SE\n",
       "4     4349 130th Pl SE\n",
       "5    1028 109th Ave SE\n",
       "6      15920 NE 6th St\n",
       "7     16564 SE 19th St\n",
       "8      15418 NE 3rd Pl\n",
       "9       9203 NE 5th St\n",
       "Name: SITE ADDRESS, dtype: object"
      ]
     },
     "execution_count": 58,
     "metadata": {},
     "output_type": "execute_result"
    }
   ],
   "source": [
    "test[my_address].head(10) #judge how to split the string"
   ]
  },
  {
   "cell_type": "code",
   "execution_count": 59,
   "metadata": {
    "collapsed": false
   },
   "outputs": [],
   "source": [
    "col1 = ['HOUSENO', 'PREFIX', 'STRNAME', 'STRTYPE', 'SUFFIX', 'UNIT_BLD', 'CITY', 'STATE', 'ZIP']\n",
    "for c in col1:\n",
    "    test[c] = ''"
   ]
  },
  {
   "cell_type": "code",
   "execution_count": 60,
   "metadata": {
    "collapsed": false
   },
   "outputs": [
    {
     "name": "stderr",
     "output_type": "stream",
     "text": [
      "c:\\anaconda\\lib\\site-packages\\ipykernel\\__main__.py:4: SettingWithCopyWarning: \n",
      "A value is trying to be set on a copy of a slice from a DataFrame\n",
      "\n",
      "See the caveats in the documentation: http://pandas.pydata.org/pandas-docs/stable/indexing.html#indexing-view-versus-copy\n",
      "c:\\anaconda\\lib\\site-packages\\ipykernel\\__main__.py:9: SettingWithCopyWarning: \n",
      "A value is trying to be set on a copy of a slice from a DataFrame\n",
      "\n",
      "See the caveats in the documentation: http://pandas.pydata.org/pandas-docs/stable/indexing.html#indexing-view-versus-copy\n"
     ]
    }
   ],
   "source": [
    "# Genrally split full adress into columns, without QA/QC\n",
    "for i in range(len(test)):\n",
    "    test[my_address] = test[my_address].apply(str)\n",
    "    test[my_address][i] = test[my_address][i].replace(',', ' ') \n",
    "    test[my_address] = test[my_address].apply(str)\n",
    "    address = test[my_address][i].split()\n",
    "    if len(address) <= 9:\n",
    "        for j in range(len(address)): \n",
    "            test[col1[j]][i] = address[j]\n",
    "    else: \n",
    "        print address \n",
    "        #for j in range(4): #why 4? already investigated (the default is 6)\n",
    "            #test1[col1[j]][i] = address[j+2]"
   ]
  },
  {
   "cell_type": "code",
   "execution_count": 61,
   "metadata": {
    "collapsed": false
   },
   "outputs": [
    {
     "data": {
      "text/plain": [
       "Index([u'PERMITID #', u'PROJECT NAME', u'TAX PARCEL ID #', u'SITE ADDRESS',\n",
       "       u'SITE ZIPCODE', u'ISSUE DATE', u'FINAL DATE', u'PERMIT STATUS',\n",
       "       u'# OF UNITS', u'# OF BUILDINGS', u'ESTIMATED VALUE', u'CONDO',\n",
       "       u'LOT AREA/SIZE', u'ZONING CODE', u'WORK DESCRIPTION',\n",
       "       u'STRUCTURE TYPE', u'PERMIT ACTIVITY', u'LAND USE', u'Delete (-1, 0)',\n",
       "       u'quick note (why delete)', u'# of Units', u'Condo (yes/no)', u'PS',\n",
       "       u'TYPE', u'TYPE2', u'HOUSENO', u'PREFIX', u'STRNAME', u'STRTYPE',\n",
       "       u'SUFFIX', u'UNIT_BLD', u'CITY', u'STATE', u'ZIP'],\n",
       "      dtype='object')"
      ]
     },
     "execution_count": 61,
     "metadata": {},
     "output_type": "execute_result"
    }
   ],
   "source": [
    "test.columns"
   ]
  },
  {
   "cell_type": "markdown",
   "metadata": {},
   "source": [
    "# Step 2: Check the address quality"
   ]
  },
  {
   "cell_type": "code",
   "execution_count": 62,
   "metadata": {
    "collapsed": false,
    "scrolled": false
   },
   "outputs": [
    {
     "name": "stdout",
     "output_type": "stream",
     "text": [
      "['10003' '10005' '10008' '10032' '102' '10210' '10219' '10254' '1028'\n",
      " '10345' '10360' '10410' '10416' '10425' '10430' '10441' '10447' '10452'\n",
      " '10513' '10519' '10520' '10530' '10557' '106' '10601' '10602' '10604'\n",
      " '10608' '10610' '10614' '10625' '10639' '10648' '10676' '10720' '10744'\n",
      " '10809' '10827' '109' '10905' '11012' '11025' '11048' '11050' '11223'\n",
      " '11237' '11277' '11919' '1211' '1216' '1217' '12258' '12269' '1227'\n",
      " '12288' '1230' '1232' '1241' '1248' '12618' '12714' '1288' '12961' '13036'\n",
      " '1335' '134' '13630' '1375' '13841' '13852' '1390' '13901' '13931' '13979'\n",
      " '14' '1400' '14003' '1403' '1414' '1419' '1423' '1424' '1434' '144'\n",
      " '14400' '14404' '1444' '1453' '1454' '14602' '1464' '1465' '1474' '1484'\n",
      " '1485' '1494' '1501' '154' '15405' '15418' '15430' '1571' '15715' '15725'\n",
      " '15734' '15735' '15741' '15754' '15755' '15764' '15774' '15775' '15785'\n",
      " '15843' '15849' '15857' '15920' '1600' '16003' '1601' '16025' '1604'\n",
      " '1611' '1618' '1620' '16218' '1624' '16330' '16337' '16345' '16355'\n",
      " '16365' '16369' '16380' '16393' '16396' '16405' '1641' '1645' '1650'\n",
      " '16564' '1658' '16613' '16685' '16727' '16843' '16848' '16863' '1692'\n",
      " '16922' '1700' '1703' '1830' '1831' '1841' '1844' '1915' '2028' '2031'\n",
      " '2300' '2357' '2424' '2508' '2610' '2615' '2634' '2712' '2832' '2841'\n",
      " '2847' '288' '3000' '301' '3040' '317' '3215' '3244' '3306' '3438' '3765'\n",
      " '3935' '4005' '4017' '4140' '4150' '4325' '4349' '4541' '4554' '4649'\n",
      " '4650' '486' '5016' '515' '5205' '5448' '5502' '5624' '6231' '65' '6970'\n",
      " '7009' '7010' '7049' '7050' '7089' '7090' '7168' '7232' '728' '7286'\n",
      " '7338' '7378' '7387' '7390' '7396' '827' '9203' '9217' '9232' '9620'\n",
      " '9640' '9652' '9803' '9813' '9815' '9827' '9832' '9834' '9843' '9851'\n",
      " 'nan']\n",
      "['' '102nd' '103rd' '104th' '105th' '106th' '107th' '108th' '109th' '111th'\n",
      " '112th' '113th' '117th' '120th' '121st' '123rd' '125th' '126th' '127th'\n",
      " '130th' '134th' '139th' '140th' '144th' '148th' '150th' '152nd' '153rd'\n",
      " '157th' '158th' '159th' '160th' '163rd' '164th' '166th' '168th' '169th'\n",
      " '170th' '171st' '173rd' '177th' '96th' '97th' '98th' '99th' 'Bellevue'\n",
      " 'Cedar' 'Evergreen' 'Killarney' 'Lake' 'Landerholm' 'Main' 'Mallard' 'NE'\n",
      " 'SE' 'Skagit' 'Vineyard' 'W']\n",
      "['' 'Pkwy' 'SE']\n",
      "['' 'Aly' 'Blvd' 'Ct' 'Dr' 'Ln' 'NE' 'Pl' 'Rd' 'Rte' 'SE' 'Sammamish' 'St'\n",
      " 'Ter']\n"
     ]
    }
   ],
   "source": [
    "print np.unique(test['HOUSENO'])\n",
    "print np.unique(test[['PREFIX']])\n",
    "print np.unique(test[['SUFFIX']])\n",
    "print np.unique(test[['STRTYPE']])"
   ]
  },
  {
   "cell_type": "code",
   "execution_count": 64,
   "metadata": {
    "collapsed": false
   },
   "outputs": [
    {
     "data": {
      "text/html": [
       "<div>\n",
       "<table border=\"1\" class=\"dataframe\">\n",
       "  <thead>\n",
       "    <tr style=\"text-align: right;\">\n",
       "      <th></th>\n",
       "      <th>PERMITID #</th>\n",
       "      <th>PROJECT NAME</th>\n",
       "      <th>TAX PARCEL ID #</th>\n",
       "      <th>SITE ADDRESS</th>\n",
       "      <th>SITE ZIPCODE</th>\n",
       "      <th>ISSUE DATE</th>\n",
       "      <th>FINAL DATE</th>\n",
       "      <th>PERMIT STATUS</th>\n",
       "      <th># OF UNITS</th>\n",
       "      <th># OF BUILDINGS</th>\n",
       "      <th>...</th>\n",
       "      <th>TYPE2</th>\n",
       "      <th>HOUSENO</th>\n",
       "      <th>PREFIX</th>\n",
       "      <th>STRNAME</th>\n",
       "      <th>STRTYPE</th>\n",
       "      <th>SUFFIX</th>\n",
       "      <th>UNIT_BLD</th>\n",
       "      <th>CITY</th>\n",
       "      <th>STATE</th>\n",
       "      <th>ZIP</th>\n",
       "    </tr>\n",
       "  </thead>\n",
       "  <tbody>\n",
       "    <tr>\n",
       "      <th>91</th>\n",
       "      <td>15 115442 BS</td>\n",
       "      <td>Strong Residence</td>\n",
       "      <td>7430500135</td>\n",
       "      <td>1604 W Lake Sammamish Pkwy NE</td>\n",
       "      <td>98008</td>\n",
       "      <td>09/21/15</td>\n",
       "      <td>03/30/17</td>\n",
       "      <td>Closed</td>\n",
       "      <td>0</td>\n",
       "      <td>1</td>\n",
       "      <td>...</td>\n",
       "      <td>SF</td>\n",
       "      <td>1604</td>\n",
       "      <td>W</td>\n",
       "      <td>Lake</td>\n",
       "      <td>Sammamish</td>\n",
       "      <td>Pkwy</td>\n",
       "      <td>NE</td>\n",
       "      <td></td>\n",
       "      <td></td>\n",
       "      <td></td>\n",
       "    </tr>\n",
       "    <tr>\n",
       "      <th>101</th>\n",
       "      <td>14 131105 BS</td>\n",
       "      <td>Huang Residence</td>\n",
       "      <td>9253900345</td>\n",
       "      <td>2028 W Lake Sammamish Pkwy SE</td>\n",
       "      <td>98008-5230</td>\n",
       "      <td>09/23/14</td>\n",
       "      <td>12/19/17</td>\n",
       "      <td>Closed</td>\n",
       "      <td>0</td>\n",
       "      <td>1</td>\n",
       "      <td>...</td>\n",
       "      <td>SF</td>\n",
       "      <td>2028</td>\n",
       "      <td>W</td>\n",
       "      <td>Lake</td>\n",
       "      <td>Sammamish</td>\n",
       "      <td>Pkwy</td>\n",
       "      <td>SE</td>\n",
       "      <td></td>\n",
       "      <td></td>\n",
       "      <td></td>\n",
       "    </tr>\n",
       "    <tr>\n",
       "      <th>150</th>\n",
       "      <td>15 121149 BS</td>\n",
       "      <td>Johnson Residence</td>\n",
       "      <td>9253900305</td>\n",
       "      <td>1844 W Lake Sammamish Pkwy SE</td>\n",
       "      <td>98008-5226</td>\n",
       "      <td>02/11/16</td>\n",
       "      <td>04/13/17</td>\n",
       "      <td>Closed</td>\n",
       "      <td>0</td>\n",
       "      <td>1</td>\n",
       "      <td>...</td>\n",
       "      <td>SF</td>\n",
       "      <td>1844</td>\n",
       "      <td>W</td>\n",
       "      <td>Lake</td>\n",
       "      <td>Sammamish</td>\n",
       "      <td>Pkwy</td>\n",
       "      <td>SE</td>\n",
       "      <td></td>\n",
       "      <td></td>\n",
       "      <td></td>\n",
       "    </tr>\n",
       "    <tr>\n",
       "      <th>153</th>\n",
       "      <td>12 107565 BS</td>\n",
       "      <td>Lot 27 Rosemont Beach Add</td>\n",
       "      <td>7430500140</td>\n",
       "      <td>1600 W Lake Sammamish Pkwy NE</td>\n",
       "      <td>98008</td>\n",
       "      <td>08/17/15</td>\n",
       "      <td>06/15/17</td>\n",
       "      <td>Closed</td>\n",
       "      <td>0</td>\n",
       "      <td>1</td>\n",
       "      <td>...</td>\n",
       "      <td>SF</td>\n",
       "      <td>1600</td>\n",
       "      <td>W</td>\n",
       "      <td>Lake</td>\n",
       "      <td>Sammamish</td>\n",
       "      <td>Pkwy</td>\n",
       "      <td>NE</td>\n",
       "      <td></td>\n",
       "      <td></td>\n",
       "      <td></td>\n",
       "    </tr>\n",
       "    <tr>\n",
       "      <th>154</th>\n",
       "      <td>13 134760 BS</td>\n",
       "      <td>Buxbaum Residence</td>\n",
       "      <td>7528300035</td>\n",
       "      <td>486 W Lake Sammamish Pkwy NE</td>\n",
       "      <td>98008</td>\n",
       "      <td>05/15/14</td>\n",
       "      <td>05/10/17</td>\n",
       "      <td>Closed</td>\n",
       "      <td>0</td>\n",
       "      <td>1</td>\n",
       "      <td>...</td>\n",
       "      <td>SF</td>\n",
       "      <td>486</td>\n",
       "      <td>W</td>\n",
       "      <td>Lake</td>\n",
       "      <td>Sammamish</td>\n",
       "      <td>Pkwy</td>\n",
       "      <td>NE</td>\n",
       "      <td></td>\n",
       "      <td></td>\n",
       "      <td></td>\n",
       "    </tr>\n",
       "    <tr>\n",
       "      <th>216</th>\n",
       "      <td>14 133488 BS</td>\n",
       "      <td>1830 W Lake Sammamish Pkwy SE</td>\n",
       "      <td>9253900290</td>\n",
       "      <td>1830 W Lake Sammamish Pkwy SE</td>\n",
       "      <td>98008-5226</td>\n",
       "      <td>11/21/14</td>\n",
       "      <td>02/08/17</td>\n",
       "      <td>Closed</td>\n",
       "      <td>1</td>\n",
       "      <td>1</td>\n",
       "      <td>...</td>\n",
       "      <td>SF</td>\n",
       "      <td>1830</td>\n",
       "      <td>W</td>\n",
       "      <td>Lake</td>\n",
       "      <td>Sammamish</td>\n",
       "      <td>Pkwy</td>\n",
       "      <td>SE</td>\n",
       "      <td></td>\n",
       "      <td></td>\n",
       "      <td></td>\n",
       "    </tr>\n",
       "  </tbody>\n",
       "</table>\n",
       "<p>6 rows × 34 columns</p>\n",
       "</div>"
      ],
      "text/plain": [
       "       PERMITID #                   PROJECT NAME  TAX PARCEL ID #  \\\n",
       "91   15 115442 BS               Strong Residence       7430500135   \n",
       "101  14 131105 BS                Huang Residence       9253900345   \n",
       "150  15 121149 BS              Johnson Residence       9253900305   \n",
       "153  12 107565 BS      Lot 27 Rosemont Beach Add       7430500140   \n",
       "154  13 134760 BS              Buxbaum Residence       7528300035   \n",
       "216  14 133488 BS  1830 W Lake Sammamish Pkwy SE       9253900290   \n",
       "\n",
       "                      SITE ADDRESS SITE ZIPCODE ISSUE DATE FINAL DATE  \\\n",
       "91   1604 W Lake Sammamish Pkwy NE        98008   09/21/15   03/30/17   \n",
       "101  2028 W Lake Sammamish Pkwy SE   98008-5230   09/23/14   12/19/17   \n",
       "150  1844 W Lake Sammamish Pkwy SE   98008-5226   02/11/16   04/13/17   \n",
       "153  1600 W Lake Sammamish Pkwy NE        98008   08/17/15   06/15/17   \n",
       "154   486 W Lake Sammamish Pkwy NE        98008   05/15/14   05/10/17   \n",
       "216  1830 W Lake Sammamish Pkwy SE   98008-5226   11/21/14   02/08/17   \n",
       "\n",
       "    PERMIT STATUS  # OF UNITS  # OF BUILDINGS ...  TYPE2 HOUSENO PREFIX  \\\n",
       "91         Closed           0               1 ...     SF    1604      W   \n",
       "101        Closed           0               1 ...     SF    2028      W   \n",
       "150        Closed           0               1 ...     SF    1844      W   \n",
       "153        Closed           0               1 ...     SF    1600      W   \n",
       "154        Closed           0               1 ...     SF     486      W   \n",
       "216        Closed           1               1 ...     SF    1830      W   \n",
       "\n",
       "    STRNAME    STRTYPE SUFFIX UNIT_BLD CITY  STATE  ZIP  \n",
       "91     Lake  Sammamish   Pkwy       NE                   \n",
       "101    Lake  Sammamish   Pkwy       SE                   \n",
       "150    Lake  Sammamish   Pkwy       SE                   \n",
       "153    Lake  Sammamish   Pkwy       NE                   \n",
       "154    Lake  Sammamish   Pkwy       NE                   \n",
       "216    Lake  Sammamish   Pkwy       SE                   \n",
       "\n",
       "[6 rows x 34 columns]"
      ]
     },
     "execution_count": 64,
     "metadata": {},
     "output_type": "execute_result"
    }
   ],
   "source": [
    "# check out what's wrong with specific row \n",
    "test[test['STRTYPE']=='Sammamish']"
   ]
  },
  {
   "cell_type": "markdown",
   "metadata": {},
   "source": [
    "Find odd street type/sur/pref in the above list, and add them into the list below "
   ]
  },
  {
   "cell_type": "markdown",
   "metadata": {},
   "source": [
    "# Debug "
   ]
  },
  {
   "cell_type": "code",
   "execution_count": 65,
   "metadata": {
    "collapsed": true
   },
   "outputs": [],
   "source": [
    "list_prefix = ['S', 'SE', 'SW', 'W', 'NW', 'N','NE','E']\n",
    "list_suffix = ['S', 'SE', 'SW', 'W', 'NW', 'N','NE','E']"
   ]
  },
  {
   "cell_type": "code",
   "execution_count": 66,
   "metadata": {
    "collapsed": true
   },
   "outputs": [],
   "source": [
    "street_type = ['AVE', 'BLVD', 'Blvd', 'CIR','CIRCLE','CROSSING', 'COVE', 'CT', 'DR', 'HWY', \n",
    "               'LN', 'LINE', 'LOOP', 'PL', 'RD', 'ROAD','Road','SHORE',\n",
    "               'ST', 'TRAIL', 'TRL',  'WAY', 'Pkwy']"
   ]
  },
  {
   "cell_type": "code",
   "execution_count": 67,
   "metadata": {
    "collapsed": true
   },
   "outputs": [],
   "source": [
    "city_list = ['Auburn', 'AUBURN', 'RENTON', 'ENUMCLAW', 'Enumclaw', 'BEND', 'CARNATION', \n",
    "            'DUVALL', 'ISSAQUAH', 'Issaquah', 'KENT', 'King', 'PRESTON', 'RAVENSDALE',\n",
    "            'REDMOND', 'Renton', 'SAMMAMISH', 'SNOQUALMIE', 'VASHON', 'WOODINVILLE'\n",
    "            ]"
   ]
  },
  {
   "cell_type": "code",
   "execution_count": 68,
   "metadata": {
    "collapsed": false
   },
   "outputs": [],
   "source": [
    "# Fix the prefix \n",
    "for i in range (len(test)): \n",
    "    if test['PREFIX'][i] not in list_prefix: \n",
    "        # move the value into next column \n",
    "        test.loc[i:i,['PREFIX', 'STRNAME', 'STRTYPE', 'SUFFIX', 'UNIT_BLD']] = test.loc[i:i,['PREFIX', 'STRNAME', 'STRTYPE', 'SUFFIX', 'UNIT_BLD']].shift(1,axis=1)\n",
    "    else:\n",
    "        continue "
   ]
  },
  {
   "cell_type": "code",
   "execution_count": 69,
   "metadata": {
    "collapsed": false
   },
   "outputs": [
    {
     "name": "stderr",
     "output_type": "stream",
     "text": [
      "c:\\anaconda\\lib\\site-packages\\ipykernel\\__main__.py:7: SettingWithCopyWarning: \n",
      "A value is trying to be set on a copy of a slice from a DataFrame\n",
      "\n",
      "See the caveats in the documentation: http://pandas.pydata.org/pandas-docs/stable/indexing.html#indexing-view-versus-copy\n"
     ]
    }
   ],
   "source": [
    "# use ['SUFFIX'] as the base to inspect the row # data, QA/QC street name and unit building name.\n",
    "for i in range(len(test)): \n",
    "    #print test['SUFFIX'][i]\n",
    "    if len(test[my_address][i].split()) > 4: \n",
    "        #print i \n",
    "        if str(test['SUFFIX'][i]) in street_type: \n",
    "            test['STRNAME'][i] = test['STRNAME'][i] + ' ' + test['STRTYPE'][i] \n",
    "            test.loc[i:i,['STRTYPE', 'SUFFIX', 'UNIT_BLD']] = test.loc[i:i,['STRTYPE', 'SUFFIX', 'UNIT_BLD']].shift(-1,axis=1)\n",
    "        else: \n",
    "            if str(test['SUFFIX'][i]) in list_suffix: # suffix is suffix\n",
    "                continue\n",
    "            if str(test['SUFFIX'][i]) in city_list: # city name in suffix\n",
    "                test.loc[i:i,['SUFFIX', 'UNIT_BLD']] = test.loc[i:i,['SUFFIX', 'UNIT_BLD']].shift(1,axis=1)\n",
    "            if str(test['SUFFIX'][i]) in ['WA']: # state name in suffix\n",
    "                test.loc[i:i,['SUFFIX', 'UNIT_BLD']] = tes1.loc[i:i,['SUFFIX', 'UNIT_BLD']].shift(2,axis=1)\n",
    "            if str(test['SUFFIX'][i])[0] == 9: # zipcode in suffix\n",
    "                test.loc[i:i,['SUFFIX', 'UNIT_BLD']] = test.loc[i:i,['SUFFIX', 'UNIT_BLD']].shift(2,axis=1)\n",
    "            else: #may be street name in suffix ? or nothing in suffix \n",
    "                #print test['ADDRESS'][i]\n",
    "                continue\n",
    "            #test.loc[i:i,['SUFFIX', 'UNIT_BLD']] = test.loc[i:i,['SUFFIX', 'UNIT_BLD']].shift(1,axis=1)\n",
    "    else: \n",
    "        continue "
   ]
  },
  {
   "cell_type": "code",
   "execution_count": 70,
   "metadata": {
    "collapsed": false
   },
   "outputs": [
    {
     "name": "stdout",
     "output_type": "stream",
     "text": [
      "[nan 'NE' 'SE' 'W']\n",
      "['' '102nd' '103rd' '104th' '105th' '106th' '107th' '108th' '109th' '111th'\n",
      " '112th' '113th' '117th' '120th' '121st' '123rd' '125th' '126th' '127th'\n",
      " '12th' '130th' '134th' '139th' '13th' '140th' '144th' '148th' '14th'\n",
      " '150th' '152nd' '153rd' '157th' '158th' '159th' '15th' '160th' '163rd'\n",
      " '164th' '166th' '168th' '169th' '16th' '170th' '171st' '173rd' '177th'\n",
      " '18th' '19th' '1st' '20th' '21st' '22nd' '23rd' '24th' '25th' '26th'\n",
      " '28th' '2nd' '30th' '31st' '33rd' '35th' '38th' '3rd' '43rd' '44th' '47th'\n",
      " '56th' '5th' '62nd' '64th' '67th' '6th' '96th' '97th' '98th' '99th' '9th'\n",
      " 'Allen' 'Bellevue' 'Cedar' 'Evergreen' 'Killarney' 'Lake Sammamish'\n",
      " 'Lake Washington' 'Landerholm' 'Main' 'Mallard' 'Shoreland' 'Skagit'\n",
      " 'Vineyard']\n",
      "['' 'Aly' 'Ave' 'Blvd' 'Cir' 'Crest' 'Crst' 'Ct' 'Dr' 'Ky' 'Ln' 'Pkwy' 'Pl'\n",
      " 'Rd' 'Rte' 'St' 'Ter' 'Way']\n",
      "['' 'Ln' 'NE' 'SE']\n",
      "[nan '']\n",
      "['']\n",
      "['']\n",
      "['']\n"
     ]
    },
    {
     "name": "stderr",
     "output_type": "stream",
     "text": [
      "c:\\anaconda\\lib\\site-packages\\numpy\\lib\\arraysetops.py:200: FutureWarning: numpy not_equal will not check object identity in the future. The comparison did not return the same result as suggested by the identity (`is`)) and will change.\n",
      "  flag = np.concatenate(([True], aux[1:] != aux[:-1]))\n"
     ]
    }
   ],
   "source": [
    "print np.unique(test[[ 'PREFIX']])\n",
    "print np.unique(test[[ 'STRNAME']])\n",
    "print np.unique(test[[ 'STRTYPE']])\n",
    "print np.unique(test[[ 'SUFFIX']])\n",
    "print np.unique(test[[ 'UNIT_BLD']])\n",
    "print np.unique(test[[ 'CITY']])\n",
    "print np.unique(test[[ 'STATE']])\n",
    "print np.unique(test[[ 'ZIP']])"
   ]
  },
  {
   "cell_type": "code",
   "execution_count": 75,
   "metadata": {
    "collapsed": false
   },
   "outputs": [],
   "source": [
    "test.to_csv(OUTPUT_PATH)"
   ]
  },
  {
   "cell_type": "code",
   "execution_count": null,
   "metadata": {
    "collapsed": true
   },
   "outputs": [],
   "source": []
  }
 ],
 "metadata": {
  "kernelspec": {
   "display_name": "Python 2",
   "language": "python",
   "name": "python2"
  },
  "language_info": {
   "codemirror_mode": {
    "name": "ipython",
    "version": 2
   },
   "file_extension": ".py",
   "mimetype": "text/x-python",
   "name": "python",
   "nbconvert_exporter": "python",
   "pygments_lexer": "ipython2",
   "version": "2.7.11"
  }
 },
 "nbformat": 4,
 "nbformat_minor": 2
}
