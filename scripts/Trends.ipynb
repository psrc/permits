{
 "cells": [
  {
   "cell_type": "code",
   "execution_count": 1,
   "metadata": {
    "collapsed": true
   },
   "outputs": [],
   "source": [
    "import pandas as pd\n",
    "import numpy as np"
   ]
  },
  {
   "cell_type": "code",
   "execution_count": 2,
   "metadata": {
    "collapsed": false
   },
   "outputs": [],
   "source": [
    "data_location = 'J:/Projects/Permits/MasterDatabase/csv/'"
   ]
  },
  {
   "cell_type": "code",
   "execution_count": 3,
   "metadata": {
    "collapsed": false
   },
   "outputs": [
    {
     "name": "stderr",
     "output_type": "stream",
     "text": [
      "c:\\anaconda\\lib\\site-packages\\IPython\\core\\interactiveshell.py:2717: DtypeWarning: Columns (16,17,18,21,27,30,32,42,44,47,48,50) have mixed types. Specify dtype option on import or set low_memory=False.\n",
      "  interactivity=interactivity, compiler=compiler, result=result)\n"
     ]
    }
   ],
   "source": [
    "data = pd.read_csv(data_location + 'REG1016PMT.csv')"
   ]
  },
  {
   "cell_type": "code",
   "execution_count": 4,
   "metadata": {
    "collapsed": false
   },
   "outputs": [
    {
     "data": {
      "text/plain": [
       "Index([u'uniqueID', u'SUBGROUP', u'REGEO', u'QCD', u'DELETE', u'CHECK',\n",
       "       u'PROJYEAR', u'PSRCID', u'PSRCIDXY', u'MULTIREC', u'PERMITNO', u'SORT',\n",
       "       u'CNTY', u'MULTICNTY', u'PLC', u'JURIS', u'PLCNOTE', u'PIN',\n",
       "       u'PIN_PARENT', u'STR16', u'ADDRESS', u'HOUSENO', u'PREFIX', u'STRNAME',\n",
       "       u'STRTYPE', u'SUFFIX', u'UNIT_BLD', u'ZIP', u'ISSUED', u'FINALED',\n",
       "       u'OTHER_DT', u'STATUS', u'TYPE', u'PS', u'UNITS', u'BLDGS', u'LANDUSE',\n",
       "       u'CONDO', u'VALUE', u'ZONING', u'X_COORD', u'Y_COORD', u'RUNTYPE',\n",
       "       u'NOTES', u'NOTES2', u'NOTES3', u'NOTES4', u'NOTES5', u'NOTES6',\n",
       "       u'Month', u'SUBAREA', u'TYPE2', u'TYPE3', u'TYPE4', u'PS2',\n",
       "       u'ISSUEDYEAR', u'LOTSIZE', u'JURIS16', u'PLC16', u'TRACT10', u'TRACTID',\n",
       "       u'BLKGRPID', u'BLOCKID', u'TAZ10', u'TAZ4K', u'FAZ10', u'UGA16'],\n",
       "      dtype='object')"
      ]
     },
     "execution_count": 4,
     "metadata": {},
     "output_type": "execute_result"
    }
   ],
   "source": [
    "data.columns"
   ]
  },
  {
   "cell_type": "markdown",
   "metadata": {},
   "source": [
    "Clean Data"
   ]
  },
  {
   "cell_type": "code",
   "execution_count": 5,
   "metadata": {
    "collapsed": false
   },
   "outputs": [],
   "source": [
    "data = data[(data['PS'] != 1) & (data['PS'] != 2) & (data['PS'] != 4)]"
   ]
  },
  {
   "cell_type": "code",
   "execution_count": 8,
   "metadata": {
    "collapsed": true
   },
   "outputs": [],
   "source": [
    "data = data[(data['TYPE4'] != 'GQ') & (data['TYPE4'] != 'TL') & (data['TYPE4'] != '???') & (data['TYPE4'] != '')]"
   ]
  },
  {
   "cell_type": "markdown",
   "metadata": {},
   "source": [
    "Region Data"
   ]
  },
  {
   "cell_type": "code",
   "execution_count": 10,
   "metadata": {
    "collapsed": false
   },
   "outputs": [
    {
     "name": "stdout",
     "output_type": "stream",
     "text": [
      "5699.0\n",
      "5499.0\n",
      "7241.0\n",
      "7609.0\n",
      "7016.0\n",
      "7444.0\n",
      "7864.0\n"
     ]
    }
   ],
   "source": [
    "# Region Single Family Data from 2010 to 2016\n",
    "for year in [2010, 2011, 2012, 2013, 2014, 2015, 2016]:\n",
    "    my_data = data[data['ISSUEDYEAR'] == year]\n",
    "    sf_units = my_data[my_data['TYPE2'] == 'SF']['UNITS'].sum()\n",
    "    print sf_units "
   ]
  },
  {
   "cell_type": "code",
   "execution_count": 11,
   "metadata": {
    "collapsed": false
   },
   "outputs": [
    {
     "name": "stdout",
     "output_type": "stream",
     "text": [
      "4955.0\n",
      "7055.0\n",
      "11938.0\n",
      "12081.0\n",
      "14536.0\n",
      "18762.0\n",
      "16137.0\n"
     ]
    }
   ],
   "source": [
    "# Region Multi-Family Data from 2010 to 2016\n",
    "for year in [2010, 2011, 2012, 2013, 2014, 2015, 2016]:\n",
    "    my_data = data[data['ISSUEDYEAR'] == year]\n",
    "    sf_units = my_data[my_data['TYPE2'] == 'MF']['UNITS'].sum()\n",
    "    print sf_units "
   ]
  },
  {
   "cell_type": "code",
   "execution_count": 12,
   "metadata": {
    "collapsed": false
   },
   "outputs": [
    {
     "name": "stdout",
     "output_type": "stream",
     "text": [
      "9.0\n",
      "15.0\n",
      "-12.0\n",
      "-8.0\n",
      "-139.0\n",
      "26.0\n",
      "72.0\n"
     ]
    }
   ],
   "source": [
    "# Region Mobile Home/Other from 2010 to2016\n",
    "for year in [2010, 2011, 2012, 2013, 2014, 2015, 2016]:\n",
    "    my_data = data[data['ISSUEDYEAR'] == year]\n",
    "    sf_units = my_data[my_data['TYPE2'] == 'MH']['UNITS'].sum()\n",
    "    print sf_units "
   ]
  },
  {
   "cell_type": "code",
   "execution_count": 13,
   "metadata": {
    "collapsed": false
   },
   "outputs": [
    {
     "name": "stdout",
     "output_type": "stream",
     "text": [
      "10663.0\n",
      "12567.0\n",
      "19168.0\n",
      "19682.0\n",
      "21416.0\n",
      "26233.0\n",
      "24072.0\n"
     ]
    }
   ],
   "source": [
    "# Region Net Total Units from 1020 to 2016\n",
    "for year in [2010, 2011, 2012, 2013, 2014, 2015, 2016]:\n",
    "    my_data = data[data['ISSUEDYEAR'] == year]\n",
    "    sf_units = my_data['UNITS'].sum()\n",
    "    print sf_units "
   ]
  },
  {
   "cell_type": "code",
   "execution_count": 16,
   "metadata": {
    "collapsed": false
   },
   "outputs": [
    {
     "name": "stdout",
     "output_type": "stream",
     "text": [
      "[ 0.  3.  5.  6.  7.  8.]\n",
      "[33 35 53 61]\n",
      "[0 1]\n"
     ]
    }
   ],
   "source": [
    "print np.unique(my_data['PS'])\n",
    "print np.unique(my_data['CNTY'])\n",
    "print np.unique(my_data['MULTICNTY'])"
   ]
  },
  {
   "cell_type": "markdown",
   "metadata": {},
   "source": [
    "Four Counties Data"
   ]
  },
  {
   "cell_type": "code",
   "execution_count": 15,
   "metadata": {
    "collapsed": true
   },
   "outputs": [],
   "source": [
    "CNTY = [33, 35, 53, 61] # KING, Kitsap, Pierce, Snohomish"
   ]
  },
  {
   "cell_type": "code",
   "execution_count": 21,
   "metadata": {
    "collapsed": false,
    "scrolled": false
   },
   "outputs": [
    {
     "name": "stdout",
     "output_type": "stream",
     "text": [
      "year: 2010\n",
      "total: 10663.0\n",
      "-- 33 county --\n",
      "6296.0\n",
      "-- 35 county --\n",
      "332.0\n",
      "-- 53 county --\n",
      "1821.0\n",
      "-- 61 county --\n",
      "2214.0\n",
      "-----------------------\n",
      "year: 2011\n",
      "total: 12567.0\n",
      "-- 33 county --\n",
      "6936.0\n",
      "-- 35 county --\n",
      "224.0\n",
      "-- 53 county --\n",
      "2851.0\n",
      "-- 61 county --\n",
      "2556.0\n",
      "-----------------------\n",
      "year: 2012\n",
      "total: 19168.0\n",
      "-- 33 county --\n",
      "12327.0\n",
      "-- 35 county --\n",
      "609.0\n",
      "-- 53 county --\n",
      "2587.0\n",
      "-- 61 county --\n",
      "3645.0\n",
      "-----------------------\n",
      "year: 2013\n",
      "total: 19682.0\n",
      "-- 33 county --\n",
      "12339.0\n",
      "-- 35 county --\n",
      "753.0\n",
      "-- 53 county --\n",
      "2629.0\n",
      "-- 61 county --\n",
      "3961.0\n",
      "-----------------------\n",
      "year: 2014\n",
      "total: 21416.0\n",
      "-- 33 county --\n",
      "14148.0\n",
      "-- 35 county --\n",
      "445.0\n",
      "-- 53 county --\n",
      "3562.0\n",
      "-- 61 county --\n",
      "3261.0\n",
      "-----------------------\n",
      "year: 2015\n",
      "total: 26233.0\n",
      "-- 33 county --\n",
      "18638.0\n",
      "-- 35 county --\n",
      "759.0\n",
      "-- 53 county --\n",
      "2785.0\n",
      "-- 61 county --\n",
      "4051.0\n",
      "-----------------------\n",
      "year: 2016\n",
      "total: 24072.0\n",
      "-- 33 county --\n",
      "16147.0\n",
      "-- 35 county --\n",
      "607.0\n",
      "-- 53 county --\n",
      "3431.0\n",
      "-- 61 county --\n",
      "3887.0\n",
      "-----------------------\n"
     ]
    }
   ],
   "source": [
    "# Total unit numbers for counties \n",
    "for year in [2010, 2011, 2012, 2013, 2014, 2015, 2016]:\n",
    "    my_data = data[data['ISSUEDYEAR'] == year]\n",
    "    print 'year:', year\n",
    "    print 'total:', my_data['UNITS'].sum()\n",
    "    for my_cnty in CNTY:\n",
    "        #print my_cnty\n",
    "        my_data2 = my_data[my_data['CNTY'] == my_cnty]\n",
    "        print '--', my_cnty, 'county', '--'\n",
    "        my_units2 = my_data2['UNITS'].sum()\n",
    "        print my_units2\n",
    "    print '-----------------------'"
   ]
  },
  {
   "cell_type": "code",
   "execution_count": 23,
   "metadata": {
    "collapsed": false,
    "scrolled": false
   },
   "outputs": [
    {
     "name": "stdout",
     "output_type": "stream",
     "text": [
      "2010\n",
      "total units: 10663.0\n",
      "SF +++++++++\n",
      "1953.0\n",
      "MF +++++++++\n",
      "4355.0\n",
      "MH +++++++++\n",
      "-12.0\n",
      "-----------------------\n",
      "2011\n",
      "total units: 12567.0\n",
      "SF +++++++++\n",
      "2048.0\n",
      "MF +++++++++\n",
      "4888.0\n",
      "MH +++++++++\n",
      "1.0\n",
      "-----------------------\n",
      "2012\n",
      "total units: 19168.0\n",
      "SF +++++++++\n",
      "2931.0\n",
      "MF +++++++++\n",
      "9401.0\n",
      "MH +++++++++\n",
      "-7.0\n",
      "-----------------------\n",
      "2013\n",
      "total units: 19682.0\n",
      "SF +++++++++\n",
      "3149.0\n",
      "MF +++++++++\n",
      "9199.0\n",
      "MH +++++++++\n",
      "-9.0\n",
      "-----------------------\n",
      "2014\n",
      "total units: 21416.0\n",
      "SF +++++++++\n",
      "2738.0\n",
      "MF +++++++++\n",
      "11507.0\n",
      "MH +++++++++\n",
      "-101.0\n",
      "-----------------------\n",
      "2015\n",
      "total units: 26233.0\n",
      "SF +++++++++\n",
      "2717.0\n",
      "MF +++++++++\n",
      "15942.0\n",
      "MH +++++++++\n",
      "-22.0\n",
      "-----------------------\n",
      "2016\n",
      "total units: 24072.0\n",
      "SF +++++++++\n",
      "2744.0\n",
      "MF +++++++++\n",
      "13410.0\n",
      "MH +++++++++\n",
      "-6.0\n",
      "-----------------------\n"
     ]
    }
   ],
   "source": [
    "# King County break fown on SF, MF, MH \n",
    "for year in [2010, 2011, 2012, 2013, 2014, 2015, 2016]:\n",
    "    my_data = data[data['ISSUEDYEAR'] == year]\n",
    "    print year\n",
    "    print 'total units:', my_data['UNITS'].sum()\n",
    "    my_data2 = my_data[my_data['CNTY'] == 33]\n",
    "    for my_type in ['SF', 'MF', 'MH']:\n",
    "            print my_type, '+++++++++'\n",
    "            my_data3 = my_data2[my_data2['TYPE2'] == my_type]\n",
    "            my_units3 = my_data3['UNITS'].sum()\n",
    "            print my_units3\n",
    "            \n",
    "    print '-----------------------'"
   ]
  },
  {
   "cell_type": "code",
   "execution_count": 24,
   "metadata": {
    "collapsed": false
   },
   "outputs": [
    {
     "name": "stdout",
     "output_type": "stream",
     "text": [
      "2010\n",
      "total units: 10663.0\n",
      "SF +++++++++\n",
      "319.0\n",
      "MF +++++++++\n",
      "14.0\n",
      "MH +++++++++\n",
      "-1.0\n",
      "-----------------------\n",
      "2011\n",
      "total units: 12567.0\n",
      "SF +++++++++\n",
      "278.0\n",
      "MF +++++++++\n",
      "-60.0\n",
      "MH +++++++++\n",
      "6.0\n",
      "-----------------------\n",
      "2012\n",
      "total units: 19168.0\n",
      "SF +++++++++\n",
      "483.0\n",
      "MF +++++++++\n",
      "127.0\n",
      "MH +++++++++\n",
      "-1.0\n",
      "-----------------------\n",
      "2013\n",
      "total units: 19682.0\n",
      "SF +++++++++\n",
      "502.0\n",
      "MF +++++++++\n",
      "254.0\n",
      "MH +++++++++\n",
      "-3.0\n",
      "-----------------------\n",
      "2014\n",
      "total units: 21416.0\n",
      "SF +++++++++\n",
      "368.0\n",
      "MF +++++++++\n",
      "76.0\n",
      "MH +++++++++\n",
      "2.0\n",
      "-----------------------\n",
      "2015\n",
      "total units: 26233.0\n",
      "SF +++++++++\n",
      "587.0\n",
      "MF +++++++++\n",
      "169.0\n",
      "MH +++++++++\n",
      "3.0\n",
      "-----------------------\n",
      "2016\n",
      "total units: 24072.0\n",
      "SF +++++++++\n",
      "532.0\n",
      "MF +++++++++\n",
      "66.0\n",
      "MH +++++++++\n",
      "9.0\n",
      "-----------------------\n"
     ]
    }
   ],
   "source": [
    "# Kistsap County break fown on SF, MF, MH \n",
    "for year in [2010, 2011, 2012, 2013, 2014, 2015, 2016]:\n",
    "    my_data = data[data['ISSUEDYEAR'] == year]\n",
    "    print year\n",
    "    print 'total units:', my_data['UNITS'].sum()\n",
    "    my_data2 = my_data[my_data['CNTY'] == 35]\n",
    "    for my_type in ['SF', 'MF', 'MH']:\n",
    "            print my_type, '+++++++++'\n",
    "            my_data3 = my_data2[my_data2['TYPE2'] == my_type]\n",
    "            my_units3 = my_data3['UNITS'].sum()\n",
    "            print my_units3\n",
    "            \n",
    "    print '-----------------------'"
   ]
  },
  {
   "cell_type": "code",
   "execution_count": 25,
   "metadata": {
    "collapsed": false
   },
   "outputs": [
    {
     "name": "stdout",
     "output_type": "stream",
     "text": [
      "2010\n",
      "total units: 10663.0\n",
      "SF +++++++++\n",
      "1559.0\n",
      "MF +++++++++\n",
      "261.0\n",
      "MH +++++++++\n",
      "1.0\n",
      "-----------------------\n",
      "2011\n",
      "total units: 12567.0\n",
      "SF +++++++++\n",
      "1381.0\n",
      "MF +++++++++\n",
      "1470.0\n",
      "MH +++++++++\n",
      "1.0\n",
      "-----------------------\n",
      "2012\n",
      "total units: 19168.0\n",
      "SF +++++++++\n",
      "1777.0\n",
      "MF +++++++++\n",
      "806.0\n",
      "MH +++++++++\n",
      "5.0\n",
      "-----------------------\n",
      "2013\n",
      "total units: 19682.0\n",
      "SF +++++++++\n",
      "2212.0\n",
      "MF +++++++++\n",
      "432.0\n",
      "MH +++++++++\n",
      "-15.0\n",
      "-----------------------\n",
      "2014\n",
      "total units: 21416.0\n",
      "SF +++++++++\n",
      "2059.0\n",
      "MF +++++++++\n",
      "1554.0\n",
      "MH +++++++++\n",
      "-51.0\n",
      "-----------------------\n",
      "2015\n",
      "total units: 26233.0\n",
      "SF +++++++++\n",
      "1934.0\n",
      "MF +++++++++\n",
      "831.0\n",
      "MH +++++++++\n",
      "20.0\n",
      "-----------------------\n",
      "2016\n",
      "total units: 24072.0\n",
      "SF +++++++++\n",
      "2074.0\n",
      "MF +++++++++\n",
      "1317.0\n",
      "MH +++++++++\n",
      "40.0\n",
      "-----------------------\n"
     ]
    }
   ],
   "source": [
    "# Pierce County break fown on SF, MF, MH \n",
    "for year in [2010, 2011, 2012, 2013, 2014, 2015, 2016]:\n",
    "    my_data = data[data['ISSUEDYEAR'] == year]\n",
    "    print year\n",
    "    print 'total units:', my_data['UNITS'].sum()\n",
    "    my_data2 = my_data[my_data['CNTY'] == 53]\n",
    "    for my_type in ['SF', 'MF', 'MH']:\n",
    "            print my_type, '+++++++++'\n",
    "            my_data3 = my_data2[my_data2['TYPE2'] == my_type]\n",
    "            my_units3 = my_data3['UNITS'].sum()\n",
    "            print my_units3\n",
    "            \n",
    "    print '-----------------------'"
   ]
  },
  {
   "cell_type": "code",
   "execution_count": 26,
   "metadata": {
    "collapsed": false
   },
   "outputs": [
    {
     "name": "stdout",
     "output_type": "stream",
     "text": [
      "2010\n",
      "total units: 10663.0\n",
      "SF +++++++++\n",
      "1868.0\n",
      "MF +++++++++\n",
      "325.0\n",
      "MH +++++++++\n",
      "21.0\n",
      "-----------------------\n",
      "2011\n",
      "total units: 12567.0\n",
      "SF +++++++++\n",
      "1792.0\n",
      "MF +++++++++\n",
      "757.0\n",
      "MH +++++++++\n",
      "7.0\n",
      "-----------------------\n",
      "2012\n",
      "total units: 19168.0\n",
      "SF +++++++++\n",
      "2050.0\n",
      "MF +++++++++\n",
      "1604.0\n",
      "MH +++++++++\n",
      "-9.0\n",
      "-----------------------\n",
      "2013\n",
      "total units: 19682.0\n",
      "SF +++++++++\n",
      "1746.0\n",
      "MF +++++++++\n",
      "2196.0\n",
      "MH +++++++++\n",
      "19.0\n",
      "-----------------------\n",
      "2014\n",
      "total units: 21416.0\n",
      "SF +++++++++\n",
      "1851.0\n",
      "MF +++++++++\n",
      "1399.0\n",
      "MH +++++++++\n",
      "11.0\n",
      "-----------------------\n",
      "2015\n",
      "total units: 26233.0\n",
      "SF +++++++++\n",
      "2206.0\n",
      "MF +++++++++\n",
      "1820.0\n",
      "MH +++++++++\n",
      "25.0\n",
      "-----------------------\n",
      "2016\n",
      "total units: 24072.0\n",
      "SF +++++++++\n",
      "2514.0\n",
      "MF +++++++++\n",
      "1344.0\n",
      "MH +++++++++\n",
      "29.0\n",
      "-----------------------\n"
     ]
    }
   ],
   "source": [
    "#Snohomish County break fown on SF, MF, MH \n",
    "for year in [2010, 2011, 2012, 2013, 2014, 2015, 2016]:\n",
    "    my_data = data[data['ISSUEDYEAR'] == year]\n",
    "    print year\n",
    "    print 'total units:', my_data['UNITS'].sum()\n",
    "    my_data2 = my_data[my_data['CNTY'] == 61]\n",
    "    for my_type in ['SF', 'MF', 'MH']:\n",
    "            print my_type, '+++++++++'\n",
    "            my_data3 = my_data2[my_data2['TYPE2'] == my_type]\n",
    "            my_units3 = my_data3['UNITS'].sum()\n",
    "            print my_units3\n",
    "            \n",
    "    print '-----------------------'"
   ]
  },
  {
   "cell_type": "code",
   "execution_count": null,
   "metadata": {
    "collapsed": true
   },
   "outputs": [],
   "source": []
  }
 ],
 "metadata": {
  "kernelspec": {
   "display_name": "Python 2",
   "language": "python",
   "name": "python2"
  },
  "language_info": {
   "codemirror_mode": {
    "name": "ipython",
    "version": 2
   },
   "file_extension": ".py",
   "mimetype": "text/x-python",
   "name": "python",
   "nbconvert_exporter": "python",
   "pygments_lexer": "ipython2",
   "version": "2.7.11"
  }
 },
 "nbformat": 4,
 "nbformat_minor": 2
}
