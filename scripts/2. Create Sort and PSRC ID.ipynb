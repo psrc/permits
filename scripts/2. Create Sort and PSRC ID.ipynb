{
 "cells": [
  {
   "cell_type": "code",
   "execution_count": 1,
   "metadata": {
    "collapsed": false
   },
   "outputs": [
    {
     "data": {
      "text/plain": [
       "'C:\\\\Users\\\\Angela\\\\Documents\\\\GitHub\\\\Latest_Github\\\\permits\\\\scripts'"
      ]
     },
     "execution_count": 1,
     "metadata": {},
     "output_type": "execute_result"
    }
   ],
   "source": [
    "import pandas as pd \n",
    "import numpy as np\n",
    "import os\n",
    "os.getcwd()"
   ]
  },
  {
   "cell_type": "code",
   "execution_count": 3,
   "metadata": {
    "collapsed": true
   },
   "outputs": [],
   "source": [
    "working_dir = 'J:/Projects/Permits/17Permit/data/2working/finished_by_Binh/CSV/'"
   ]
  },
  {
   "cell_type": "code",
   "execution_count": 4,
   "metadata": {
    "collapsed": true
   },
   "outputs": [],
   "source": [
    "file_name = 'Bellevue_rawdata_Binh_address'"
   ]
  },
  {
   "cell_type": "code",
   "execution_count": 6,
   "metadata": {
    "collapsed": false
   },
   "outputs": [],
   "source": [
    "temp = pd.read_csv(working_dir + 'template.csv')\n",
    "raw_data = pd.read_csv(working_dir + file_name + '.csv')"
   ]
  },
  {
   "cell_type": "code",
   "execution_count": 7,
   "metadata": {
    "collapsed": true
   },
   "outputs": [],
   "source": [
    "test2 = raw_data"
   ]
  },
  {
   "cell_type": "code",
   "execution_count": 10,
   "metadata": {
    "collapsed": false
   },
   "outputs": [
    {
     "data": {
      "text/plain": [
       "Index([u'Unnamed: 0', u'PERMITID #', u'PROJECT NAME', u'TAX PARCEL ID #',\n",
       "       u'SITE ADDRESS', u'SITE ZIPCODE', u'ISSUE DATE', u'FINAL DATE',\n",
       "       u'PERMIT STATUS', u'# OF UNITS', u'# OF BUILDINGS', u'ESTIMATED VALUE',\n",
       "       u'CONDO', u'LOT AREA/SIZE', u'ZONING CODE', u'WORK DESCRIPTION',\n",
       "       u'STRUCTURE TYPE', u'PERMIT ACTIVITY', u'LAND USE', u'Delete (-1, 0)',\n",
       "       u'quick note (why delete)', u'# of Units', u'Condo (yes/no)', u'PS',\n",
       "       u'TYPE', u'TYPE2', u'HOUSENO', u'PREFIX', u'STRNAME', u'STRTYPE',\n",
       "       u'SUFFIX', u'UNIT_BLD', u'CITY', u'STATE', u'ZIP'],\n",
       "      dtype='object')"
      ]
     },
     "execution_count": 10,
     "metadata": {},
     "output_type": "execute_result"
    }
   ],
   "source": [
    "test2.columns"
   ]
  },
  {
   "cell_type": "code",
   "execution_count": null,
   "metadata": {
    "collapsed": true
   },
   "outputs": [],
   "source": [
    "test2['SORT'] = ''\n",
    "for i in range(len(test2)): \n",
    "    p = test2['Permit ID#'][i]\n",
    "    p1 = '2017' + p[:5] + '0' + p[-4:]\n",
    "    test2['SORT'][i] = p1"
   ]
  },
  {
   "cell_type": "code",
   "execution_count": null,
   "metadata": {
    "collapsed": true
   },
   "outputs": [],
   "source": []
  },
  {
   "cell_type": "code",
   "execution_count": null,
   "metadata": {
    "collapsed": true
   },
   "outputs": [],
   "source": []
  },
  {
   "cell_type": "code",
   "execution_count": null,
   "metadata": {
    "collapsed": true
   },
   "outputs": [],
   "source": []
  },
  {
   "cell_type": "code",
   "execution_count": null,
   "metadata": {
    "collapsed": true
   },
   "outputs": [],
   "source": []
  }
 ],
 "metadata": {
  "kernelspec": {
   "display_name": "Python 2",
   "language": "python",
   "name": "python2"
  },
  "language_info": {
   "codemirror_mode": {
    "name": "ipython",
    "version": 2
   },
   "file_extension": ".py",
   "mimetype": "text/x-python",
   "name": "python",
   "nbconvert_exporter": "python",
   "pygments_lexer": "ipython2",
   "version": "2.7.11"
  }
 },
 "nbformat": 4,
 "nbformat_minor": 2
}
