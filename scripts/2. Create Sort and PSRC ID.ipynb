{
 "cells": [
  {
   "cell_type": "code",
   "execution_count": 79,
   "metadata": {
    "collapsed": false
   },
   "outputs": [
    {
     "data": {
      "text/plain": [
       "'C:\\\\Users\\\\Angela\\\\Documents\\\\GitHub\\\\Latest_Github\\\\permits\\\\scripts'"
      ]
     },
     "execution_count": 79,
     "metadata": {},
     "output_type": "execute_result"
    }
   ],
   "source": [
    "import pandas as pd \n",
    "import numpy as np\n",
    "import os\n",
    "os.getcwd()"
   ]
  },
  {
   "cell_type": "code",
   "execution_count": 86,
   "metadata": {
    "collapsed": true
   },
   "outputs": [],
   "source": [
    "DIR = 'J:\\Projects\\Permits'\n",
    "PERMIT_DIR = '17Permit\\data\\working'\n",
    "STEP = 'step2'\n",
    "INPUT = 'SETP1_OUTPUT.csv'\n",
    "OUTPUT = 'SETP2_OUTPUT.csv'"
   ]
  },
  {
   "cell_type": "code",
   "execution_count": 87,
   "metadata": {
    "collapsed": true
   },
   "outputs": [],
   "source": [
    "INPUT_PATH = os.path.join(DIR, PERMIT_DIR, STEP, INPUT )\n",
    "OUTPUT_PATH = os.path.join(DIR, PERMIT_DIR, STEP, OUTPUT )\n",
    "TEMP_PATH = os.path.join(DIR, PERMIT_DIR, 'template.csv')"
   ]
  },
  {
   "cell_type": "code",
   "execution_count": 97,
   "metadata": {
    "collapsed": false
   },
   "outputs": [
    {
     "data": {
      "text/plain": [
       "'J:\\\\Projects\\\\Permits\\\\17Permit\\\\data\\\\working\\\\step2\\\\SETP2_OUTPUT.csv'"
      ]
     },
     "execution_count": 97,
     "metadata": {},
     "output_type": "execute_result"
    }
   ],
   "source": [
    "OUTPUT_PATH"
   ]
  },
  {
   "cell_type": "code",
   "execution_count": null,
   "metadata": {
    "collapsed": true
   },
   "outputs": [],
   "source": [
    "temp = pd.read_csv(TEMP_PATH)\n",
    "permit_data = pd.read_csv(INPUT_PATH)"
   ]
  },
  {
   "cell_type": "code",
   "execution_count": 88,
   "metadata": {
    "collapsed": true
   },
   "outputs": [],
   "source": [
    "test2 = raw_data"
   ]
  },
  {
   "cell_type": "code",
   "execution_count": 89,
   "metadata": {
    "collapsed": false
   },
   "outputs": [
    {
     "data": {
      "text/plain": [
       "Index([u'Unnamed: 0', u'PERMITID #', u'PROJECT NAME', u'TAX PARCEL ID #',\n",
       "       u'SITE ADDRESS', u'SITE ZIPCODE', u'ISSUE DATE', u'FINAL DATE',\n",
       "       u'PERMIT STATUS', u'# OF UNITS', u'# OF BUILDINGS', u'ESTIMATED VALUE',\n",
       "       u'CONDO', u'LOT AREA/SIZE', u'ZONING CODE', u'WORK DESCRIPTION',\n",
       "       u'STRUCTURE TYPE', u'PERMIT ACTIVITY', u'LAND USE', u'Delete (-1, 0)',\n",
       "       u'quick note (why delete)', u'# of Units', u'Condo (yes/no)', u'PS',\n",
       "       u'TYPE', u'TYPE2', u'HOUSENO', u'PREFIX', u'STRNAME', u'STRTYPE',\n",
       "       u'SUFFIX', u'UNIT_BLD', u'CITY', u'STATE', u'ZIP', u'SORT'],\n",
       "      dtype='object')"
      ]
     },
     "execution_count": 89,
     "metadata": {},
     "output_type": "execute_result"
    }
   ],
   "source": [
    "test2.columns"
   ]
  },
  {
   "cell_type": "code",
   "execution_count": 94,
   "metadata": {
    "collapsed": false
   },
   "outputs": [
    {
     "data": {
      "text/plain": [
       "Index([u'PSRCIDN', u'PERMITNO', u'SORT', u'MULTIREC', u'PIN', u'ADDRESS',\n",
       "       u'HOUSENO', u'PREFIX', u'STRNAME', u'STRTYPE', u'SUFFIX', u'UNIT_BLD',\n",
       "       u'ZIP', u'ISSUED', u'FINALED', u'STATUS', u'TYPE', u'PS', u'UNITS',\n",
       "       u'BLDGS', u'LANDUSE', u'CONDO', u'VALUE', u'ZONING', u'NOTES',\n",
       "       u'NOTES2', u'NOTES3', u'NOTES4', u'NOTES5', u'NOTES6', u'NOTES7',\n",
       "       u'LOTSIZE', u'PIN_PARENT'],\n",
       "      dtype='object')"
      ]
     },
     "execution_count": 94,
     "metadata": {},
     "output_type": "execute_result"
    }
   ],
   "source": [
    "temp.columns"
   ]
  },
  {
   "cell_type": "code",
   "execution_count": 90,
   "metadata": {
    "collapsed": false
   },
   "outputs": [
    {
     "data": {
      "text/plain": [
       "0    16 128318 LX\n",
       "1    16 125842 LX\n",
       "2    15 126054 LX\n",
       "3    16 145714 LX\n",
       "4    16 126014 LX\n",
       "Name: PERMITID #, dtype: object"
      ]
     },
     "execution_count": 90,
     "metadata": {},
     "output_type": "execute_result"
    }
   ],
   "source": [
    "test2['PERMITID #'].head()"
   ]
  },
  {
   "cell_type": "code",
   "execution_count": 105,
   "metadata": {
    "collapsed": false,
    "scrolled": true
   },
   "outputs": [
    {
     "name": "stderr",
     "output_type": "stream",
     "text": [
      "c:\\anaconda\\lib\\site-packages\\ipykernel\\__main__.py:5: SettingWithCopyWarning: \n",
      "A value is trying to be set on a copy of a slice from a DataFrame\n",
      "\n",
      "See the caveats in the documentation: http://pandas.pydata.org/pandas-docs/stable/indexing.html#indexing-view-versus-copy\n"
     ]
    }
   ],
   "source": [
    "test2['SORT'] = ''\n",
    "for i in range(len(test2)): \n",
    "    p = str(test2['PERMITID #'][i])\n",
    "    p1 = '20' + p[0:2] + '-' + p[3:9] \n",
    "    test2['SORT'][i] = p1"
   ]
  },
  {
   "cell_type": "code",
   "execution_count": 106,
   "metadata": {
    "collapsed": false
   },
   "outputs": [
    {
     "data": {
      "text/plain": [
       "0    2016-128318\n",
       "1    2016-125842\n",
       "2    2015-126054\n",
       "3    2016-145714\n",
       "4    2016-126014\n",
       "Name: SORT, dtype: object"
      ]
     },
     "execution_count": 106,
     "metadata": {},
     "output_type": "execute_result"
    }
   ],
   "source": [
    "test2['SORT'].head()"
   ]
  },
  {
   "cell_type": "markdown",
   "metadata": {
    "collapsed": true
   },
   "source": [
    "# PSRC ID "
   ]
  },
  {
   "cell_type": "markdown",
   "metadata": {
    "collapsed": true
   },
   "source": [
    "The PSRC ID is generated in the end of coding process. "
   ]
  },
  {
   "cell_type": "code",
   "execution_count": 107,
   "metadata": {
    "collapsed": true
   },
   "outputs": [],
   "source": [
    "test2['PSRCIDN'] = ''\n",
    "test2['PERMITNO'] = ''"
   ]
  },
  {
   "cell_type": "code",
   "execution_count": 108,
   "metadata": {
    "collapsed": false
   },
   "outputs": [],
   "source": [
    "test2.to_csv(OUTPUT_PATH)"
   ]
  },
  {
   "cell_type": "code",
   "execution_count": 109,
   "metadata": {
    "collapsed": false
   },
   "outputs": [
    {
     "name": "stdout",
     "output_type": "stream",
     "text": [
      "Step2 End\n"
     ]
    }
   ],
   "source": [
    "print 'Step2 End'"
   ]
  },
  {
   "cell_type": "code",
   "execution_count": null,
   "metadata": {
    "collapsed": true
   },
   "outputs": [],
   "source": []
  }
 ],
 "metadata": {
  "kernelspec": {
   "display_name": "Python 2",
   "language": "python",
   "name": "python2"
  },
  "language_info": {
   "codemirror_mode": {
    "name": "ipython",
    "version": 2
   },
   "file_extension": ".py",
   "mimetype": "text/x-python",
   "name": "python",
   "nbconvert_exporter": "python",
   "pygments_lexer": "ipython2",
   "version": "2.7.11"
  }
 },
 "nbformat": 4,
 "nbformat_minor": 2
}
