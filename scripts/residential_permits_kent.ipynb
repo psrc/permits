{
 "cells": [
  {
   "cell_type": "markdown",
   "metadata": {
    "collapsed": true
   },
   "source": [
    "This script is convert raw residential permit data to import ready PSRC data "
   ]
  },
  {
   "cell_type": "code",
   "execution_count": 11,
   "metadata": {
    "collapsed": false
   },
   "outputs": [
    {
     "data": {
      "text/plain": [
       "'C:\\\\Users\\\\Angela\\\\Documents\\\\GitHub\\\\Latest_Github\\\\permits\\\\scripts'"
      ]
     },
     "execution_count": 11,
     "metadata": {},
     "output_type": "execute_result"
    }
   ],
   "source": [
    "import pandas as pd \n",
    "import numpy as np\n",
    "import os\n",
    "os.getcwd()"
   ]
  },
  {
   "cell_type": "code",
   "execution_count": 12,
   "metadata": {
    "collapsed": false
   },
   "outputs": [],
   "source": [
    "working_dir = 'J:/Projects/Permits/17Permit/data/2working/'"
   ]
  },
  {
   "cell_type": "code",
   "execution_count": 13,
   "metadata": {
    "collapsed": false
   },
   "outputs": [],
   "source": [
    "temp = pd.read_csv(working_dir + 'template.csv')\n",
    "raw_data = pd.read_csv(working_dir + 'KENT.csv')"
   ]
  },
  {
   "cell_type": "code",
   "execution_count": 14,
   "metadata": {
    "collapsed": false
   },
   "outputs": [
    {
     "data": {
      "text/plain": [
       "Index([u'PSRCIDN', u'PERMITNO', u'SORT', u'MULTIREC', u'PIN', u'ADDRESS',\n",
       "       u'HOUSENO', u'PREFIX', u'STRNAME', u'STRTYPE', u'SUFFIX', u'UNIT_BLD',\n",
       "       u'ZIP', u'ISSUED', u'FINALED', u'STATUS', u'TYPE', u'PS', u'UNITS',\n",
       "       u'BLDGS', u'LANDUSE', u'CONDO', u'VALUE', u'ZONING', u'NOTES',\n",
       "       u'NOTES2', u'NOTES3', u'NOTES4', u'NOTES5', u'NOTES6', u'NOTES7',\n",
       "       u'LOTSIZE', u'PIN_PARENT'],\n",
       "      dtype='object')"
      ]
     },
     "execution_count": 14,
     "metadata": {},
     "output_type": "execute_result"
    }
   ],
   "source": [
    "temp.columns"
   ]
  },
  {
   "cell_type": "code",
   "execution_count": 15,
   "metadata": {
    "collapsed": false
   },
   "outputs": [
    {
     "data": {
      "text/html": [
       "<div>\n",
       "<table border=\"1\" class=\"dataframe\">\n",
       "  <thead>\n",
       "    <tr style=\"text-align: right;\">\n",
       "      <th></th>\n",
       "      <th>Permit ID#</th>\n",
       "      <th>Project Name</th>\n",
       "      <th>Tax PID#</th>\n",
       "      <th>Site Address</th>\n",
       "      <th>Site ZipCode</th>\n",
       "      <th>Issue Date</th>\n",
       "      <th>Final Date</th>\n",
       "      <th>Status</th>\n",
       "      <th># of Units</th>\n",
       "      <th># of Buildings</th>\n",
       "      <th>Est. Value</th>\n",
       "      <th>Condo</th>\n",
       "      <th>Lot Area/Size</th>\n",
       "      <th>Zoning Code</th>\n",
       "      <th>Work Description</th>\n",
       "      <th>Structure Type</th>\n",
       "      <th>Permit Activity</th>\n",
       "      <th>Land Use</th>\n",
       "    </tr>\n",
       "  </thead>\n",
       "  <tbody>\n",
       "    <tr>\n",
       "      <th>0</th>\n",
       "      <td>CNST-2162979</td>\n",
       "      <td>REYNOLDS RESIDENCE - ADU</td>\n",
       "      <td>4030500130</td>\n",
       "      <td>13238 SE 261 ST</td>\n",
       "      <td>98042</td>\n",
       "      <td>11/18/2016</td>\n",
       "      <td>07/18/2017</td>\n",
       "      <td>DONE</td>\n",
       "      <td></td>\n",
       "      <td></td>\n",
       "      <td>$167.93</td>\n",
       "      <td></td>\n",
       "      <td>15,188</td>\n",
       "      <td>SR-6</td>\n",
       "      <td>CONSTRUCT DETACHED ADU WHICH WILL CONSIST OF 1...</td>\n",
       "      <td>ADU</td>\n",
       "      <td>Addition</td>\n",
       "      <td>Accessory Dwelling Unit</td>\n",
       "    </tr>\n",
       "    <tr>\n",
       "      <th>1</th>\n",
       "      <td>CNST-2161682</td>\n",
       "      <td>COUL RESIDENCE - ADU</td>\n",
       "      <td>1858600016</td>\n",
       "      <td>26412  106 AVE SE</td>\n",
       "      <td>98030</td>\n",
       "      <td>12/19/2016</td>\n",
       "      <td>11/28/2017</td>\n",
       "      <td>DONE</td>\n",
       "      <td></td>\n",
       "      <td></td>\n",
       "      <td>$0.00</td>\n",
       "      <td></td>\n",
       "      <td>6,869</td>\n",
       "      <td>SR-6</td>\n",
       "      <td>BUILDING, PLUMBING, MECHANICAL PERMIT         ...</td>\n",
       "      <td>ADU</td>\n",
       "      <td>Addition</td>\n",
       "      <td>Accessory Dwelling Unit</td>\n",
       "    </tr>\n",
       "  </tbody>\n",
       "</table>\n",
       "</div>"
      ],
      "text/plain": [
       "     Permit ID#              Project Name    Tax PID#        Site Address  \\\n",
       "0  CNST-2162979  REYNOLDS RESIDENCE - ADU  4030500130    13238 SE 261 ST    \n",
       "1  CNST-2161682      COUL RESIDENCE - ADU  1858600016  26412  106 AVE SE    \n",
       "\n",
       "   Site ZipCode   Issue Date   Final Date Status         # of Units  \\\n",
       "0         98042   11/18/2016   07/18/2017   DONE                      \n",
       "1         98030   12/19/2016   11/28/2017   DONE                      \n",
       "\n",
       "         # of Buildings Est. Value          Condo Lot Area/Size Zoning Code  \\\n",
       "0                          $167.93                      15,188         SR-6   \n",
       "1                            $0.00                       6,869         SR-6   \n",
       "\n",
       "                                    Work Description Structure Type  \\\n",
       "0  CONSTRUCT DETACHED ADU WHICH WILL CONSIST OF 1...            ADU   \n",
       "1  BUILDING, PLUMBING, MECHANICAL PERMIT         ...            ADU   \n",
       "\n",
       "  Permit Activity                 Land Use  \n",
       "0        Addition  Accessory Dwelling Unit  \n",
       "1        Addition  Accessory Dwelling Unit  "
      ]
     },
     "execution_count": 15,
     "metadata": {},
     "output_type": "execute_result"
    }
   ],
   "source": [
    "raw_data.head(2)"
   ]
  },
  {
   "cell_type": "code",
   "execution_count": 16,
   "metadata": {
    "collapsed": false
   },
   "outputs": [],
   "source": [
    "test1 = raw_data "
   ]
  },
  {
   "cell_type": "code",
   "execution_count": 17,
   "metadata": {
    "collapsed": true
   },
   "outputs": [],
   "source": [
    "# import the permit number and address column name \n",
    "my_permit_id = 'Permit ID#' #the column name for permit id from raw data\n",
    "my_address = 'Site Address'"
   ]
  },
  {
   "cell_type": "markdown",
   "metadata": {
    "collapsed": true
   },
   "source": [
    "# Sort "
   ]
  },
  {
   "cell_type": "markdown",
   "metadata": {},
   "source": [
    "Creat Sort ID by following previous format. The format could be different from city to city.  "
   ]
  },
  {
   "cell_type": "code",
   "execution_count": 18,
   "metadata": {
    "collapsed": false
   },
   "outputs": [
    {
     "name": "stderr",
     "output_type": "stream",
     "text": [
      "c:\\anaconda\\lib\\site-packages\\ipykernel\\__main__.py:5: SettingWithCopyWarning: \n",
      "A value is trying to be set on a copy of a slice from a DataFrame\n",
      "\n",
      "See the caveats in the documentation: http://pandas.pydata.org/pandas-docs/stable/indexing.html#indexing-view-versus-copy\n"
     ]
    }
   ],
   "source": [
    "test1['SORT'] = ''\n",
    "for i in range(len(test1)): \n",
    "    p = test1['Permit ID#'][i]\n",
    "    p1 = '2017' + p[:5] + '0' + p[-4:]\n",
    "    test1['SORT'][i] = p1"
   ]
  },
  {
   "cell_type": "code",
   "execution_count": 19,
   "metadata": {
    "collapsed": false
   },
   "outputs": [
    {
     "data": {
      "text/plain": [
       "0    2017CNST-02979\n",
       "1    2017CNST-01682\n",
       "2    2017CNST-04320\n",
       "3    2017CNST-01580\n",
       "4    2017CNST-01791\n",
       "Name: SORT, dtype: object"
      ]
     },
     "execution_count": 19,
     "metadata": {},
     "output_type": "execute_result"
    }
   ],
   "source": [
    "test1['SORT'].head()"
   ]
  },
  {
   "cell_type": "markdown",
   "metadata": {},
   "source": [
    "# Site Address"
   ]
  },
  {
   "cell_type": "markdown",
   "metadata": {},
   "source": [
    "split full address into ['HOUSENO', 'PREFIX', 'STRNAME', 'STRTYPE', 'SUFFIX', 'UNIT_BLD', 'CITY', 'STATE', 'ZIP'] columns"
   ]
  },
  {
   "cell_type": "code",
   "execution_count": 20,
   "metadata": {
    "collapsed": false
   },
   "outputs": [
    {
     "data": {
      "text/plain": [
       "0      13238 SE 261 ST \n",
       "1    26412  106 AVE SE \n",
       "2      24602  98 AVE S \n",
       "3       420 W SMITH ST \n",
       "4    3900  VETERANS DR \n",
       "5    3900  VETERANS DR \n",
       "6    3900  VETERANS DR \n",
       "7    3900  VETERANS DR \n",
       "8    3900  VETERANS DR \n",
       "9    3900  VETERANS DR \n",
       "Name: Site Address, dtype: object"
      ]
     },
     "execution_count": 20,
     "metadata": {},
     "output_type": "execute_result"
    }
   ],
   "source": [
    "test1[my_address].head(10)"
   ]
  },
  {
   "cell_type": "code",
   "execution_count": 21,
   "metadata": {
    "collapsed": false
   },
   "outputs": [],
   "source": [
    "col1 = ['HOUSENO', 'PREFIX', 'STRNAME', 'STRTYPE', 'SUFFIX', 'UNIT_BLD', 'CITY', 'STATE', 'ZIP']\n",
    "for c in col1:\n",
    "    test1[c] = ''"
   ]
  },
  {
   "cell_type": "code",
   "execution_count": 22,
   "metadata": {
    "collapsed": false
   },
   "outputs": [
    {
     "name": "stderr",
     "output_type": "stream",
     "text": [
      "c:\\anaconda\\lib\\site-packages\\ipykernel\\__main__.py:3: SettingWithCopyWarning: \n",
      "A value is trying to be set on a copy of a slice from a DataFrame\n",
      "\n",
      "See the caveats in the documentation: http://pandas.pydata.org/pandas-docs/stable/indexing.html#indexing-view-versus-copy\n",
      "  app.launch_new_instance()\n",
      "c:\\anaconda\\lib\\site-packages\\ipykernel\\__main__.py:7: SettingWithCopyWarning: \n",
      "A value is trying to be set on a copy of a slice from a DataFrame\n",
      "\n",
      "See the caveats in the documentation: http://pandas.pydata.org/pandas-docs/stable/indexing.html#indexing-view-versus-copy\n"
     ]
    }
   ],
   "source": [
    "# Roughly split full adress into columns, without QA/QC\n",
    "for i in range(len(test1)):\n",
    "    test1[my_address][i] = test1[my_address][i].replace(',', ' ')\n",
    "    address = test1[my_address][i].split()\n",
    "    if len(address) <= 9:\n",
    "        for j in range(len(address)): \n",
    "            test1[col1[j]][i] = address[j]\n",
    "    else: \n",
    "        print address \n",
    "        #for j in range(4): #why 4? already investigated (the default is 6)\n",
    "            #test1[col1[j]][i] = address[j+2]"
   ]
  },
  {
   "cell_type": "code",
   "execution_count": 23,
   "metadata": {
    "collapsed": false,
    "scrolled": false
   },
   "outputs": [
    {
     "data": {
      "text/html": [
       "<div>\n",
       "<table border=\"1\" class=\"dataframe\">\n",
       "  <thead>\n",
       "    <tr style=\"text-align: right;\">\n",
       "      <th></th>\n",
       "      <th>HOUSENO</th>\n",
       "      <th>PREFIX</th>\n",
       "      <th>STRNAME</th>\n",
       "      <th>STRTYPE</th>\n",
       "      <th>SUFFIX</th>\n",
       "      <th>UNIT_BLD</th>\n",
       "      <th>CITY</th>\n",
       "      <th>STATE</th>\n",
       "      <th>ZIP</th>\n",
       "    </tr>\n",
       "  </thead>\n",
       "  <tbody>\n",
       "    <tr>\n",
       "      <th>492</th>\n",
       "      <td>520</td>\n",
       "      <td>SCENIC</td>\n",
       "      <td>WAY</td>\n",
       "      <td>S</td>\n",
       "      <td></td>\n",
       "      <td></td>\n",
       "      <td></td>\n",
       "      <td></td>\n",
       "      <td></td>\n",
       "    </tr>\n",
       "    <tr>\n",
       "      <th>493</th>\n",
       "      <td>26215</td>\n",
       "      <td>143</td>\n",
       "      <td>AVE</td>\n",
       "      <td>SE</td>\n",
       "      <td></td>\n",
       "      <td></td>\n",
       "      <td></td>\n",
       "      <td></td>\n",
       "      <td></td>\n",
       "    </tr>\n",
       "    <tr>\n",
       "      <th>494</th>\n",
       "      <td>13927</td>\n",
       "      <td>SE</td>\n",
       "      <td>238</td>\n",
       "      <td>PL</td>\n",
       "      <td></td>\n",
       "      <td></td>\n",
       "      <td></td>\n",
       "      <td></td>\n",
       "      <td></td>\n",
       "    </tr>\n",
       "    <tr>\n",
       "      <th>495</th>\n",
       "      <td>12524</td>\n",
       "      <td>SE</td>\n",
       "      <td>264</td>\n",
       "      <td>ST</td>\n",
       "      <td></td>\n",
       "      <td></td>\n",
       "      <td></td>\n",
       "      <td></td>\n",
       "      <td></td>\n",
       "    </tr>\n",
       "    <tr>\n",
       "      <th>496</th>\n",
       "      <td>4520</td>\n",
       "      <td>S</td>\n",
       "      <td>220</td>\n",
       "      <td>ST</td>\n",
       "      <td></td>\n",
       "      <td></td>\n",
       "      <td></td>\n",
       "      <td></td>\n",
       "      <td></td>\n",
       "    </tr>\n",
       "    <tr>\n",
       "      <th>497</th>\n",
       "      <td>10208</td>\n",
       "      <td>SE</td>\n",
       "      <td>228</td>\n",
       "      <td>ST</td>\n",
       "      <td></td>\n",
       "      <td></td>\n",
       "      <td></td>\n",
       "      <td></td>\n",
       "      <td></td>\n",
       "    </tr>\n",
       "    <tr>\n",
       "      <th>498</th>\n",
       "      <td>635</td>\n",
       "      <td>CLEARVIEW</td>\n",
       "      <td>POINT</td>\n",
       "      <td></td>\n",
       "      <td></td>\n",
       "      <td></td>\n",
       "      <td></td>\n",
       "      <td></td>\n",
       "      <td></td>\n",
       "    </tr>\n",
       "    <tr>\n",
       "      <th>499</th>\n",
       "      <td>13523</td>\n",
       "      <td>SE</td>\n",
       "      <td>250</td>\n",
       "      <td>ST</td>\n",
       "      <td></td>\n",
       "      <td></td>\n",
       "      <td></td>\n",
       "      <td></td>\n",
       "      <td></td>\n",
       "    </tr>\n",
       "    <tr>\n",
       "      <th>500</th>\n",
       "      <td>14616</td>\n",
       "      <td>SE</td>\n",
       "      <td>284</td>\n",
       "      <td>ST</td>\n",
       "      <td></td>\n",
       "      <td></td>\n",
       "      <td></td>\n",
       "      <td></td>\n",
       "      <td></td>\n",
       "    </tr>\n",
       "    <tr>\n",
       "      <th>501</th>\n",
       "      <td>28235</td>\n",
       "      <td>104</td>\n",
       "      <td>AVE</td>\n",
       "      <td>SE</td>\n",
       "      <td></td>\n",
       "      <td></td>\n",
       "      <td></td>\n",
       "      <td></td>\n",
       "      <td></td>\n",
       "    </tr>\n",
       "    <tr>\n",
       "      <th>502</th>\n",
       "      <td>25124</td>\n",
       "      <td>132</td>\n",
       "      <td>AVE</td>\n",
       "      <td>SE</td>\n",
       "      <td></td>\n",
       "      <td></td>\n",
       "      <td></td>\n",
       "      <td></td>\n",
       "      <td></td>\n",
       "    </tr>\n",
       "    <tr>\n",
       "      <th>503</th>\n",
       "      <td>20510</td>\n",
       "      <td>93</td>\n",
       "      <td>PL</td>\n",
       "      <td>S</td>\n",
       "      <td></td>\n",
       "      <td></td>\n",
       "      <td></td>\n",
       "      <td></td>\n",
       "      <td></td>\n",
       "    </tr>\n",
       "    <tr>\n",
       "      <th>504</th>\n",
       "      <td>20610</td>\n",
       "      <td>93</td>\n",
       "      <td>PL</td>\n",
       "      <td>S</td>\n",
       "      <td></td>\n",
       "      <td></td>\n",
       "      <td></td>\n",
       "      <td></td>\n",
       "      <td></td>\n",
       "    </tr>\n",
       "    <tr>\n",
       "      <th>505</th>\n",
       "      <td>20609</td>\n",
       "      <td>93</td>\n",
       "      <td>PL</td>\n",
       "      <td>S</td>\n",
       "      <td></td>\n",
       "      <td></td>\n",
       "      <td></td>\n",
       "      <td></td>\n",
       "      <td></td>\n",
       "    </tr>\n",
       "    <tr>\n",
       "      <th>506</th>\n",
       "      <td>20602</td>\n",
       "      <td>93</td>\n",
       "      <td>PL</td>\n",
       "      <td>S</td>\n",
       "      <td></td>\n",
       "      <td></td>\n",
       "      <td></td>\n",
       "      <td></td>\n",
       "      <td></td>\n",
       "    </tr>\n",
       "    <tr>\n",
       "      <th>507</th>\n",
       "      <td>20616</td>\n",
       "      <td>93</td>\n",
       "      <td>PL</td>\n",
       "      <td>S</td>\n",
       "      <td></td>\n",
       "      <td></td>\n",
       "      <td></td>\n",
       "      <td></td>\n",
       "      <td></td>\n",
       "    </tr>\n",
       "    <tr>\n",
       "      <th>508</th>\n",
       "      <td>20615</td>\n",
       "      <td>93</td>\n",
       "      <td>PL</td>\n",
       "      <td>S</td>\n",
       "      <td></td>\n",
       "      <td></td>\n",
       "      <td></td>\n",
       "      <td></td>\n",
       "      <td></td>\n",
       "    </tr>\n",
       "    <tr>\n",
       "      <th>509</th>\n",
       "      <td>20703</td>\n",
       "      <td>93</td>\n",
       "      <td>PL</td>\n",
       "      <td>S</td>\n",
       "      <td></td>\n",
       "      <td></td>\n",
       "      <td></td>\n",
       "      <td></td>\n",
       "      <td></td>\n",
       "    </tr>\n",
       "    <tr>\n",
       "      <th>510</th>\n",
       "      <td>733</td>\n",
       "      <td>5</td>\n",
       "      <td>AVE</td>\n",
       "      <td>S</td>\n",
       "      <td></td>\n",
       "      <td></td>\n",
       "      <td></td>\n",
       "      <td></td>\n",
       "      <td></td>\n",
       "    </tr>\n",
       "    <tr>\n",
       "      <th>511</th>\n",
       "      <td>733</td>\n",
       "      <td>5</td>\n",
       "      <td>AVE</td>\n",
       "      <td>S</td>\n",
       "      <td></td>\n",
       "      <td></td>\n",
       "      <td></td>\n",
       "      <td></td>\n",
       "      <td></td>\n",
       "    </tr>\n",
       "  </tbody>\n",
       "</table>\n",
       "</div>"
      ],
      "text/plain": [
       "    HOUSENO     PREFIX STRNAME STRTYPE SUFFIX UNIT_BLD CITY STATE ZIP\n",
       "492     520     SCENIC     WAY       S                               \n",
       "493   26215        143     AVE      SE                               \n",
       "494   13927         SE     238      PL                               \n",
       "495   12524         SE     264      ST                               \n",
       "496    4520          S     220      ST                               \n",
       "497   10208         SE     228      ST                               \n",
       "498     635  CLEARVIEW   POINT                                       \n",
       "499   13523         SE     250      ST                               \n",
       "500   14616         SE     284      ST                               \n",
       "501   28235        104     AVE      SE                               \n",
       "502   25124        132     AVE      SE                               \n",
       "503   20510         93      PL       S                               \n",
       "504   20610         93      PL       S                               \n",
       "505   20609         93      PL       S                               \n",
       "506   20602         93      PL       S                               \n",
       "507   20616         93      PL       S                               \n",
       "508   20615         93      PL       S                               \n",
       "509   20703         93      PL       S                               \n",
       "510     733          5     AVE       S                               \n",
       "511     733          5     AVE       S                               "
      ]
     },
     "execution_count": 23,
     "metadata": {},
     "output_type": "execute_result"
    }
   ],
   "source": [
    "test1[['HOUSENO', 'PREFIX', 'STRNAME', 'STRTYPE', 'SUFFIX', 'UNIT_BLD', 'CITY', 'STATE', 'ZIP']][-20:]"
   ]
  },
  {
   "cell_type": "code",
   "execution_count": 24,
   "metadata": {
    "collapsed": false
   },
   "outputs": [
    {
     "data": {
      "text/plain": [
       "array(['', 'AVE', 'CT', 'KANGLEY', 'LN', 'N', 'PL', 'S', 'SE', 'ST', 'WAY'], dtype=object)"
      ]
     },
     "execution_count": 24,
     "metadata": {},
     "output_type": "execute_result"
    }
   ],
   "source": [
    "np.unique(test1[[ 'STRTYPE']])"
   ]
  },
  {
   "cell_type": "code",
   "execution_count": 25,
   "metadata": {
    "collapsed": false
   },
   "outputs": [
    {
     "data": {
      "text/plain": [
       "array(['192', '196', '197', '202', '204', '208', '212', '218', '219',\n",
       "       '220', '222', '227', '228', '229', '238', '240', '241', '242',\n",
       "       '243', '244', '245', '246', '248', '250', '251', '252', '253',\n",
       "       '255', '259', '260', '261', '264', '266', '267', '269', '270',\n",
       "       '272', '273', '276', '277', '278', '280', '284', '292', '293',\n",
       "       '294', '295', '297', 'ALDER', 'AVE', 'CT', 'DR', 'GUIBERSON', 'HWY',\n",
       "       'KENT', 'LN', 'NADEN', 'PL', 'POINT', 'RD', 'SMITH', 'ST', 'TITUS',\n",
       "       'WAY'], dtype=object)"
      ]
     },
     "execution_count": 25,
     "metadata": {},
     "output_type": "execute_result"
    }
   ],
   "source": [
    "np.unique(test1[[ 'STRNAME']])"
   ]
  },
  {
   "cell_type": "code",
   "execution_count": 26,
   "metadata": {
    "collapsed": true
   },
   "outputs": [],
   "source": [
    "list_prefix = ['S', 'SE', 'SW', 'W', 'NW', 'N','NE','E']\n",
    "list_suffix = ['S', 'SE', 'SW', 'W', 'NW', 'N','NE','E']"
   ]
  },
  {
   "cell_type": "code",
   "execution_count": 27,
   "metadata": {
    "collapsed": true
   },
   "outputs": [],
   "source": [
    "# Fix the prefix \n",
    "for i in range (len(test1)): \n",
    "    if test1['PREFIX'][i] not in list_prefix: \n",
    "        # move the value into next column \n",
    "        test1.loc[i:i,['PREFIX', 'STRNAME', 'STRTYPE', 'SUFFIX', 'UNIT_BLD']] = test1.loc[i:i,['PREFIX', 'STRNAME', 'STRTYPE', 'SUFFIX', 'UNIT_BLD']].shift(1,axis=1)\n",
    "    else:\n",
    "        continue "
   ]
  },
  {
   "cell_type": "code",
   "execution_count": 28,
   "metadata": {
    "collapsed": true
   },
   "outputs": [],
   "source": [
    "city_list = ['Auburn', 'AUBURN', 'RENTON', 'ENUMCLAW', 'Enumclaw', 'BEND', 'CARNATION', \n",
    "            'DUVALL', 'ISSAQUAH', 'Issaquah', 'KENT', 'King', 'PRESTON', 'RAVENSDALE',\n",
    "            'REDMOND', 'Renton', 'SAMMAMISH', 'SNOQUALMIE', 'VASHON', 'WOODINVILLE',\n",
    "            ]\n",
    "\n",
    "\n",
    "street_type = ['AVE', 'BLVD', 'CIR','CIRCLE','CROSSING', 'COVE', 'CT', 'DR', 'HWY', \n",
    "               'LN', 'LINE', 'LOOP', 'PL', 'RD', 'ROAD','Road','SHORE',\n",
    "               'ST', 'TRAIL', 'TRL',  'WAY']"
   ]
  },
  {
   "cell_type": "code",
   "execution_count": 29,
   "metadata": {
    "collapsed": true
   },
   "outputs": [],
   "source": [
    "backup_test1 = test1 # just in case, if I lost all data later "
   ]
  },
  {
   "cell_type": "code",
   "execution_count": 30,
   "metadata": {
    "collapsed": false,
    "scrolled": false
   },
   "outputs": [
    {
     "name": "stderr",
     "output_type": "stream",
     "text": [
      "c:\\anaconda\\lib\\site-packages\\ipykernel\\__main__.py:7: SettingWithCopyWarning: \n",
      "A value is trying to be set on a copy of a slice from a DataFrame\n",
      "\n",
      "See the caveats in the documentation: http://pandas.pydata.org/pandas-docs/stable/indexing.html#indexing-view-versus-copy\n"
     ]
    }
   ],
   "source": [
    "# use ['SUFFIX'] as the base to inspect the row # data, QA/QC street name and unit building name.\n",
    "for i in range(len(test1)): \n",
    "    #print test1['SUFFIX'][i]\n",
    "    if len(test1[my_address][i].split()) > 4: \n",
    "        #print i \n",
    "        if str(test1['SUFFIX'][i]) in street_type: \n",
    "            test1['STRNAME'][i] = test1['STRNAME'][i] + ' ' + test1['STRTYPE'][i] \n",
    "            test1.loc[i:i,['STRTYPE', 'SUFFIX', 'UNIT_BLD']] = test1.loc[i:i,['STRTYPE', 'SUFFIX', 'UNIT_BLD']].shift(-1,axis=1)\n",
    "        else: \n",
    "            if str(test1['SUFFIX'][i]) in list_suffix: # suffix is suffix\n",
    "                continue\n",
    "            if str(test1['SUFFIX'][i]) in city_list: # city name in suffix\n",
    "                test1.loc[i:i,['SUFFIX', 'UNIT_BLD']] = test1.loc[i:i,['SUFFIX', 'UNIT_BLD']].shift(1,axis=1)\n",
    "            if str(test1['SUFFIX'][i]) in ['WA']: # state name in suffix\n",
    "                test1.loc[i:i,['SUFFIX', 'UNIT_BLD']] = test1.loc[i:i,['SUFFIX', 'UNIT_BLD']].shift(2,axis=1)\n",
    "            if str(test1['SUFFIX'][i])[0] == 9: # zipcode in suffix\n",
    "                test1.loc[i:i,['SUFFIX', 'UNIT_BLD']] = test1.loc[i:i,['SUFFIX', 'UNIT_BLD']].shift(2,axis=1)\n",
    "            else: #may be street name in suffix ? or nothing in suffix \n",
    "                #print test1['ADDRESS'][i]\n",
    "                continue\n",
    "            #test1.loc[i:i,['SUFFIX', 'UNIT_BLD']] = test1.loc[i:i,['SUFFIX', 'UNIT_BLD']].shift(1,axis=1)\n",
    "    else: \n",
    "        continue "
   ]
  },
  {
   "cell_type": "code",
   "execution_count": 31,
   "metadata": {
    "collapsed": false
   },
   "outputs": [
    {
     "name": "stdout",
     "output_type": "stream",
     "text": [
      "[nan 'E' 'S' 'SE' 'W']\n",
      "['1/2 NADEN' '100' '101' '104' '106' '110' '112' '113' '114' '116' '117'\n",
      " '119' '120' '121' '122' '123' '124' '128' '131' '132' '133' '134' '138'\n",
      " '139' '140' '141' '143' '144' '147' '150' '151' '152' '153' '154' '155'\n",
      " '192' '196' '197' '2' '202' '204' '208' '212' '218' '219' '220' '222'\n",
      " '227' '228' '229' '238' '240' '241' '242' '243' '244' '245' '246' '248'\n",
      " '250' '251' '252' '253' '255' '259' '260' '261' '264' '266' '267' '269'\n",
      " '270' '272' '273' '276' '277' '278' '280' '284' '292' '293' '294' '295'\n",
      " '297' '38' '43' '5' '72' '76' '84' '90' '91' '92' '93' '94' '96' '97' '98'\n",
      " '99' 'ALDER' 'CENTRAL' 'CLEARVIEW' 'FRAGER' 'GUIBERSON' 'HAZEL'\n",
      " 'KENSINGTON' 'KENT KANGLEY' 'MAPLE' 'MILITARY' 'NADEN' 'PACIFIC' 'REITEN'\n",
      " 'SCENIC' 'SMITH' 'STATE' 'TITUS' 'VETERANS' 'WASHINGTON' 'WOODFORD']\n",
      "['AVE' 'CT' 'DR' 'HWY' 'LN' 'PL' 'POINT' 'RD' 'ST' 'WAY']\n",
      "['' 'N' 'S' 'SE']\n",
      "[nan '' '#A' 'SPC21' 'SPC7']\n",
      "['']\n",
      "['']\n",
      "['']\n"
     ]
    },
    {
     "name": "stderr",
     "output_type": "stream",
     "text": [
      "c:\\anaconda\\lib\\site-packages\\numpy\\lib\\arraysetops.py:200: FutureWarning: numpy not_equal will not check object identity in the future. The comparison did not return the same result as suggested by the identity (`is`)) and will change.\n",
      "  flag = np.concatenate(([True], aux[1:] != aux[:-1]))\n"
     ]
    }
   ],
   "source": [
    "#validate\n",
    "#print np.unique(test1[[ 'HOUSENO']])\n",
    "print np.unique(test1[[ 'PREFIX']])\n",
    "print np.unique(test1[[ 'STRNAME']])\n",
    "print np.unique(test1[[ 'STRTYPE']])\n",
    "print np.unique(test1[[ 'SUFFIX']])\n",
    "print np.unique(test1[[ 'UNIT_BLD']])\n",
    "print np.unique(test1[[ 'CITY']])\n",
    "print np.unique(test1[[ 'STATE']])\n",
    "print np.unique(test1[[ 'ZIP']])"
   ]
  },
  {
   "cell_type": "code",
   "execution_count": 32,
   "metadata": {
    "collapsed": false
   },
   "outputs": [],
   "source": [
    "test1['ZIP'] = test1['Site ZipCode']"
   ]
  },
  {
   "cell_type": "code",
   "execution_count": 33,
   "metadata": {
    "collapsed": false
   },
   "outputs": [
    {
     "data": {
      "text/plain": [
       "array([ 98030.,  98031.,  98032.,  98042.,  98055.,  98092.,     nan,\n",
       "           nan,     nan,     nan,     nan,     nan,     nan,     nan,\n",
       "           nan,     nan,     nan,     nan,     nan,     nan,     nan,\n",
       "           nan,     nan,     nan,     nan,     nan,     nan,     nan,\n",
       "           nan,     nan,     nan,     nan,     nan,     nan,     nan,\n",
       "           nan,     nan,     nan])"
      ]
     },
     "execution_count": 33,
     "metadata": {},
     "output_type": "execute_result"
    }
   ],
   "source": [
    "np.unique(test1['ZIP'])"
   ]
  },
  {
   "cell_type": "markdown",
   "metadata": {},
   "source": [
    "# Drop Commercial "
   ]
  },
  {
   "cell_type": "code",
   "execution_count": 44,
   "metadata": {
    "code_folding": [],
    "collapsed": false
   },
   "outputs": [
    {
     "name": "stdout",
     "output_type": "stream",
     "text": [
      "10\n",
      "['COMMERCIAL', 'CONSTRUCTION,', 'BUILDING,', 'PLUMBING,', 'MECHANICAL.', '***Electrical', 'work', 'to', 'be']\n",
      "11\n",
      "['COMMERCIAL', 'BUILDING,', 'BUILDING,', 'PLUMBING,', 'MECHANICAL.', '***Electrical', 'work', 'to', 'performed']\n",
      "22\n",
      "['COMMERCIAL', 'ALTERATION,', 'CHANGE', 'OF', 'USE,', 'BUILDING', 'ONLY.', '***Mechanical,', 'plumbing,']\n",
      "23\n",
      "['COMMERCIAL', 'ALTERATION/CHANGE', 'OF', 'USE,', 'BUILDING', 'AND', 'PLUMBING', '***Mechanical', 'and']\n",
      "24\n",
      "['COMMERCIAL', 'ALTERATION', 'AND', 'CHANGE', 'OF', 'USE.', 'BUILDING', 'ONLY,', '***']\n",
      "27\n",
      "['COMMERCIAL', 'ALTERATION,', 'BUILDING', 'AND', 'PLUMBING', 'ONLY.', '***Mechanical', 'and', 'electrical']\n",
      "29\n",
      "['COMMERCIAL', 'ACCESSORY', 'BUILDING.', '329', 'SF', '-', 'PUMP', 'STATION', 'CONSTRUCT']\n",
      "30\n",
      "['COMMERCIAL', 'ACCESSORY', 'BUILDING.', '266', 'SF', '-', 'ELECTRICAL', 'SHELTER', 'CONSTRUCT']\n",
      "31\n",
      "['COMMERCIAL', 'ACCESSORY', 'BUILDING,', 'BUILDING', 'ONLY..', '513', 'SF', '-', 'GENERATOR']\n",
      "36\n",
      "['COMMERCIAL', 'ACCESSORY', 'BUILDING', 'FOR', 'EMPLOYEE', 'SMOKING.', 'ARCHITECT', 'OF', 'RECORD:']\n",
      "53\n",
      "['COMMERCIAL', 'STRUCTURE.']\n"
     ]
    }
   ],
   "source": [
    "drop_index = []\n",
    "for i in range(len(test1)):\n",
    "    des = test1[i:i+1]['Work Description'].tolist()[0].split()\n",
    "    if 'COMMERCIAL' in des:\n",
    "        print i \n",
    "        for j in range(len(des)):\n",
    "            if des[j] == 'COMMERCIAL':\n",
    "                print des[j:j+9]\n",
    "        drop_index = drop_index + [i]\n",
    "        "
   ]
  },
  {
   "cell_type": "code",
   "execution_count": 45,
   "metadata": {
    "collapsed": false
   },
   "outputs": [
    {
     "data": {
      "text/plain": [
       "[10, 11, 22, 23, 24, 27, 29, 30, 31, 36, 53]"
      ]
     },
     "execution_count": 45,
     "metadata": {},
     "output_type": "execute_result"
    }
   ],
   "source": [
    "drop_index"
   ]
  },
  {
   "cell_type": "code",
   "execution_count": 46,
   "metadata": {
    "collapsed": true
   },
   "outputs": [],
   "source": [
    "test2 = test1.drop(test1.index[drop_index]).reset_index(drop=True)"
   ]
  },
  {
   "cell_type": "code",
   "execution_count": null,
   "metadata": {
    "collapsed": true
   },
   "outputs": [],
   "source": []
  },
  {
   "cell_type": "markdown",
   "metadata": {},
   "source": [
    "# TYPE & PS"
   ]
  },
  {
   "cell_type": "markdown",
   "metadata": {
    "collapsed": true
   },
   "source": [
    "WARNING: 'TYPE', 'PS' ARE VERY DIFFICULT TO CODE, will NEED cross exam this step via excel manually in the end. "
   ]
  },
  {
   "cell_type": "markdown",
   "metadata": {},
   "source": [
    "Step1: get MF/Mobile home unit number (###)\n",
    "* find unit number from work description\n",
    "* confirm MF numbers from structure type information, permit activities infor, or other available informations\n",
    "\n",
    "Step2: get SF unit number (1, -1)\n",
    "* detect if it is new\n",
    "* detect if it is demolished \n",
    "* detect if it is additional dewell unit - depends on new structure type to jusdge unit#"
   ]
  },
  {
   "cell_type": "code",
   "execution_count": 47,
   "metadata": {
    "collapsed": true
   },
   "outputs": [],
   "source": [
    "test2 = test1"
   ]
  },
  {
   "cell_type": "code",
   "execution_count": 48,
   "metadata": {
    "collapsed": false
   },
   "outputs": [],
   "source": [
    "test2['UNITS'] = ''"
   ]
  },
  {
   "cell_type": "code",
   "execution_count": 49,
   "metadata": {
    "collapsed": false
   },
   "outputs": [
    {
     "name": "stdout",
     "output_type": "stream",
     "text": [
      "['ADU' 'MF' 'MH' 'Other' 'SF']\n",
      "[nan 'Addition' 'New']\n",
      "----------------check correlation---------------------\n",
      "['Addition']\n",
      "['New']\n",
      "['New']\n",
      "[]\n",
      "['Addition' 'New']\n"
     ]
    }
   ],
   "source": [
    "print np.unique(test2['Structure Type'])\n",
    "print np.unique(test2['Permit Activity'])\n",
    "print \"----------------check correlation---------------------\"\n",
    "print np.unique(test2[(test2['Structure Type'] == 'ADU')]['Permit Activity'])\n",
    "print np.unique(test2[(test2['Structure Type'] == 'MF')]['Permit Activity'])\n",
    "print np.unique(test2[(test2['Structure Type'] == 'MH')]['Permit Activity'])\n",
    "print np.unique(test2[(test2['Structure Type'] == 'OTHER')]['Permit Activity'])\n",
    "print np.unique(test2[(test2['Structure Type'] == 'SF')]['Permit Activity'])"
   ]
  },
  {
   "cell_type": "markdown",
   "metadata": {},
   "source": [
    "# -----> Step 1"
   ]
  },
  {
   "cell_type": "code",
   "execution_count": 50,
   "metadata": {
    "collapsed": false
   },
   "outputs": [
    {
     "name": "stdout",
     "output_type": "stream",
     "text": [
      "3\n",
      "['PODIUM', '(4+1)', '154', 'DWELLING', 'UNITS', 'SQUARE', 'FOOTAGE:', '1ST', 'FLOOR', '-']\n",
      "4\n",
      "['STORIES:', '4.', 'NUMBER', 'OF', 'UNITS:', '28', 'SQUARE', 'FOOTAGE:', '1ST', 'FLOOR:']\n",
      "5\n",
      "['garage).', 'NUMBER', 'OF', 'DWELLING', 'UNITS:', '2.', 'NUMBER', 'OF', 'GARAGE', 'BAYS:']\n",
      "6\n",
      "['3.', 'NUMBER', 'OF', 'DWELLING', 'UNITS:', '2.', 'NUMBER', 'OF', 'GARAGE', 'BAYS:']\n",
      "7\n",
      "['3.', 'NUMBER', 'OF', 'DWELLING', 'UNITS:', '2.', 'NUMBER', 'OF', 'GARAGE', 'BAYS:']\n",
      "8\n",
      "['3.', 'NUMBER', 'OF', 'DWELLING', 'UNITS:', '2.', 'NUMBER', 'OF', 'GARAGE', 'BAYS:']\n",
      "9\n",
      "['GROUP:', 'R-2.', 'NUMBER', 'OF', 'UNITS:', '32', 'SQUARE', 'FOOTAGE:', '1ST', 'FLOOR:']\n",
      "12\n",
      "['R-2.', 'NUMBER', 'OF', 'DWELLING', 'UNITS:', '16', '2012', 'IBC.', '2012', 'WSEC.']\n",
      "13\n",
      "['R-2.', 'NUMBER', 'OF', 'DWELLING', 'UNITS:', '14', '2012', 'IBC.', '2012', 'WSEC.']\n",
      "14\n",
      "['R-2.', 'NUMBER', 'OF', 'DWELLING', 'UNITS:', '16', '2012', 'IBC.', '2012', 'WSEC.']\n",
      "503\n",
      "['OVER', 'BASEMENT)', 'NUMBER', 'OF', 'UNITS:', '4', 'SQUARE', 'FOOTAGE:', '1ST', 'FLOOR:']\n",
      "504\n",
      "['OVER', 'BASEMENT)', 'NUMBER', 'OF', 'UNITS:', '2', 'SQUARE', 'FOOTAGE:', '1ST', 'FLOOR:']\n",
      "505\n",
      "['OVER', 'BASEMENT)', 'NUMBER', 'OF', 'UNITS:', '2', 'SQUARE', 'FOOTAGE:', '1ST', 'FLOOR:']\n",
      "506\n",
      "['OVER', 'BASEMENT)', 'NUMBER', 'OF', 'UNITS:', '2', 'SQUARE', 'FOOTAGE:', '1ST', 'FLOOR:']\n",
      "507\n",
      "['OVER', 'BASEMENT)', 'NUMBER', 'OF', 'UNITS:', '4', 'SQUARE', 'FOOTAGE:', '1ST', 'FLOOR:']\n",
      "508\n",
      "['OVER', 'BASEMENT)', 'NUMBER', 'OF', 'UNITS:', '4', 'SQUARE', 'FOOTAGE:', '1ST', 'FLOOR:']\n",
      "509\n",
      "['STORIES:', '2', 'NUMBER', 'OF', 'UNITS:', '4', 'SQUARE', 'FOOTAGE', '-', 'BASEMENT:']\n",
      "510\n",
      "['CONSTRUCT', 'TOWNHOUSE', 'WITH', '4', 'UNITS', 'AND', '2', 'HOUR', 'SEPARATION', 'WALLS']\n",
      "['HOUR', 'SEPARATION', 'WALLS', 'BETWEEN', 'UNITS', '(BLDG.', 'B)', 'TYPE', 'OF', 'CONSTRUCTION:VB']\n",
      "511\n",
      "['CONSTRUCT', 'TOWNHOUSE', 'WITH', '4', 'UNITS', 'AND', '2', 'HOUR', 'SEPARATION', 'WALLS']\n",
      "['HOUR', 'SEPARATION', 'WALLS', 'BETWEEN', 'UNITS', '(BLDG.', 'A)', 'TYPE', 'OF', 'CONSTRUCTION:VB']\n"
     ]
    }
   ],
   "source": [
    "# find unit number from work description\n",
    "units_index = []\n",
    "for i in range(len(test2)):\n",
    "    des = test2[i:i+1]['Work Description'].tolist()[0].split()\n",
    "    if 'UNITS' in des:\n",
    "        print i \n",
    "        for j in range(len(des)):\n",
    "            if des[j] == 'UNITS':\n",
    "                j = max(0, j-4)\n",
    "                print des[j:j+10]\n",
    "        units_index = units_index + [i]\n",
    "\n",
    "    else: \n",
    "        if 'UNITS:' in des:\n",
    "            print i \n",
    "            for j in range(len(des)):\n",
    "                if des[j] == 'UNITS:':\n",
    "                    j = max(0, j-4)\n",
    "                    print des[j:j+10]\n",
    "            units_index = units_index + [i]"
   ]
  },
  {
   "cell_type": "code",
   "execution_count": 51,
   "metadata": {
    "collapsed": false
   },
   "outputs": [
    {
     "data": {
      "text/plain": [
       "[3, 4, 5, 6, 7, 8, 9, 12, 13, 14, 503, 504, 505, 506, 507, 508, 509, 510, 511]"
      ]
     },
     "execution_count": 51,
     "metadata": {},
     "output_type": "execute_result"
    }
   ],
   "source": [
    "units_index"
   ]
  },
  {
   "cell_type": "code",
   "execution_count": 52,
   "metadata": {
    "collapsed": false
   },
   "outputs": [],
   "source": [
    "################### hard coding required {unit index : number of unit } ##########################\n",
    "units_index_dict = {3: 154, 4:28, 5:2, 6:2, 7:2, 8:2, 9:32, 12:16, 13:14, 14:16, \n",
    "                    503:4, 504:2, 505:2, 506:2, 507:4, 508:4, 509:4, 510:4, 511:4}\n",
    "\n",
    "#fill in the unit number found at work descriptions \n",
    "for i in units_index:\n",
    "    test2.loc[i,'UNITS']= units_index_dict[i]\n",
    "    test2.loc[i,'PS']= 0"
   ]
  },
  {
   "cell_type": "code",
   "execution_count": 120,
   "metadata": {
    "collapsed": true
   },
   "outputs": [],
   "source": [
    "#comfirm if we got everything for multi-family "
   ]
  },
  {
   "cell_type": "code",
   "execution_count": 61,
   "metadata": {
    "collapsed": false
   },
   "outputs": [
    {
     "name": "stdout",
     "output_type": "stream",
     "text": [
      "19\n",
      "21\n",
      "21\n"
     ]
    }
   ],
   "source": [
    "# Validate: based on structure type and permit activity, to check if there is any MF permits been left behind \n",
    "print len(units_index_dict)\n",
    "print len(test2[test2['Structure Type'] == 'MF'])\n",
    "print len(test2[(test2['Structure Type'] == 'MF') & (test2['Permit Activity'] == 'New')])"
   ]
  },
  {
   "cell_type": "code",
   "execution_count": 71,
   "metadata": {
    "collapsed": false
   },
   "outputs": [
    {
     "name": "stdout",
     "output_type": "stream",
     "text": [
      "NEW COMMERCIAL CONSTRUCTION, BUILDING, PLUMBING, MECHANICAL. ***Electrical work to be performed under separate permits. ***  GrandView Building K.  SCOPE OF WORK: Construct six-story aparbment building containing 49 dwelling units.  Structure is a \"platform\" building with one-story of 1-A construction below a three-hour-rated horizontal assembly, with five-stories of V-A construction above.  See 2012 IBC 510.2.  See WAamended IBC 504.3 (for addition of extra story with pressurized interior exit stairways).  GRANDVIEW BUILDING K.  \n",
      "\n",
      "R-2, 1-A, V-A, fully sprinkled, NFPA 13 throughout.   Approved sprinkler plan to be on site at inspections.  \n",
      "\n",
      "Structural analysis: Coughlin Porter Lundeen, S142046-03, 206-343-0460, Christopher Seth Duvall, S.E. 39843\n",
      "Architect: GGLO, 206-467-5828, James Bradley registered architect 7229.\n",
      "Geotechnal report: Earth Solutions, job #2918.01, 425-440-4704\n",
      "Testing Agency for special inspection: Krazen & Associates, 253-939-2500\n",
      "\n",
      "Deferred Submittals and Revisions:\n",
      "2161058:  Deferred submittal: Structural analysis, attachment and details for guards, rails and juliet balconies \n",
      "2161048:  Revision: Earthbound holdown system\n",
      "2161536: Deferred sumbinttal: post-tensioned slab and tendon design\n",
      "NEW COMMERCIAL BUILDING, BUILDING, PLUMBING, MECHANICAL. ***Electrical work to performed under separate permit.***  SCOPE OF WORK: Construct six level apartment building containing 47 dwelling units.  Lower level is a basement under a three-hour-rated horizontal assembly (post-tensioned, 11-inch-thick concrete slab).  See 2012 IBC WA amended section 504.3 for additional story with pressurized interior exit stairways.  GRANDVIEW BUILDING J.  \n",
      "\n",
      "R-2, V-A, NFPA 13 speinkler system.   Approved sprinkler plan to be on site at inspections.  \n",
      "\n",
      "2012 IBC.  2012 WSEC.  2012 UPC   2012 IMC.   ICC A117.1-2009\n",
      "\n",
      "Structural analysis: Coughlin Porter Lundeen, S142046-03, 206-343-0460, Christopher Seth Duvall, S.E. 39843\n",
      "Architect: GGLO, 206-467-5828, James Bradley registered architect 7229.\n",
      "Geotechnal report: Earth Solutions, job #2918.01, 425-440-4704\n",
      "Testing Agency for special inspection: Krazen & Associates, 253-939-2500\n",
      "\n",
      "Deferred Submittals and Revisions:  :\n",
      "2161057:  Deferred submittal:  Structural analysis, attachment and details for guards, rails and juliet balconies\n",
      "2161047:  Revision: Earthbound holdown system\n",
      "2161535: Deferred submittal: post-tensioned slab and tendon design.\n"
     ]
    }
   ],
   "source": [
    "for i in test2[(test2['Structure Type'] == 'MF') & (test2['Permit Activity'] == 'New')][7:9]['Work Description']: \n",
    "    print i "
   ]
  },
  {
   "cell_type": "markdown",
   "metadata": {},
   "source": [
    "If the numbers above are all same, perfectly match! No need to do futhure investigation "
   ]
  },
  {
   "cell_type": "code",
   "execution_count": null,
   "metadata": {
    "collapsed": true
   },
   "outputs": [],
   "source": []
  },
  {
   "cell_type": "markdown",
   "metadata": {},
   "source": [
    "# ------> step2"
   ]
  },
  {
   "cell_type": "code",
   "execution_count": 72,
   "metadata": {
    "collapsed": false
   },
   "outputs": [
    {
     "name": "stdout",
     "output_type": "stream",
     "text": [
      "431\n",
      "402\n"
     ]
    }
   ],
   "source": [
    "print len(test2[test2['Structure Type'] == 'SF'])\n",
    "print len(test2[(test2['Structure Type'] == 'SF') & (test2['Permit Activity'] == 'New')])"
   ]
  },
  {
   "cell_type": "code",
   "execution_count": 73,
   "metadata": {
    "collapsed": false
   },
   "outputs": [
    {
     "name": "stderr",
     "output_type": "stream",
     "text": [
      "c:\\anaconda\\lib\\site-packages\\ipykernel\\__main__.py:1: SettingWithCopyWarning: \n",
      "A value is trying to be set on a copy of a slice from a DataFrame.\n",
      "Try using .loc[row_indexer,col_indexer] = value instead\n",
      "\n",
      "See the caveats in the documentation: http://pandas.pydata.org/pandas-docs/stable/indexing.html#indexing-view-versus-copy\n",
      "  if __name__ == '__main__':\n",
      "c:\\anaconda\\lib\\site-packages\\ipykernel\\__main__.py:2: SettingWithCopyWarning: \n",
      "A value is trying to be set on a copy of a slice from a DataFrame.\n",
      "Try using .loc[row_indexer,col_indexer] = value instead\n",
      "\n",
      "See the caveats in the documentation: http://pandas.pydata.org/pandas-docs/stable/indexing.html#indexing-view-versus-copy\n",
      "  from ipykernel import kernelapp as app\n"
     ]
    }
   ],
   "source": [
    "test2[(test2['Structure Type'] == 'SF') & (test2['Permit Activity'] == 'New')]['UNITS'] = 1\n",
    "test2[(test2['Structure Type'] == 'SF') & (test2['Permit Activity'] == 'New')]['PS'] = 0"
   ]
  },
  {
   "cell_type": "code",
   "execution_count": 74,
   "metadata": {
    "collapsed": false
   },
   "outputs": [
    {
     "name": "stdout",
     "output_type": "stream",
     "text": [
      "431\n",
      "29\n"
     ]
    }
   ],
   "source": [
    "print len(test2[test2['Structure Type'] == 'SF'])\n",
    "print len(test2[(test2['Structure Type'] == 'SF') & (test2['Permit Activity'] == 'Addition')])"
   ]
  },
  {
   "cell_type": "code",
   "execution_count": 75,
   "metadata": {
    "collapsed": false
   },
   "outputs": [
    {
     "name": "stdout",
     "output_type": "stream",
     "text": [
      "3\n",
      "['PODIUM', '(4+1)', '154', 'DWELLING', 'UNITS', 'SQUARE', 'FOOTAGE:', '1ST', 'FLOOR', '-']\n",
      "510\n",
      "['CONSTRUCT', 'TOWNHOUSE', 'WITH', '4', 'UNITS', 'AND', '2', 'HOUR', 'SEPARATION', 'WALLS']\n",
      "['HOUR', 'SEPARATION', 'WALLS', 'BETWEEN', 'UNITS', '(BLDG.', 'B)', 'TYPE', 'OF', 'CONSTRUCTION:VB']\n",
      "511\n",
      "['CONSTRUCT', 'TOWNHOUSE', 'WITH', '4', 'UNITS', 'AND', '2', 'HOUR', 'SEPARATION', 'WALLS']\n",
      "['HOUR', 'SEPARATION', 'WALLS', 'BETWEEN', 'UNITS', '(BLDG.', 'A)', 'TYPE', 'OF', 'CONSTRUCTION:VB']\n"
     ]
    }
   ],
   "source": [
    "# find the situation from work description\n",
    "units_index = []\n",
    "for i in range(len(test2)):\n",
    "    des = test2[i:i+1]['Work Description'].tolist()[0].split()\n",
    "    if 'UNITS' in des:\n",
    "        print i \n",
    "        for j in range(len(des)):\n",
    "            if des[j] == 'UNITS':\n",
    "                j = max(0, j-4)\n",
    "                print des[j:j+10]\n",
    "        units_index = units_index + [i]"
   ]
  },
  {
   "cell_type": "code",
   "execution_count": 176,
   "metadata": {
    "collapsed": false,
    "scrolled": false
   },
   "outputs": [
    {
     "data": {
      "text/html": [
       "<div>\n",
       "<table border=\"1\" class=\"dataframe\">\n",
       "  <thead>\n",
       "    <tr style=\"text-align: right;\">\n",
       "      <th></th>\n",
       "      <th>Permit ID#</th>\n",
       "      <th>Project Name</th>\n",
       "      <th>Tax PID#</th>\n",
       "      <th>Site Address</th>\n",
       "      <th>Site ZipCode</th>\n",
       "      <th>Issue Date</th>\n",
       "      <th>Final Date</th>\n",
       "      <th>Status</th>\n",
       "      <th># of Units</th>\n",
       "      <th># of Buildings</th>\n",
       "      <th>...</th>\n",
       "      <th>Lot Area/Size</th>\n",
       "      <th>Zoning Code</th>\n",
       "      <th>Work Description</th>\n",
       "      <th>Structure Type</th>\n",
       "      <th>Permit Activity</th>\n",
       "      <th>Land Use</th>\n",
       "      <th>SORT</th>\n",
       "      <th>TYPE</th>\n",
       "      <th>temp_id</th>\n",
       "      <th>UNITS</th>\n",
       "    </tr>\n",
       "  </thead>\n",
       "  <tbody>\n",
       "    <tr>\n",
       "      <th>64</th>\n",
       "      <td>CNST-2161293</td>\n",
       "      <td>CAREPOINTE AFH - GARAGE CONVERSION</td>\n",
       "      <td>8700110030</td>\n",
       "      <td>11308 SE 269 ST</td>\n",
       "      <td>98030</td>\n",
       "      <td>05/02/2016</td>\n",
       "      <td>01/12/2017</td>\n",
       "      <td>DONE</td>\n",
       "      <td></td>\n",
       "      <td></td>\n",
       "      <td>...</td>\n",
       "      <td>6,859</td>\n",
       "      <td>SR-6</td>\n",
       "      <td>RESIDENTIAL ALTERATION.  SINGLE-FAMILY RESIDEN...</td>\n",
       "      <td>SF</td>\n",
       "      <td>Addition</td>\n",
       "      <td>NaN</td>\n",
       "      <td>2017CNST-01293</td>\n",
       "      <td></td>\n",
       "      <td>75</td>\n",
       "      <td></td>\n",
       "    </tr>\n",
       "    <tr>\n",
       "      <th>65</th>\n",
       "      <td>CNST-2170243</td>\n",
       "      <td>ALPINE CARE LODGE AFH -GARAGE CONVERSION</td>\n",
       "      <td>7970800120</td>\n",
       "      <td>11206 S 266 ST</td>\n",
       "      <td>98030</td>\n",
       "      <td>01/25/2017</td>\n",
       "      <td>01/00/1900</td>\n",
       "      <td>OPEN</td>\n",
       "      <td></td>\n",
       "      <td></td>\n",
       "      <td>...</td>\n",
       "      <td>15,923</td>\n",
       "      <td>SR-6</td>\n",
       "      <td>BUILDING, MECHANICAL, &amp; PLUMBING\\n\\nCONVERT 47...</td>\n",
       "      <td>SF</td>\n",
       "      <td>Addition</td>\n",
       "      <td>NaN</td>\n",
       "      <td>2017CNST-00243</td>\n",
       "      <td></td>\n",
       "      <td>76</td>\n",
       "      <td></td>\n",
       "    </tr>\n",
       "    <tr>\n",
       "      <th>66</th>\n",
       "      <td>CNST-2170478</td>\n",
       "      <td>NORDTROM RESIDENCE - GARAGE CONVERSION</td>\n",
       "      <td>8700100080</td>\n",
       "      <td>26700  110 AVE SE</td>\n",
       "      <td>98030</td>\n",
       "      <td>03/16/2017</td>\n",
       "      <td>05/23/2017</td>\n",
       "      <td>DONE</td>\n",
       "      <td></td>\n",
       "      <td></td>\n",
       "      <td>...</td>\n",
       "      <td>6,598</td>\n",
       "      <td>SR-6</td>\n",
       "      <td>CONVERT EXISTING GARAGE AREA TO LIVING AREA FO...</td>\n",
       "      <td>SF</td>\n",
       "      <td>Addition</td>\n",
       "      <td>NaN</td>\n",
       "      <td>2017CNST-00478</td>\n",
       "      <td></td>\n",
       "      <td>77</td>\n",
       "      <td></td>\n",
       "    </tr>\n",
       "    <tr>\n",
       "      <th>67</th>\n",
       "      <td>CNST-2171323</td>\n",
       "      <td>ZAUTADZE RESIDENCE - GARAGE CONVERSION</td>\n",
       "      <td>5530350110</td>\n",
       "      <td>12022 SE 269 PL</td>\n",
       "      <td>98030</td>\n",
       "      <td>04/26/2017</td>\n",
       "      <td>01/00/1900</td>\n",
       "      <td>OPEN</td>\n",
       "      <td></td>\n",
       "      <td></td>\n",
       "      <td>...</td>\n",
       "      <td>0</td>\n",
       "      <td>SR-6</td>\n",
       "      <td>IN AN EXISTING 567 SF ATTACHED GARAGE, CONVERT...</td>\n",
       "      <td>SF</td>\n",
       "      <td>Addition</td>\n",
       "      <td>NaN</td>\n",
       "      <td>2017CNST-01323</td>\n",
       "      <td></td>\n",
       "      <td>78</td>\n",
       "      <td></td>\n",
       "    </tr>\n",
       "    <tr>\n",
       "      <th>68</th>\n",
       "      <td>CNST-2172574</td>\n",
       "      <td>ORJI RESIDENCE - GARAGE CONVERSION</td>\n",
       "      <td>2722049074</td>\n",
       "      <td>3208 S 259 PL</td>\n",
       "      <td>98032</td>\n",
       "      <td>09/15/2017</td>\n",
       "      <td>01/00/1900</td>\n",
       "      <td>OPEN</td>\n",
       "      <td></td>\n",
       "      <td></td>\n",
       "      <td>...</td>\n",
       "      <td>13,939</td>\n",
       "      <td>SR-6</td>\n",
       "      <td>BUILDING, PLUMBING ONLY\\n\\nCONVERT EXISTING 40...</td>\n",
       "      <td>SF</td>\n",
       "      <td>Addition</td>\n",
       "      <td>NaN</td>\n",
       "      <td>2017CNST-02574</td>\n",
       "      <td></td>\n",
       "      <td>79</td>\n",
       "      <td></td>\n",
       "    </tr>\n",
       "    <tr>\n",
       "      <th>468</th>\n",
       "      <td>CNST-2132403</td>\n",
       "      <td>HEALD RESIDENCE - ADDITION</td>\n",
       "      <td>6187100320</td>\n",
       "      <td>23603  138 AVE SE</td>\n",
       "      <td>98042</td>\n",
       "      <td>11/21/2014</td>\n",
       "      <td>04/19/2017</td>\n",
       "      <td>DONE</td>\n",
       "      <td></td>\n",
       "      <td></td>\n",
       "      <td>...</td>\n",
       "      <td>11,419</td>\n",
       "      <td>SR-4.5</td>\n",
       "      <td>BUILDING ONLY - CONSTRUCT 2-STORY RESIDENTIAL ...</td>\n",
       "      <td>SF</td>\n",
       "      <td>Addition</td>\n",
       "      <td>NaN</td>\n",
       "      <td>2017CNST-02403</td>\n",
       "      <td></td>\n",
       "      <td>479</td>\n",
       "      <td></td>\n",
       "    </tr>\n",
       "    <tr>\n",
       "      <th>469</th>\n",
       "      <td>CNST-2152707</td>\n",
       "      <td>THOMPSON RESIDENCE - BPM</td>\n",
       "      <td>3728800165</td>\n",
       "      <td>14514 SE 266 ST</td>\n",
       "      <td>98042</td>\n",
       "      <td>08/28/2015</td>\n",
       "      <td>01/17/2017</td>\n",
       "      <td>DONE</td>\n",
       "      <td></td>\n",
       "      <td></td>\n",
       "      <td>...</td>\n",
       "      <td>14,700</td>\n",
       "      <td>SR-4.5</td>\n",
       "      <td>RESIDENTIAL ADDITION.  BUILDING, PLUMBING, MEC...</td>\n",
       "      <td>SF</td>\n",
       "      <td>Addition</td>\n",
       "      <td>NaN</td>\n",
       "      <td>2017CNST-02707</td>\n",
       "      <td></td>\n",
       "      <td>480</td>\n",
       "      <td></td>\n",
       "    </tr>\n",
       "    <tr>\n",
       "      <th>470</th>\n",
       "      <td>CNST-2162052</td>\n",
       "      <td>THUY H LE RESIDENCE - ADDITION</td>\n",
       "      <td>2122059119</td>\n",
       "      <td>12019 SE 248 ST</td>\n",
       "      <td>98030</td>\n",
       "      <td>06/22/2016</td>\n",
       "      <td>08/09/2017</td>\n",
       "      <td>DONE</td>\n",
       "      <td></td>\n",
       "      <td></td>\n",
       "      <td>...</td>\n",
       "      <td>25,000</td>\n",
       "      <td>SR-6</td>\n",
       "      <td>CONSTRUCT RESIDENTIAL ADDITION.\\nSQUARE FOOTAG...</td>\n",
       "      <td>SF</td>\n",
       "      <td>Addition</td>\n",
       "      <td>NaN</td>\n",
       "      <td>2017CNST-02052</td>\n",
       "      <td></td>\n",
       "      <td>481</td>\n",
       "      <td></td>\n",
       "    </tr>\n",
       "    <tr>\n",
       "      <th>471</th>\n",
       "      <td>CNST-2162623</td>\n",
       "      <td>KUMAR RESIDENCE - ADDITION</td>\n",
       "      <td>1922059010</td>\n",
       "      <td>9411 S 241 ST</td>\n",
       "      <td>98030</td>\n",
       "      <td>07/28/2016</td>\n",
       "      <td>01/23/2017</td>\n",
       "      <td>DONE</td>\n",
       "      <td></td>\n",
       "      <td></td>\n",
       "      <td>...</td>\n",
       "      <td>6,052</td>\n",
       "      <td>SR-6</td>\n",
       "      <td>RESIDENTIAL ADDITION.   Construct 60 sq. ft., ...</td>\n",
       "      <td>SF</td>\n",
       "      <td>Addition</td>\n",
       "      <td>NaN</td>\n",
       "      <td>2017CNST-02623</td>\n",
       "      <td></td>\n",
       "      <td>482</td>\n",
       "      <td></td>\n",
       "    </tr>\n",
       "    <tr>\n",
       "      <th>472</th>\n",
       "      <td>CNST-2162388</td>\n",
       "      <td>BEARD RESIDENCE - ADDITION</td>\n",
       "      <td>5470110160</td>\n",
       "      <td>26007  147 PL SE</td>\n",
       "      <td>98042</td>\n",
       "      <td>08/02/2016</td>\n",
       "      <td>03/28/2017</td>\n",
       "      <td>DONE</td>\n",
       "      <td></td>\n",
       "      <td></td>\n",
       "      <td>...</td>\n",
       "      <td>10,600</td>\n",
       "      <td>SR-4.5</td>\n",
       "      <td>BUILDING, PLUMBING, MECHANICAL\\nCONSTRUCT RESI...</td>\n",
       "      <td>SF</td>\n",
       "      <td>Addition</td>\n",
       "      <td>NaN</td>\n",
       "      <td>2017CNST-02388</td>\n",
       "      <td></td>\n",
       "      <td>483</td>\n",
       "      <td></td>\n",
       "    </tr>\n",
       "    <tr>\n",
       "      <th>473</th>\n",
       "      <td>CNST-2162931</td>\n",
       "      <td>NELSON RESIDENCE - ADDITION</td>\n",
       "      <td>8955800045</td>\n",
       "      <td>14621 SE 267 PL</td>\n",
       "      <td>98042</td>\n",
       "      <td>09/09/2016</td>\n",
       "      <td>06/16/2017</td>\n",
       "      <td>DONE</td>\n",
       "      <td></td>\n",
       "      <td></td>\n",
       "      <td>...</td>\n",
       "      <td>11,285</td>\n",
       "      <td>SR-4.5</td>\n",
       "      <td>RESIDENTIAL ADDITION AND REMODEL OF EXISTING S...</td>\n",
       "      <td>SF</td>\n",
       "      <td>Addition</td>\n",
       "      <td>NaN</td>\n",
       "      <td>2017CNST-02931</td>\n",
       "      <td></td>\n",
       "      <td>484</td>\n",
       "      <td></td>\n",
       "    </tr>\n",
       "    <tr>\n",
       "      <th>474</th>\n",
       "      <td>CNST-2162837</td>\n",
       "      <td>OTANI RESIDENCE - ADDITION</td>\n",
       "      <td>0722059221</td>\n",
       "      <td>21450  94 PL S</td>\n",
       "      <td>98031</td>\n",
       "      <td>09/30/2016</td>\n",
       "      <td>05/30/2017</td>\n",
       "      <td>DONE</td>\n",
       "      <td></td>\n",
       "      <td></td>\n",
       "      <td>...</td>\n",
       "      <td>12,042</td>\n",
       "      <td>SR-3</td>\n",
       "      <td>CONSTRUCTION OF 652 SF ADDITION TO EXISTING SP...</td>\n",
       "      <td>SF</td>\n",
       "      <td>Addition</td>\n",
       "      <td>NaN</td>\n",
       "      <td>2017CNST-02837</td>\n",
       "      <td></td>\n",
       "      <td>485</td>\n",
       "      <td></td>\n",
       "    </tr>\n",
       "    <tr>\n",
       "      <th>475</th>\n",
       "      <td>CNST-2163302</td>\n",
       "      <td>JONES RESIDENCE - ADDITION</td>\n",
       "      <td>1786700150</td>\n",
       "      <td>25215  138 PL SE</td>\n",
       "      <td>98042</td>\n",
       "      <td>11/08/2016</td>\n",
       "      <td>08/29/2017</td>\n",
       "      <td>DONE</td>\n",
       "      <td></td>\n",
       "      <td></td>\n",
       "      <td>...</td>\n",
       "      <td>7,648</td>\n",
       "      <td>SR-4.5</td>\n",
       "      <td>RESIDENTIAL ADDITION, BUILDING, PLUMBING AND G...</td>\n",
       "      <td>SF</td>\n",
       "      <td>Addition</td>\n",
       "      <td>NaN</td>\n",
       "      <td>2017CNST-03302</td>\n",
       "      <td></td>\n",
       "      <td>486</td>\n",
       "      <td></td>\n",
       "    </tr>\n",
       "    <tr>\n",
       "      <th>476</th>\n",
       "      <td>CNST-2163980</td>\n",
       "      <td>CARTER RESIDENCE - ADDITION</td>\n",
       "      <td>4050800170</td>\n",
       "      <td>14224 SE 270 PL</td>\n",
       "      <td>98042</td>\n",
       "      <td>01/09/2017</td>\n",
       "      <td>01/00/1900</td>\n",
       "      <td>OPEN</td>\n",
       "      <td></td>\n",
       "      <td></td>\n",
       "      <td>...</td>\n",
       "      <td>12,480</td>\n",
       "      <td>SR-6</td>\n",
       "      <td>BUILDING/PLUMBING/MECHANICAL PERMIT\\n\\nREMOVE ...</td>\n",
       "      <td>SF</td>\n",
       "      <td>Addition</td>\n",
       "      <td>NaN</td>\n",
       "      <td>2017CNST-03980</td>\n",
       "      <td></td>\n",
       "      <td>487</td>\n",
       "      <td></td>\n",
       "    </tr>\n",
       "    <tr>\n",
       "      <th>477</th>\n",
       "      <td>CNST-2161402</td>\n",
       "      <td>ANDERSON RESIDENCE - ADDITION</td>\n",
       "      <td>5466400080</td>\n",
       "      <td>13616 SE 273 CT</td>\n",
       "      <td>98042</td>\n",
       "      <td>01/09/2017</td>\n",
       "      <td>01/00/1900</td>\n",
       "      <td>OPEN</td>\n",
       "      <td></td>\n",
       "      <td></td>\n",
       "      <td>...</td>\n",
       "      <td>17,968</td>\n",
       "      <td>SR-6</td>\n",
       "      <td>RESIDENTIAL ADDITION, BUILDING, PLUMBING, MECH...</td>\n",
       "      <td>SF</td>\n",
       "      <td>Addition</td>\n",
       "      <td>NaN</td>\n",
       "      <td>2017CNST-01402</td>\n",
       "      <td></td>\n",
       "      <td>488</td>\n",
       "      <td></td>\n",
       "    </tr>\n",
       "    <tr>\n",
       "      <th>478</th>\n",
       "      <td>CNST-2154606</td>\n",
       "      <td>WOLDE RESIDENCE - ADDITION</td>\n",
       "      <td>1310990020</td>\n",
       "      <td>25413  38 PL S</td>\n",
       "      <td>98032</td>\n",
       "      <td>01/17/2017</td>\n",
       "      <td>09/13/2017</td>\n",
       "      <td>DONE</td>\n",
       "      <td></td>\n",
       "      <td></td>\n",
       "      <td>...</td>\n",
       "      <td>8,280</td>\n",
       "      <td>SR-6</td>\n",
       "      <td>RESIDENTIAL ADDITION AND ALTERATIONS.  SCOPE O...</td>\n",
       "      <td>SF</td>\n",
       "      <td>Addition</td>\n",
       "      <td>NaN</td>\n",
       "      <td>2017CNST-04606</td>\n",
       "      <td></td>\n",
       "      <td>489</td>\n",
       "      <td></td>\n",
       "    </tr>\n",
       "    <tr>\n",
       "      <th>479</th>\n",
       "      <td>CNST-2170638</td>\n",
       "      <td>KOPP RESIDENCE - ADDITION</td>\n",
       "      <td>5469501710</td>\n",
       "      <td>24731  144 AVE SE</td>\n",
       "      <td>98042</td>\n",
       "      <td>04/20/2017</td>\n",
       "      <td>01/00/1900</td>\n",
       "      <td>OPEN</td>\n",
       "      <td></td>\n",
       "      <td></td>\n",
       "      <td>...</td>\n",
       "      <td>13,000</td>\n",
       "      <td>SR-4.5</td>\n",
       "      <td>RESIDENTIAL ADDITION, BUILDING ONLY.  Construc...</td>\n",
       "      <td>SF</td>\n",
       "      <td>Addition</td>\n",
       "      <td>NaN</td>\n",
       "      <td>2017CNST-00638</td>\n",
       "      <td></td>\n",
       "      <td>490</td>\n",
       "      <td></td>\n",
       "    </tr>\n",
       "    <tr>\n",
       "      <th>480</th>\n",
       "      <td>CNST-2171377</td>\n",
       "      <td>JOHNSON RESIDENCE - ADDITION</td>\n",
       "      <td>3522059166</td>\n",
       "      <td>15205 SE 278 ST</td>\n",
       "      <td>98042</td>\n",
       "      <td>05/17/2017</td>\n",
       "      <td>11/29/2017</td>\n",
       "      <td>DONE</td>\n",
       "      <td></td>\n",
       "      <td></td>\n",
       "      <td>...</td>\n",
       "      <td>13,680</td>\n",
       "      <td>SR-6</td>\n",
       "      <td>CONSTRUCT RESIDENTIAL ADDITION.\\nSQUARE FOOTAG...</td>\n",
       "      <td>SF</td>\n",
       "      <td>Addition</td>\n",
       "      <td>NaN</td>\n",
       "      <td>2017CNST-01377</td>\n",
       "      <td></td>\n",
       "      <td>491</td>\n",
       "      <td></td>\n",
       "    </tr>\n",
       "    <tr>\n",
       "      <th>481</th>\n",
       "      <td>CNST-2172211</td>\n",
       "      <td>FARWELL RESIDENCE - ADDITION</td>\n",
       "      <td>9183701295</td>\n",
       "      <td>520  SCENIC WAY S</td>\n",
       "      <td>98030</td>\n",
       "      <td>07/18/2017</td>\n",
       "      <td>01/09/2018</td>\n",
       "      <td>DONE</td>\n",
       "      <td></td>\n",
       "      <td></td>\n",
       "      <td>...</td>\n",
       "      <td>13,240</td>\n",
       "      <td>SR-6</td>\n",
       "      <td>DEMOLITION OF EXISTING NON-PERMITTED ADDITION....</td>\n",
       "      <td>SF</td>\n",
       "      <td>Addition</td>\n",
       "      <td>NaN</td>\n",
       "      <td>2017CNST-02211</td>\n",
       "      <td></td>\n",
       "      <td>492</td>\n",
       "      <td></td>\n",
       "    </tr>\n",
       "    <tr>\n",
       "      <th>482</th>\n",
       "      <td>CNST-2170958</td>\n",
       "      <td>DIAZ RESIDENCE - ADDITION</td>\n",
       "      <td>5467900070</td>\n",
       "      <td>26215  143 AVE SE</td>\n",
       "      <td>98042</td>\n",
       "      <td>07/31/2017</td>\n",
       "      <td>02/01/2018</td>\n",
       "      <td>DONE</td>\n",
       "      <td></td>\n",
       "      <td></td>\n",
       "      <td>...</td>\n",
       "      <td>11,947</td>\n",
       "      <td>SR-4.5</td>\n",
       "      <td>BUILDING/PLUMBING/MECHANCAL PERMIT\\n\\nCONSTRUC...</td>\n",
       "      <td>SF</td>\n",
       "      <td>Addition</td>\n",
       "      <td>NaN</td>\n",
       "      <td>2017CNST-00958</td>\n",
       "      <td></td>\n",
       "      <td>493</td>\n",
       "      <td></td>\n",
       "    </tr>\n",
       "    <tr>\n",
       "      <th>483</th>\n",
       "      <td>CNST-2171771</td>\n",
       "      <td>LIANG RESIDENCE - ADDITION</td>\n",
       "      <td>1786630240</td>\n",
       "      <td>13927 SE 238 PL</td>\n",
       "      <td>98042</td>\n",
       "      <td>08/07/2017</td>\n",
       "      <td>10/10/2017</td>\n",
       "      <td>DONE</td>\n",
       "      <td></td>\n",
       "      <td></td>\n",
       "      <td>...</td>\n",
       "      <td>6,466</td>\n",
       "      <td>SR-4.5</td>\n",
       "      <td>BUILDING, MECHANICAL PERMIT \\n\\nCONSTRUCT RESI...</td>\n",
       "      <td>SF</td>\n",
       "      <td>Addition</td>\n",
       "      <td>NaN</td>\n",
       "      <td>2017CNST-01771</td>\n",
       "      <td></td>\n",
       "      <td>494</td>\n",
       "      <td></td>\n",
       "    </tr>\n",
       "    <tr>\n",
       "      <th>484</th>\n",
       "      <td>CNST-2172629</td>\n",
       "      <td>SINGH RESIDENCE - ADDITION</td>\n",
       "      <td>1263400010</td>\n",
       "      <td>12524 SE 264 ST</td>\n",
       "      <td>NaN</td>\n",
       "      <td>08/16/2017</td>\n",
       "      <td>11/09/2017</td>\n",
       "      <td>DONE</td>\n",
       "      <td></td>\n",
       "      <td></td>\n",
       "      <td>...</td>\n",
       "      <td>9,319</td>\n",
       "      <td>SR-6</td>\n",
       "      <td>RESIDENTIAL ADDITION.   AT REAR OF EXISTING SI...</td>\n",
       "      <td>SF</td>\n",
       "      <td>Addition</td>\n",
       "      <td>NaN</td>\n",
       "      <td>2017CNST-02629</td>\n",
       "      <td></td>\n",
       "      <td>495</td>\n",
       "      <td></td>\n",
       "    </tr>\n",
       "    <tr>\n",
       "      <th>485</th>\n",
       "      <td>CNST-2172825</td>\n",
       "      <td>DELGATO RESIDENCE - ADDITION</td>\n",
       "      <td>6667100530</td>\n",
       "      <td>4520 S 220 ST</td>\n",
       "      <td>98032</td>\n",
       "      <td>09/25/2017</td>\n",
       "      <td>01/00/1900</td>\n",
       "      <td>OPEN</td>\n",
       "      <td></td>\n",
       "      <td></td>\n",
       "      <td>...</td>\n",
       "      <td>0</td>\n",
       "      <td>SR-3</td>\n",
       "      <td>BUILDING PERMIT ONLY\\n\\nEXPAND AN EXISTING CON...</td>\n",
       "      <td>SF</td>\n",
       "      <td>Addition</td>\n",
       "      <td>NaN</td>\n",
       "      <td>2017CNST-02825</td>\n",
       "      <td></td>\n",
       "      <td>496</td>\n",
       "      <td></td>\n",
       "    </tr>\n",
       "    <tr>\n",
       "      <th>486</th>\n",
       "      <td>CNST-2173140</td>\n",
       "      <td>BOWSER RESIDENCE - ADDITION</td>\n",
       "      <td>1091500270</td>\n",
       "      <td>10208 SE 228 ST</td>\n",
       "      <td>98031</td>\n",
       "      <td>10/12/2017</td>\n",
       "      <td>01/00/1900</td>\n",
       "      <td>OPEN</td>\n",
       "      <td></td>\n",
       "      <td></td>\n",
       "      <td>...</td>\n",
       "      <td>7,210</td>\n",
       "      <td>SR-6</td>\n",
       "      <td>BUILDING/PLUMBING/MECHANICAL/GAS PIPING PERMIT...</td>\n",
       "      <td>SF</td>\n",
       "      <td>Addition</td>\n",
       "      <td>NaN</td>\n",
       "      <td>2017CNST-03140</td>\n",
       "      <td></td>\n",
       "      <td>497</td>\n",
       "      <td></td>\n",
       "    </tr>\n",
       "    <tr>\n",
       "      <th>487</th>\n",
       "      <td>CNST-2172166</td>\n",
       "      <td>WOLCOTT RESIDENCE - ADDITION</td>\n",
       "      <td>8914000045</td>\n",
       "      <td>635  CLEARVIEW POINT</td>\n",
       "      <td>98030</td>\n",
       "      <td>10/19/2017</td>\n",
       "      <td>01/00/1900</td>\n",
       "      <td>OPEN</td>\n",
       "      <td></td>\n",
       "      <td></td>\n",
       "      <td>...</td>\n",
       "      <td>17,447</td>\n",
       "      <td>SR-6</td>\n",
       "      <td>CONSTRUCT RESIDENTIAL ADDITION AND ALTERATION....</td>\n",
       "      <td>SF</td>\n",
       "      <td>Addition</td>\n",
       "      <td>NaN</td>\n",
       "      <td>2017CNST-02166</td>\n",
       "      <td></td>\n",
       "      <td>498</td>\n",
       "      <td></td>\n",
       "    </tr>\n",
       "    <tr>\n",
       "      <th>488</th>\n",
       "      <td>CNST-2171905</td>\n",
       "      <td>VANGAVER RESIDENCE - ADDITION</td>\n",
       "      <td>5469502840</td>\n",
       "      <td>13523 SE 250 ST</td>\n",
       "      <td>98042</td>\n",
       "      <td>11/15/2017</td>\n",
       "      <td>01/00/1900</td>\n",
       "      <td>OPEN</td>\n",
       "      <td></td>\n",
       "      <td></td>\n",
       "      <td>...</td>\n",
       "      <td>18,200</td>\n",
       "      <td>SR-4.5</td>\n",
       "      <td>CONSTRUCT RESIDENTIAL COVERED PORCH.\\nSQUARE F...</td>\n",
       "      <td>SF</td>\n",
       "      <td>Addition</td>\n",
       "      <td>NaN</td>\n",
       "      <td>2017CNST-01905</td>\n",
       "      <td></td>\n",
       "      <td>499</td>\n",
       "      <td></td>\n",
       "    </tr>\n",
       "    <tr>\n",
       "      <th>489</th>\n",
       "      <td>CNST-2173390</td>\n",
       "      <td>NICHOLS RESIDENCE - ADDITION</td>\n",
       "      <td>3422059212</td>\n",
       "      <td>14616 SE 284 ST</td>\n",
       "      <td>98042</td>\n",
       "      <td>12/01/2017</td>\n",
       "      <td>01/00/1900</td>\n",
       "      <td>OPEN</td>\n",
       "      <td></td>\n",
       "      <td></td>\n",
       "      <td>...</td>\n",
       "      <td>89,076</td>\n",
       "      <td>SR-6</td>\n",
       "      <td>CONSTRUCT RESIDENTIAL ADDITION.\\nSQUARE FOOTAG...</td>\n",
       "      <td>SF</td>\n",
       "      <td>Addition</td>\n",
       "      <td>NaN</td>\n",
       "      <td>2017CNST-03390</td>\n",
       "      <td></td>\n",
       "      <td>500</td>\n",
       "      <td></td>\n",
       "    </tr>\n",
       "    <tr>\n",
       "      <th>490</th>\n",
       "      <td>CNST-2173121</td>\n",
       "      <td>HIDDEN RIDGE LOT C - ADDITION</td>\n",
       "      <td>3222059132</td>\n",
       "      <td>28235  104 AVE SE</td>\n",
       "      <td>98030</td>\n",
       "      <td>12/04/2017</td>\n",
       "      <td>03/09/2018</td>\n",
       "      <td>DONE</td>\n",
       "      <td></td>\n",
       "      <td></td>\n",
       "      <td>...</td>\n",
       "      <td>130,487</td>\n",
       "      <td>SR-1</td>\n",
       "      <td>BUILDING PERMIT ONLY\\n\\nENLARGE (REAR COVERED ...</td>\n",
       "      <td>SF</td>\n",
       "      <td>Addition</td>\n",
       "      <td>NaN</td>\n",
       "      <td>2017CNST-03121</td>\n",
       "      <td></td>\n",
       "      <td>501</td>\n",
       "      <td></td>\n",
       "    </tr>\n",
       "    <tr>\n",
       "      <th>491</th>\n",
       "      <td>CNST-2174447</td>\n",
       "      <td>MCPHERREN RESIDENCE - ADDITION</td>\n",
       "      <td>2222059068</td>\n",
       "      <td>25124  132 AVE SE</td>\n",
       "      <td>98042</td>\n",
       "      <td>12/29/2017</td>\n",
       "      <td>01/00/1900</td>\n",
       "      <td>OPEN</td>\n",
       "      <td></td>\n",
       "      <td></td>\n",
       "      <td>...</td>\n",
       "      <td>18,295</td>\n",
       "      <td>SR-4.5</td>\n",
       "      <td>CONSTRUCT 204 SF COVERED PORCH</td>\n",
       "      <td>SF</td>\n",
       "      <td>Addition</td>\n",
       "      <td>NaN</td>\n",
       "      <td>2017CNST-04447</td>\n",
       "      <td></td>\n",
       "      <td>502</td>\n",
       "      <td></td>\n",
       "    </tr>\n",
       "  </tbody>\n",
       "</table>\n",
       "<p>29 rows × 22 columns</p>\n",
       "</div>"
      ],
      "text/plain": [
       "       Permit ID#                              Project Name    Tax PID#  \\\n",
       "64   CNST-2161293        CAREPOINTE AFH - GARAGE CONVERSION  8700110030   \n",
       "65   CNST-2170243  ALPINE CARE LODGE AFH -GARAGE CONVERSION  7970800120   \n",
       "66   CNST-2170478    NORDTROM RESIDENCE - GARAGE CONVERSION  8700100080   \n",
       "67   CNST-2171323    ZAUTADZE RESIDENCE - GARAGE CONVERSION  5530350110   \n",
       "68   CNST-2172574        ORJI RESIDENCE - GARAGE CONVERSION  2722049074   \n",
       "468  CNST-2132403                HEALD RESIDENCE - ADDITION  6187100320   \n",
       "469  CNST-2152707                  THOMPSON RESIDENCE - BPM  3728800165   \n",
       "470  CNST-2162052            THUY H LE RESIDENCE - ADDITION  2122059119   \n",
       "471  CNST-2162623                KUMAR RESIDENCE - ADDITION  1922059010   \n",
       "472  CNST-2162388                BEARD RESIDENCE - ADDITION  5470110160   \n",
       "473  CNST-2162931               NELSON RESIDENCE - ADDITION  8955800045   \n",
       "474  CNST-2162837                OTANI RESIDENCE - ADDITION  0722059221   \n",
       "475  CNST-2163302                JONES RESIDENCE - ADDITION  1786700150   \n",
       "476  CNST-2163980               CARTER RESIDENCE - ADDITION  4050800170   \n",
       "477  CNST-2161402             ANDERSON RESIDENCE - ADDITION  5466400080   \n",
       "478  CNST-2154606                WOLDE RESIDENCE - ADDITION  1310990020   \n",
       "479  CNST-2170638                 KOPP RESIDENCE - ADDITION  5469501710   \n",
       "480  CNST-2171377              JOHNSON RESIDENCE - ADDITION  3522059166   \n",
       "481  CNST-2172211              FARWELL RESIDENCE - ADDITION  9183701295   \n",
       "482  CNST-2170958                 DIAZ RESIDENCE - ADDITION  5467900070   \n",
       "483  CNST-2171771                LIANG RESIDENCE - ADDITION  1786630240   \n",
       "484  CNST-2172629                SINGH RESIDENCE - ADDITION  1263400010   \n",
       "485  CNST-2172825              DELGATO RESIDENCE - ADDITION  6667100530   \n",
       "486  CNST-2173140               BOWSER RESIDENCE - ADDITION  1091500270   \n",
       "487  CNST-2172166              WOLCOTT RESIDENCE - ADDITION  8914000045   \n",
       "488  CNST-2171905             VANGAVER RESIDENCE - ADDITION  5469502840   \n",
       "489  CNST-2173390              NICHOLS RESIDENCE - ADDITION  3422059212   \n",
       "490  CNST-2173121             HIDDEN RIDGE LOT C - ADDITION  3222059132   \n",
       "491  CNST-2174447            MCPHERREN RESIDENCE - ADDITION  2222059068   \n",
       "\n",
       "               Site Address  Site ZipCode   Issue Date   Final Date Status  \\\n",
       "64         11308 SE 269 ST          98030   05/02/2016   01/12/2017   DONE   \n",
       "65          11206 S 266 ST          98030   01/25/2017   01/00/1900   OPEN   \n",
       "66       26700  110 AVE SE          98030   03/16/2017   05/23/2017   DONE   \n",
       "67         12022 SE 269 PL          98030   04/26/2017   01/00/1900   OPEN   \n",
       "68           3208 S 259 PL          98032   09/15/2017   01/00/1900   OPEN   \n",
       "468      23603  138 AVE SE          98042   11/21/2014   04/19/2017   DONE   \n",
       "469        14514 SE 266 ST          98042   08/28/2015   01/17/2017   DONE   \n",
       "470        12019 SE 248 ST          98030   06/22/2016   08/09/2017   DONE   \n",
       "471          9411 S 241 ST          98030   07/28/2016   01/23/2017   DONE   \n",
       "472       26007  147 PL SE          98042   08/02/2016   03/28/2017   DONE   \n",
       "473        14621 SE 267 PL          98042   09/09/2016   06/16/2017   DONE   \n",
       "474         21450  94 PL S          98031   09/30/2016   05/30/2017   DONE   \n",
       "475       25215  138 PL SE          98042   11/08/2016   08/29/2017   DONE   \n",
       "476        14224 SE 270 PL          98042   01/09/2017   01/00/1900   OPEN   \n",
       "477        13616 SE 273 CT          98042   01/09/2017   01/00/1900   OPEN   \n",
       "478         25413  38 PL S          98032   01/17/2017   09/13/2017   DONE   \n",
       "479      24731  144 AVE SE          98042   04/20/2017   01/00/1900   OPEN   \n",
       "480        15205 SE 278 ST          98042   05/17/2017   11/29/2017   DONE   \n",
       "481      520  SCENIC WAY S          98030   07/18/2017   01/09/2018   DONE   \n",
       "482      26215  143 AVE SE          98042   07/31/2017   02/01/2018   DONE   \n",
       "483        13927 SE 238 PL          98042   08/07/2017   10/10/2017   DONE   \n",
       "484        12524 SE 264 ST            NaN   08/16/2017   11/09/2017   DONE   \n",
       "485          4520 S 220 ST          98032   09/25/2017   01/00/1900   OPEN   \n",
       "486        10208 SE 228 ST          98031   10/12/2017   01/00/1900   OPEN   \n",
       "487  635  CLEARVIEW POINT           98030   10/19/2017   01/00/1900   OPEN   \n",
       "488        13523 SE 250 ST          98042   11/15/2017   01/00/1900   OPEN   \n",
       "489        14616 SE 284 ST          98042   12/01/2017   01/00/1900   OPEN   \n",
       "490      28235  104 AVE SE          98030   12/04/2017   03/09/2018   DONE   \n",
       "491      25124  132 AVE SE          98042   12/29/2017   01/00/1900   OPEN   \n",
       "\n",
       "            # of Units        # of Buildings  ...  Lot Area/Size Zoning Code  \\\n",
       "64                                            ...         6,859         SR-6   \n",
       "65                                            ...        15,923         SR-6   \n",
       "66                                            ...         6,598         SR-6   \n",
       "67                                            ...             0         SR-6   \n",
       "68                                            ...        13,939         SR-6   \n",
       "468                                           ...        11,419       SR-4.5   \n",
       "469                                           ...        14,700       SR-4.5   \n",
       "470                                           ...        25,000         SR-6   \n",
       "471                                           ...         6,052         SR-6   \n",
       "472                                           ...        10,600       SR-4.5   \n",
       "473                                           ...        11,285       SR-4.5   \n",
       "474                                           ...        12,042         SR-3   \n",
       "475                                           ...         7,648       SR-4.5   \n",
       "476                                           ...        12,480         SR-6   \n",
       "477                                           ...        17,968         SR-6   \n",
       "478                                           ...         8,280         SR-6   \n",
       "479                                           ...        13,000       SR-4.5   \n",
       "480                                           ...        13,680         SR-6   \n",
       "481                                           ...        13,240         SR-6   \n",
       "482                                           ...        11,947       SR-4.5   \n",
       "483                                           ...         6,466       SR-4.5   \n",
       "484                                           ...         9,319         SR-6   \n",
       "485                                           ...             0         SR-3   \n",
       "486                                           ...         7,210         SR-6   \n",
       "487                                           ...        17,447         SR-6   \n",
       "488                                           ...        18,200       SR-4.5   \n",
       "489                                           ...        89,076         SR-6   \n",
       "490                                           ...       130,487         SR-1   \n",
       "491                                           ...        18,295       SR-4.5   \n",
       "\n",
       "                                      Work Description Structure Type  \\\n",
       "64   RESIDENTIAL ALTERATION.  SINGLE-FAMILY RESIDEN...             SF   \n",
       "65   BUILDING, MECHANICAL, & PLUMBING\\n\\nCONVERT 47...             SF   \n",
       "66   CONVERT EXISTING GARAGE AREA TO LIVING AREA FO...             SF   \n",
       "67   IN AN EXISTING 567 SF ATTACHED GARAGE, CONVERT...             SF   \n",
       "68   BUILDING, PLUMBING ONLY\\n\\nCONVERT EXISTING 40...             SF   \n",
       "468  BUILDING ONLY - CONSTRUCT 2-STORY RESIDENTIAL ...             SF   \n",
       "469  RESIDENTIAL ADDITION.  BUILDING, PLUMBING, MEC...             SF   \n",
       "470  CONSTRUCT RESIDENTIAL ADDITION.\\nSQUARE FOOTAG...             SF   \n",
       "471  RESIDENTIAL ADDITION.   Construct 60 sq. ft., ...             SF   \n",
       "472  BUILDING, PLUMBING, MECHANICAL\\nCONSTRUCT RESI...             SF   \n",
       "473  RESIDENTIAL ADDITION AND REMODEL OF EXISTING S...             SF   \n",
       "474  CONSTRUCTION OF 652 SF ADDITION TO EXISTING SP...             SF   \n",
       "475  RESIDENTIAL ADDITION, BUILDING, PLUMBING AND G...             SF   \n",
       "476  BUILDING/PLUMBING/MECHANICAL PERMIT\\n\\nREMOVE ...             SF   \n",
       "477  RESIDENTIAL ADDITION, BUILDING, PLUMBING, MECH...             SF   \n",
       "478  RESIDENTIAL ADDITION AND ALTERATIONS.  SCOPE O...             SF   \n",
       "479  RESIDENTIAL ADDITION, BUILDING ONLY.  Construc...             SF   \n",
       "480  CONSTRUCT RESIDENTIAL ADDITION.\\nSQUARE FOOTAG...             SF   \n",
       "481  DEMOLITION OF EXISTING NON-PERMITTED ADDITION....             SF   \n",
       "482  BUILDING/PLUMBING/MECHANCAL PERMIT\\n\\nCONSTRUC...             SF   \n",
       "483  BUILDING, MECHANICAL PERMIT \\n\\nCONSTRUCT RESI...             SF   \n",
       "484  RESIDENTIAL ADDITION.   AT REAR OF EXISTING SI...             SF   \n",
       "485  BUILDING PERMIT ONLY\\n\\nEXPAND AN EXISTING CON...             SF   \n",
       "486  BUILDING/PLUMBING/MECHANICAL/GAS PIPING PERMIT...             SF   \n",
       "487  CONSTRUCT RESIDENTIAL ADDITION AND ALTERATION....             SF   \n",
       "488  CONSTRUCT RESIDENTIAL COVERED PORCH.\\nSQUARE F...             SF   \n",
       "489  CONSTRUCT RESIDENTIAL ADDITION.\\nSQUARE FOOTAG...             SF   \n",
       "490  BUILDING PERMIT ONLY\\n\\nENLARGE (REAR COVERED ...             SF   \n",
       "491                     CONSTRUCT 204 SF COVERED PORCH             SF   \n",
       "\n",
       "    Permit Activity Land Use            SORT TYPE temp_id UNITS  \n",
       "64         Addition      NaN  2017CNST-01293           75        \n",
       "65         Addition      NaN  2017CNST-00243           76        \n",
       "66         Addition      NaN  2017CNST-00478           77        \n",
       "67         Addition      NaN  2017CNST-01323           78        \n",
       "68         Addition      NaN  2017CNST-02574           79        \n",
       "468        Addition      NaN  2017CNST-02403          479        \n",
       "469        Addition      NaN  2017CNST-02707          480        \n",
       "470        Addition      NaN  2017CNST-02052          481        \n",
       "471        Addition      NaN  2017CNST-02623          482        \n",
       "472        Addition      NaN  2017CNST-02388          483        \n",
       "473        Addition      NaN  2017CNST-02931          484        \n",
       "474        Addition      NaN  2017CNST-02837          485        \n",
       "475        Addition      NaN  2017CNST-03302          486        \n",
       "476        Addition      NaN  2017CNST-03980          487        \n",
       "477        Addition      NaN  2017CNST-01402          488        \n",
       "478        Addition      NaN  2017CNST-04606          489        \n",
       "479        Addition      NaN  2017CNST-00638          490        \n",
       "480        Addition      NaN  2017CNST-01377          491        \n",
       "481        Addition      NaN  2017CNST-02211          492        \n",
       "482        Addition      NaN  2017CNST-00958          493        \n",
       "483        Addition      NaN  2017CNST-01771          494        \n",
       "484        Addition      NaN  2017CNST-02629          495        \n",
       "485        Addition      NaN  2017CNST-02825          496        \n",
       "486        Addition      NaN  2017CNST-03140          497        \n",
       "487        Addition      NaN  2017CNST-02166          498        \n",
       "488        Addition      NaN  2017CNST-01905          499        \n",
       "489        Addition      NaN  2017CNST-03390          500        \n",
       "490        Addition      NaN  2017CNST-03121          501        \n",
       "491        Addition      NaN  2017CNST-04447          502        \n",
       "\n",
       "[29 rows x 22 columns]"
      ]
     },
     "execution_count": 176,
     "metadata": {},
     "output_type": "execute_result"
    }
   ],
   "source": [
    "test[]"
   ]
  },
  {
   "cell_type": "code",
   "execution_count": null,
   "metadata": {
    "collapsed": true
   },
   "outputs": [],
   "source": []
  },
  {
   "cell_type": "code",
   "execution_count": null,
   "metadata": {
    "collapsed": true
   },
   "outputs": [],
   "source": []
  },
  {
   "cell_type": "code",
   "execution_count": null,
   "metadata": {
    "collapsed": true
   },
   "outputs": [],
   "source": []
  },
  {
   "cell_type": "code",
   "execution_count": null,
   "metadata": {
    "collapsed": true
   },
   "outputs": [],
   "source": []
  },
  {
   "cell_type": "markdown",
   "metadata": {},
   "source": [
    "# NOTES, 2, 3, 4, 5"
   ]
  },
  {
   "cell_type": "code",
   "execution_count": 76,
   "metadata": {
    "collapsed": false
   },
   "outputs": [],
   "source": [
    "test2 = test1"
   ]
  },
  {
   "cell_type": "code",
   "execution_count": 77,
   "metadata": {
    "collapsed": true
   },
   "outputs": [],
   "source": [
    "for c in ['NOTES', 'NOTES2', 'NOTES3', 'NOTES4', 'NOTES5']:\n",
    "    test2[c] = ''"
   ]
  },
  {
   "cell_type": "code",
   "execution_count": 78,
   "metadata": {
    "collapsed": false
   },
   "outputs": [
    {
     "data": {
      "text/plain": [
       "Index([u'Permit ID#', u'Project Name', u'Tax PID#', u'Site Address',\n",
       "       u'Site ZipCode', u'Issue Date', u'Final Date', u'Status', u'# of Units',\n",
       "       u'# of Buildings', u'Est. Value', u'Condo', u'Lot Area/Size',\n",
       "       u'Zoning Code', u'Work Description', u'Structure Type',\n",
       "       u'Permit Activity', u'Land Use', u'SORT', u'HOUSENO', u'PREFIX',\n",
       "       u'STRNAME', u'STRTYPE', u'SUFFIX', u'UNIT_BLD', u'CITY', u'STATE',\n",
       "       u'ZIP', u'UNITS', u'PS', u'NOTES', u'NOTES2', u'NOTES3', u'NOTES4',\n",
       "       u'NOTES5'],\n",
       "      dtype='object')"
      ]
     },
     "execution_count": 78,
     "metadata": {},
     "output_type": "execute_result"
    }
   ],
   "source": [
    "test2.columns"
   ]
  },
  {
   "cell_type": "code",
   "execution_count": 97,
   "metadata": {
    "collapsed": false
   },
   "outputs": [
    {
     "name": "stderr",
     "output_type": "stream",
     "text": [
      "c:\\anaconda\\lib\\site-packages\\ipykernel\\__main__.py:11: SettingWithCopyWarning: \n",
      "A value is trying to be set on a copy of a slice from a DataFrame\n",
      "\n",
      "See the caveats in the documentation: http://pandas.pydata.org/pandas-docs/stable/indexing.html#indexing-view-versus-copy\n"
     ]
    }
   ],
   "source": [
    "test2['NOTES'] = test2['Project Name']\n",
    "#test2['NOTES2'] = test2['Lot Area/Size']\n",
    "test2['NOTES3'] = test2['Structure Type']\n",
    "test2['NOTES5'] = test2['Status']\n",
    "test2['NOTES6'] = ''\n",
    "test2['NOTES7'] = ''\n",
    "#test2['NOTES6'] = test2['Type'] # just reserve some info from raw data\n",
    "#test2['NOTES7'] = test2['Sub-Type'] # reserve some info from raw data \n",
    "for i in range(len(test2)):\n",
    "    work = test2['Work Description'][i]\n",
    "    test2['NOTES4'][i] = work[:50]\n"
   ]
  },
  {
   "cell_type": "markdown",
   "metadata": {},
   "source": [
    "# Extra information to carry over"
   ]
  },
  {
   "cell_type": "markdown",
   "metadata": {},
   "source": [
    "The first two digits indicate the project year. The second two digits indicate the county in which the permit is located by abbreviated FIPS county code. The next five digits (included since 2000) indicate the jurisdiction of permit issue by FIPS place code. The last five digits serve as an automatic counter."
   ]
  },
  {
   "cell_type": "code",
   "execution_count": 99,
   "metadata": {
    "collapsed": false
   },
   "outputs": [],
   "source": [
    "test3 = test2"
   ]
  },
  {
   "cell_type": "code",
   "execution_count": 100,
   "metadata": {
    "collapsed": false
   },
   "outputs": [],
   "source": [
    "test3['PERMITNO'] = test3['Permit ID#']"
   ]
  },
  {
   "cell_type": "code",
   "execution_count": 101,
   "metadata": {
    "collapsed": false
   },
   "outputs": [],
   "source": [
    "test3['PSRCIDN'] = '' # no data \n",
    "test3['PIN'] = '' # no data \n",
    "test3['TYPE'] = ''\n",
    "test3['PS'] = ''\n",
    "test3['MULTIREC'] = ''\n",
    "test3['LANDUSE'] = ''\n",
    "test3['CONDO'] = ''\n",
    "test3['ZONING'] = ''\n",
    "test3['LOTSIZE'] = '' \n",
    "test3['PIN_PARENT'] = ''\n",
    "test3['BLDGS'] = 1\n",
    "test3['FINALED'] = test3['Final Date']\n",
    "test3['ISSUED'] = test3['Issue Date']\n",
    "test3['STATUS'] = test3['Status']\n",
    "test3['VALUE'] = test3['Est. Value']\n",
    "test3['ADDRESS'] = test3['Site Address']"
   ]
  },
  {
   "cell_type": "code",
   "execution_count": 92,
   "metadata": {
    "collapsed": false
   },
   "outputs": [
    {
     "data": {
      "text/plain": [
       "Index([u'Permit ID#', u'Project Name', u'Tax PID#', u'Site Address',\n",
       "       u'Site ZipCode', u'Issue Date', u'Final Date', u'Status', u'# of Units',\n",
       "       u'# of Buildings', u'Est. Value', u'Condo', u'Lot Area/Size',\n",
       "       u'Zoning Code', u'Work Description', u'Structure Type',\n",
       "       u'Permit Activity', u'Land Use', u'SORT', u'HOUSENO', u'PREFIX',\n",
       "       u'STRNAME', u'STRTYPE', u'SUFFIX', u'UNIT_BLD', u'CITY', u'STATE',\n",
       "       u'ZIP', u'UNITS', u'PS', u'NOTES', u'NOTES2', u'NOTES3', u'NOTES4',\n",
       "       u'NOTES5', u'PERMITNO', u'PSRCIDN', u'PIN', u'TYPE', u'MULTIREC',\n",
       "       u'LANDUSE', u'CONDO', u'ZONING', u'LOTSIZE', u'PIN_PARENT', u'BLDGS',\n",
       "       u'FINALED', u'ISSUED', u'STATUS', u'VALUE'],\n",
       "      dtype='object')"
      ]
     },
     "execution_count": 92,
     "metadata": {},
     "output_type": "execute_result"
    }
   ],
   "source": [
    "test3.columns"
   ]
  },
  {
   "cell_type": "markdown",
   "metadata": {
    "collapsed": true
   },
   "source": [
    "# Template "
   ]
  },
  {
   "cell_type": "code",
   "execution_count": 102,
   "metadata": {
    "collapsed": false
   },
   "outputs": [],
   "source": [
    "final_col = list(temp.columns.values) + ['CITY', 'STATE'] "
   ]
  },
  {
   "cell_type": "code",
   "execution_count": 103,
   "metadata": {
    "collapsed": false
   },
   "outputs": [
    {
     "data": {
      "text/plain": [
       "['PSRCIDN',\n",
       " 'PERMITNO',\n",
       " 'SORT',\n",
       " 'MULTIREC',\n",
       " 'PIN',\n",
       " 'ADDRESS',\n",
       " 'HOUSENO',\n",
       " 'PREFIX',\n",
       " 'STRNAME',\n",
       " 'STRTYPE',\n",
       " 'SUFFIX',\n",
       " 'UNIT_BLD',\n",
       " 'ZIP',\n",
       " 'ISSUED',\n",
       " 'FINALED',\n",
       " 'STATUS',\n",
       " 'TYPE',\n",
       " 'PS',\n",
       " 'UNITS',\n",
       " 'BLDGS',\n",
       " 'LANDUSE',\n",
       " 'CONDO',\n",
       " 'VALUE',\n",
       " 'ZONING',\n",
       " 'NOTES',\n",
       " 'NOTES2',\n",
       " 'NOTES3',\n",
       " 'NOTES4',\n",
       " 'NOTES5',\n",
       " 'NOTES6',\n",
       " 'NOTES7',\n",
       " 'LOTSIZE',\n",
       " 'PIN_PARENT',\n",
       " 'CITY',\n",
       " 'STATE']"
      ]
     },
     "execution_count": 103,
     "metadata": {},
     "output_type": "execute_result"
    }
   ],
   "source": [
    "final_col"
   ]
  },
  {
   "cell_type": "code",
   "execution_count": 104,
   "metadata": {
    "collapsed": false
   },
   "outputs": [
    {
     "data": {
      "text/plain": [
       "Index([u'Permit ID#', u'Project Name', u'Tax PID#', u'Site Address',\n",
       "       u'Site ZipCode', u'Issue Date', u'Final Date', u'Status', u'# of Units',\n",
       "       u'# of Buildings', u'Est. Value', u'Condo', u'Lot Area/Size',\n",
       "       u'Zoning Code', u'Work Description', u'Structure Type',\n",
       "       u'Permit Activity', u'Land Use', u'SORT', u'HOUSENO', u'PREFIX',\n",
       "       u'STRNAME', u'STRTYPE', u'SUFFIX', u'UNIT_BLD', u'CITY', u'STATE',\n",
       "       u'ZIP', u'UNITS', u'PS', u'NOTES', u'NOTES2', u'NOTES3', u'NOTES4',\n",
       "       u'NOTES5', u'PERMITNO', u'PSRCIDN', u'PIN', u'TYPE', u'MULTIREC',\n",
       "       u'LANDUSE', u'CONDO', u'ZONING', u'LOTSIZE', u'PIN_PARENT', u'BLDGS',\n",
       "       u'FINALED', u'ISSUED', u'STATUS', u'VALUE', u'NOTES6', u'NOTES7',\n",
       "       u'ADDRESS'],\n",
       "      dtype='object')"
      ]
     },
     "execution_count": 104,
     "metadata": {},
     "output_type": "execute_result"
    }
   ],
   "source": [
    "test3.columns"
   ]
  },
  {
   "cell_type": "code",
   "execution_count": 110,
   "metadata": {
    "collapsed": false
   },
   "outputs": [],
   "source": [
    "df = test3[final_col]\n"
   ]
  },
  {
   "cell_type": "code",
   "execution_count": 111,
   "metadata": {
    "collapsed": false
   },
   "outputs": [
    {
     "data": {
      "text/plain": [
       "'C:\\\\Users\\\\Angela\\\\Documents\\\\GitHub\\\\Latest_Github\\\\permits\\\\scripts'"
      ]
     },
     "execution_count": 111,
     "metadata": {},
     "output_type": "execute_result"
    }
   ],
   "source": [
    "os.getcwd()"
   ]
  },
  {
   "cell_type": "code",
   "execution_count": 112,
   "metadata": {
    "collapsed": false
   },
   "outputs": [],
   "source": [
    "df.to_csv(r'J:\\Projects\\Permits\\17Permit\\data\\2working\\after_process_KENT.csv')"
   ]
  },
  {
   "cell_type": "code",
   "execution_count": null,
   "metadata": {
    "collapsed": true
   },
   "outputs": [],
   "source": []
  }
 ],
 "metadata": {
  "kernelspec": {
   "display_name": "Python 2",
   "language": "python",
   "name": "python2"
  },
  "language_info": {
   "codemirror_mode": {
    "name": "ipython",
    "version": 2
   },
   "file_extension": ".py",
   "mimetype": "text/x-python",
   "name": "python",
   "nbconvert_exporter": "python",
   "pygments_lexer": "ipython2",
   "version": "2.7.11"
  }
 },
 "nbformat": 4,
 "nbformat_minor": 2
}
