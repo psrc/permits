{
 "cells": [
  {
   "cell_type": "markdown",
   "metadata": {
    "collapsed": true
   },
   "source": [
    "This script is convert raw residential permit data to import ready PSRC data "
   ]
  },
  {
   "cell_type": "code",
   "execution_count": 1,
   "metadata": {
    "collapsed": false
   },
   "outputs": [
    {
     "data": {
      "text/plain": [
       "'C:\\\\Users\\\\Angela\\\\Documents\\\\GitHub\\\\Latest_Github\\\\permits\\\\scripts'"
      ]
     },
     "execution_count": 1,
     "metadata": {},
     "output_type": "execute_result"
    }
   ],
   "source": [
    "import pandas as pd \n",
    "import numpy as np\n",
    "import os\n",
    "os.getcwd()"
   ]
  },
  {
   "cell_type": "code",
   "execution_count": 2,
   "metadata": {
    "collapsed": false
   },
   "outputs": [],
   "source": [
    "working_dir = 'J:/Projects/Permits/17Permit/data/2working/'"
   ]
  },
  {
   "cell_type": "code",
   "execution_count": 3,
   "metadata": {
    "collapsed": false
   },
   "outputs": [
    {
     "ename": "IOError",
     "evalue": "File J:/Projects/Permits/17Permit/data/2working/template.csv does not exist",
     "output_type": "error",
     "traceback": [
      "\u001b[0;31m---------------------------------------------------------------------------\u001b[0m",
      "\u001b[0;31mIOError\u001b[0m                                   Traceback (most recent call last)",
      "\u001b[0;32m<ipython-input-3-c4a3f17f77a5>\u001b[0m in \u001b[0;36m<module>\u001b[0;34m()\u001b[0m\n\u001b[0;32m----> 1\u001b[0;31m \u001b[0mtemp\u001b[0m \u001b[1;33m=\u001b[0m \u001b[0mpd\u001b[0m\u001b[1;33m.\u001b[0m\u001b[0mread_csv\u001b[0m\u001b[1;33m(\u001b[0m\u001b[0mworking_dir\u001b[0m \u001b[1;33m+\u001b[0m \u001b[1;34m'template.csv'\u001b[0m\u001b[1;33m)\u001b[0m\u001b[1;33m\u001b[0m\u001b[0m\n\u001b[0m\u001b[1;32m      2\u001b[0m \u001b[0mraw_data\u001b[0m \u001b[1;33m=\u001b[0m \u001b[0mpd\u001b[0m\u001b[1;33m.\u001b[0m\u001b[0mread_csv\u001b[0m\u001b[1;33m(\u001b[0m\u001b[0mworking_dir\u001b[0m \u001b[1;33m+\u001b[0m \u001b[1;34m'KENT.csv'\u001b[0m\u001b[1;33m)\u001b[0m\u001b[1;33m\u001b[0m\u001b[0m\n",
      "\u001b[0;32mc:\\anaconda\\lib\\site-packages\\pandas\\io\\parsers.pyc\u001b[0m in \u001b[0;36mparser_f\u001b[0;34m(filepath_or_buffer, sep, dialect, compression, doublequote, escapechar, quotechar, quoting, skipinitialspace, lineterminator, header, index_col, names, prefix, skiprows, skipfooter, skip_footer, na_values, true_values, false_values, delimiter, converters, dtype, usecols, engine, delim_whitespace, as_recarray, na_filter, compact_ints, use_unsigned, low_memory, buffer_lines, warn_bad_lines, error_bad_lines, keep_default_na, thousands, comment, decimal, parse_dates, keep_date_col, dayfirst, date_parser, memory_map, float_precision, nrows, iterator, chunksize, verbose, encoding, squeeze, mangle_dupe_cols, tupleize_cols, infer_datetime_format, skip_blank_lines)\u001b[0m\n\u001b[1;32m    496\u001b[0m                     skip_blank_lines=skip_blank_lines)\n\u001b[1;32m    497\u001b[0m \u001b[1;33m\u001b[0m\u001b[0m\n\u001b[0;32m--> 498\u001b[0;31m         \u001b[1;32mreturn\u001b[0m \u001b[0m_read\u001b[0m\u001b[1;33m(\u001b[0m\u001b[0mfilepath_or_buffer\u001b[0m\u001b[1;33m,\u001b[0m \u001b[0mkwds\u001b[0m\u001b[1;33m)\u001b[0m\u001b[1;33m\u001b[0m\u001b[0m\n\u001b[0m\u001b[1;32m    499\u001b[0m \u001b[1;33m\u001b[0m\u001b[0m\n\u001b[1;32m    500\u001b[0m     \u001b[0mparser_f\u001b[0m\u001b[1;33m.\u001b[0m\u001b[0m__name__\u001b[0m \u001b[1;33m=\u001b[0m \u001b[0mname\u001b[0m\u001b[1;33m\u001b[0m\u001b[0m\n",
      "\u001b[0;32mc:\\anaconda\\lib\\site-packages\\pandas\\io\\parsers.pyc\u001b[0m in \u001b[0;36m_read\u001b[0;34m(filepath_or_buffer, kwds)\u001b[0m\n\u001b[1;32m    273\u001b[0m \u001b[1;33m\u001b[0m\u001b[0m\n\u001b[1;32m    274\u001b[0m     \u001b[1;31m# Create the parser.\u001b[0m\u001b[1;33m\u001b[0m\u001b[1;33m\u001b[0m\u001b[0m\n\u001b[0;32m--> 275\u001b[0;31m     \u001b[0mparser\u001b[0m \u001b[1;33m=\u001b[0m \u001b[0mTextFileReader\u001b[0m\u001b[1;33m(\u001b[0m\u001b[0mfilepath_or_buffer\u001b[0m\u001b[1;33m,\u001b[0m \u001b[1;33m**\u001b[0m\u001b[0mkwds\u001b[0m\u001b[1;33m)\u001b[0m\u001b[1;33m\u001b[0m\u001b[0m\n\u001b[0m\u001b[1;32m    276\u001b[0m \u001b[1;33m\u001b[0m\u001b[0m\n\u001b[1;32m    277\u001b[0m     \u001b[1;32mif\u001b[0m \u001b[1;33m(\u001b[0m\u001b[0mnrows\u001b[0m \u001b[1;32mis\u001b[0m \u001b[1;32mnot\u001b[0m \u001b[0mNone\u001b[0m\u001b[1;33m)\u001b[0m \u001b[1;32mand\u001b[0m \u001b[1;33m(\u001b[0m\u001b[0mchunksize\u001b[0m \u001b[1;32mis\u001b[0m \u001b[1;32mnot\u001b[0m \u001b[0mNone\u001b[0m\u001b[1;33m)\u001b[0m\u001b[1;33m:\u001b[0m\u001b[1;33m\u001b[0m\u001b[0m\n",
      "\u001b[0;32mc:\\anaconda\\lib\\site-packages\\pandas\\io\\parsers.pyc\u001b[0m in \u001b[0;36m__init__\u001b[0;34m(self, f, engine, **kwds)\u001b[0m\n\u001b[1;32m    588\u001b[0m             \u001b[0mself\u001b[0m\u001b[1;33m.\u001b[0m\u001b[0moptions\u001b[0m\u001b[1;33m[\u001b[0m\u001b[1;34m'has_index_names'\u001b[0m\u001b[1;33m]\u001b[0m \u001b[1;33m=\u001b[0m \u001b[0mkwds\u001b[0m\u001b[1;33m[\u001b[0m\u001b[1;34m'has_index_names'\u001b[0m\u001b[1;33m]\u001b[0m\u001b[1;33m\u001b[0m\u001b[0m\n\u001b[1;32m    589\u001b[0m \u001b[1;33m\u001b[0m\u001b[0m\n\u001b[0;32m--> 590\u001b[0;31m         \u001b[0mself\u001b[0m\u001b[1;33m.\u001b[0m\u001b[0m_make_engine\u001b[0m\u001b[1;33m(\u001b[0m\u001b[0mself\u001b[0m\u001b[1;33m.\u001b[0m\u001b[0mengine\u001b[0m\u001b[1;33m)\u001b[0m\u001b[1;33m\u001b[0m\u001b[0m\n\u001b[0m\u001b[1;32m    591\u001b[0m \u001b[1;33m\u001b[0m\u001b[0m\n\u001b[1;32m    592\u001b[0m     \u001b[1;32mdef\u001b[0m \u001b[0m_get_options_with_defaults\u001b[0m\u001b[1;33m(\u001b[0m\u001b[0mself\u001b[0m\u001b[1;33m,\u001b[0m \u001b[0mengine\u001b[0m\u001b[1;33m)\u001b[0m\u001b[1;33m:\u001b[0m\u001b[1;33m\u001b[0m\u001b[0m\n",
      "\u001b[0;32mc:\\anaconda\\lib\\site-packages\\pandas\\io\\parsers.pyc\u001b[0m in \u001b[0;36m_make_engine\u001b[0;34m(self, engine)\u001b[0m\n\u001b[1;32m    729\u001b[0m     \u001b[1;32mdef\u001b[0m \u001b[0m_make_engine\u001b[0m\u001b[1;33m(\u001b[0m\u001b[0mself\u001b[0m\u001b[1;33m,\u001b[0m \u001b[0mengine\u001b[0m\u001b[1;33m=\u001b[0m\u001b[1;34m'c'\u001b[0m\u001b[1;33m)\u001b[0m\u001b[1;33m:\u001b[0m\u001b[1;33m\u001b[0m\u001b[0m\n\u001b[1;32m    730\u001b[0m         \u001b[1;32mif\u001b[0m \u001b[0mengine\u001b[0m \u001b[1;33m==\u001b[0m \u001b[1;34m'c'\u001b[0m\u001b[1;33m:\u001b[0m\u001b[1;33m\u001b[0m\u001b[0m\n\u001b[0;32m--> 731\u001b[0;31m             \u001b[0mself\u001b[0m\u001b[1;33m.\u001b[0m\u001b[0m_engine\u001b[0m \u001b[1;33m=\u001b[0m \u001b[0mCParserWrapper\u001b[0m\u001b[1;33m(\u001b[0m\u001b[0mself\u001b[0m\u001b[1;33m.\u001b[0m\u001b[0mf\u001b[0m\u001b[1;33m,\u001b[0m \u001b[1;33m**\u001b[0m\u001b[0mself\u001b[0m\u001b[1;33m.\u001b[0m\u001b[0moptions\u001b[0m\u001b[1;33m)\u001b[0m\u001b[1;33m\u001b[0m\u001b[0m\n\u001b[0m\u001b[1;32m    732\u001b[0m         \u001b[1;32melse\u001b[0m\u001b[1;33m:\u001b[0m\u001b[1;33m\u001b[0m\u001b[0m\n\u001b[1;32m    733\u001b[0m             \u001b[1;32mif\u001b[0m \u001b[0mengine\u001b[0m \u001b[1;33m==\u001b[0m \u001b[1;34m'python'\u001b[0m\u001b[1;33m:\u001b[0m\u001b[1;33m\u001b[0m\u001b[0m\n",
      "\u001b[0;32mc:\\anaconda\\lib\\site-packages\\pandas\\io\\parsers.pyc\u001b[0m in \u001b[0;36m__init__\u001b[0;34m(self, src, **kwds)\u001b[0m\n\u001b[1;32m   1101\u001b[0m         \u001b[0mkwds\u001b[0m\u001b[1;33m[\u001b[0m\u001b[1;34m'allow_leading_cols'\u001b[0m\u001b[1;33m]\u001b[0m \u001b[1;33m=\u001b[0m \u001b[0mself\u001b[0m\u001b[1;33m.\u001b[0m\u001b[0mindex_col\u001b[0m \u001b[1;32mis\u001b[0m \u001b[1;32mnot\u001b[0m \u001b[0mFalse\u001b[0m\u001b[1;33m\u001b[0m\u001b[0m\n\u001b[1;32m   1102\u001b[0m \u001b[1;33m\u001b[0m\u001b[0m\n\u001b[0;32m-> 1103\u001b[0;31m         \u001b[0mself\u001b[0m\u001b[1;33m.\u001b[0m\u001b[0m_reader\u001b[0m \u001b[1;33m=\u001b[0m \u001b[0m_parser\u001b[0m\u001b[1;33m.\u001b[0m\u001b[0mTextReader\u001b[0m\u001b[1;33m(\u001b[0m\u001b[0msrc\u001b[0m\u001b[1;33m,\u001b[0m \u001b[1;33m**\u001b[0m\u001b[0mkwds\u001b[0m\u001b[1;33m)\u001b[0m\u001b[1;33m\u001b[0m\u001b[0m\n\u001b[0m\u001b[1;32m   1104\u001b[0m \u001b[1;33m\u001b[0m\u001b[0m\n\u001b[1;32m   1105\u001b[0m         \u001b[1;31m# XXX\u001b[0m\u001b[1;33m\u001b[0m\u001b[1;33m\u001b[0m\u001b[0m\n",
      "\u001b[0;32mpandas\\parser.pyx\u001b[0m in \u001b[0;36mpandas.parser.TextReader.__cinit__ (pandas\\parser.c:3246)\u001b[0;34m()\u001b[0m\n",
      "\u001b[0;32mpandas\\parser.pyx\u001b[0m in \u001b[0;36mpandas.parser.TextReader._setup_parser_source (pandas\\parser.c:6111)\u001b[0;34m()\u001b[0m\n",
      "\u001b[0;31mIOError\u001b[0m: File J:/Projects/Permits/17Permit/data/2working/template.csv does not exist"
     ]
    }
   ],
   "source": [
    "temp = pd.read_csv(working_dir + 'template.csv')\n",
    "raw_data = pd.read_csv(working_dir + 'KENT.csv')"
   ]
  },
  {
   "cell_type": "code",
   "execution_count": null,
   "metadata": {
    "collapsed": false
   },
   "outputs": [],
   "source": [
    "temp.columns"
   ]
  },
  {
   "cell_type": "code",
   "execution_count": 115,
   "metadata": {
    "collapsed": false
   },
   "outputs": [
    {
     "data": {
      "text/html": [
       "<div>\n",
       "<table border=\"1\" class=\"dataframe\">\n",
       "  <thead>\n",
       "    <tr style=\"text-align: right;\">\n",
       "      <th></th>\n",
       "      <th>Permit ID#</th>\n",
       "      <th>Project Name</th>\n",
       "      <th>Tax PID#</th>\n",
       "      <th>Site Address</th>\n",
       "      <th>Site ZipCode</th>\n",
       "      <th>Issue Date</th>\n",
       "      <th>Final Date</th>\n",
       "      <th>Status</th>\n",
       "      <th># of Units</th>\n",
       "      <th># of Buildings</th>\n",
       "      <th>Est. Value</th>\n",
       "      <th>Condo</th>\n",
       "      <th>Lot Area/Size</th>\n",
       "      <th>Zoning Code</th>\n",
       "      <th>Work Description</th>\n",
       "      <th>Structure Type</th>\n",
       "      <th>Permit Activity</th>\n",
       "      <th>Land Use</th>\n",
       "    </tr>\n",
       "  </thead>\n",
       "  <tbody>\n",
       "    <tr>\n",
       "      <th>0</th>\n",
       "      <td>CNST-2162979</td>\n",
       "      <td>REYNOLDS RESIDENCE - ADU</td>\n",
       "      <td>4030500130</td>\n",
       "      <td>13238 SE 261 ST</td>\n",
       "      <td>98042</td>\n",
       "      <td>11/18/2016</td>\n",
       "      <td>07/18/2017</td>\n",
       "      <td>DONE</td>\n",
       "      <td></td>\n",
       "      <td></td>\n",
       "      <td>$167.93</td>\n",
       "      <td></td>\n",
       "      <td>15,188</td>\n",
       "      <td>SR-6</td>\n",
       "      <td>CONSTRUCT DETACHED ADU WHICH WILL CONSIST OF 1...</td>\n",
       "      <td>ADU</td>\n",
       "      <td>Addition</td>\n",
       "      <td>Accessory Dwelling Unit</td>\n",
       "    </tr>\n",
       "    <tr>\n",
       "      <th>1</th>\n",
       "      <td>CNST-2161682</td>\n",
       "      <td>COUL RESIDENCE - ADU</td>\n",
       "      <td>1858600016</td>\n",
       "      <td>26412  106 AVE SE</td>\n",
       "      <td>98030</td>\n",
       "      <td>12/19/2016</td>\n",
       "      <td>11/28/2017</td>\n",
       "      <td>DONE</td>\n",
       "      <td></td>\n",
       "      <td></td>\n",
       "      <td>$0.00</td>\n",
       "      <td></td>\n",
       "      <td>6,869</td>\n",
       "      <td>SR-6</td>\n",
       "      <td>BUILDING, PLUMBING, MECHANICAL PERMIT         ...</td>\n",
       "      <td>ADU</td>\n",
       "      <td>Addition</td>\n",
       "      <td>Accessory Dwelling Unit</td>\n",
       "    </tr>\n",
       "  </tbody>\n",
       "</table>\n",
       "</div>"
      ],
      "text/plain": [
       "     Permit ID#              Project Name    Tax PID#        Site Address  \\\n",
       "0  CNST-2162979  REYNOLDS RESIDENCE - ADU  4030500130    13238 SE 261 ST    \n",
       "1  CNST-2161682      COUL RESIDENCE - ADU  1858600016  26412  106 AVE SE    \n",
       "\n",
       "   Site ZipCode   Issue Date   Final Date Status         # of Units  \\\n",
       "0         98042   11/18/2016   07/18/2017   DONE                      \n",
       "1         98030   12/19/2016   11/28/2017   DONE                      \n",
       "\n",
       "         # of Buildings Est. Value          Condo Lot Area/Size Zoning Code  \\\n",
       "0                          $167.93                      15,188         SR-6   \n",
       "1                            $0.00                       6,869         SR-6   \n",
       "\n",
       "                                    Work Description Structure Type  \\\n",
       "0  CONSTRUCT DETACHED ADU WHICH WILL CONSIST OF 1...            ADU   \n",
       "1  BUILDING, PLUMBING, MECHANICAL PERMIT         ...            ADU   \n",
       "\n",
       "  Permit Activity                 Land Use  \n",
       "0        Addition  Accessory Dwelling Unit  \n",
       "1        Addition  Accessory Dwelling Unit  "
      ]
     },
     "execution_count": 115,
     "metadata": {},
     "output_type": "execute_result"
    }
   ],
   "source": [
    "raw_data.head(2)"
   ]
  },
  {
   "cell_type": "code",
   "execution_count": 116,
   "metadata": {
    "collapsed": false
   },
   "outputs": [],
   "source": [
    "test1 = raw_data "
   ]
  },
  {
   "cell_type": "code",
   "execution_count": 117,
   "metadata": {
    "collapsed": true
   },
   "outputs": [],
   "source": [
    "# import the permit number and address column name \n",
    "my_permit_id = 'Permit ID#' #the column name for permit id from raw data\n",
    "my_address = 'Site Address'"
   ]
  },
  {
   "cell_type": "markdown",
   "metadata": {
    "collapsed": true
   },
   "source": [
    "# Sort "
   ]
  },
  {
   "cell_type": "markdown",
   "metadata": {},
   "source": [
    "Creat Sort ID by following previous format. The format could be different from city to city.  "
   ]
  },
  {
   "cell_type": "code",
   "execution_count": 118,
   "metadata": {
    "collapsed": false
   },
   "outputs": [
    {
     "name": "stderr",
     "output_type": "stream",
     "text": [
      "c:\\anaconda\\lib\\site-packages\\ipykernel\\__main__.py:5: SettingWithCopyWarning: \n",
      "A value is trying to be set on a copy of a slice from a DataFrame\n",
      "\n",
      "See the caveats in the documentation: http://pandas.pydata.org/pandas-docs/stable/indexing.html#indexing-view-versus-copy\n"
     ]
    }
   ],
   "source": [
    "test1['SORT'] = ''\n",
    "for i in range(len(test1)): \n",
    "    p = test1['Permit ID#'][i]\n",
    "    p1 = '2017' + p[:5] + '0' + p[-4:]\n",
    "    test1['SORT'][i] = p1"
   ]
  },
  {
   "cell_type": "code",
   "execution_count": 119,
   "metadata": {
    "collapsed": false
   },
   "outputs": [
    {
     "data": {
      "text/plain": [
       "0    2017CNST-02979\n",
       "1    2017CNST-01682\n",
       "2    2017CNST-04320\n",
       "3    2017CNST-01580\n",
       "4    2017CNST-01791\n",
       "Name: SORT, dtype: object"
      ]
     },
     "execution_count": 119,
     "metadata": {},
     "output_type": "execute_result"
    }
   ],
   "source": [
    "test1['SORT'].head()"
   ]
  },
  {
   "cell_type": "markdown",
   "metadata": {},
   "source": [
    "# Site Address"
   ]
  },
  {
   "cell_type": "markdown",
   "metadata": {},
   "source": [
    "split full address into ['HOUSENO', 'PREFIX', 'STRNAME', 'STRTYPE', 'SUFFIX', 'UNIT_BLD', 'CITY', 'STATE', 'ZIP'] columns"
   ]
  },
  {
   "cell_type": "code",
   "execution_count": 120,
   "metadata": {
    "collapsed": false,
    "scrolled": true
   },
   "outputs": [
    {
     "data": {
      "text/plain": [
       "0      13238 SE 261 ST \n",
       "1    26412  106 AVE SE \n",
       "2      24602  98 AVE S \n",
       "3       420 W SMITH ST \n",
       "4    3900  VETERANS DR \n",
       "5    3900  VETERANS DR \n",
       "6    3900  VETERANS DR \n",
       "7    3900  VETERANS DR \n",
       "8    3900  VETERANS DR \n",
       "9    3900  VETERANS DR \n",
       "Name: Site Address, dtype: object"
      ]
     },
     "execution_count": 120,
     "metadata": {},
     "output_type": "execute_result"
    }
   ],
   "source": [
    "test1[my_address].head(10)"
   ]
  },
  {
   "cell_type": "code",
   "execution_count": 121,
   "metadata": {
    "collapsed": false
   },
   "outputs": [],
   "source": [
    "col1 = ['HOUSENO', 'PREFIX', 'STRNAME', 'STRTYPE', 'SUFFIX', 'UNIT_BLD', 'CITY', 'STATE', 'ZIP']\n",
    "for c in col1:\n",
    "    test1[c] = ''"
   ]
  },
  {
   "cell_type": "code",
   "execution_count": 122,
   "metadata": {
    "collapsed": false
   },
   "outputs": [
    {
     "name": "stderr",
     "output_type": "stream",
     "text": [
      "c:\\anaconda\\lib\\site-packages\\ipykernel\\__main__.py:3: SettingWithCopyWarning: \n",
      "A value is trying to be set on a copy of a slice from a DataFrame\n",
      "\n",
      "See the caveats in the documentation: http://pandas.pydata.org/pandas-docs/stable/indexing.html#indexing-view-versus-copy\n",
      "  app.launch_new_instance()\n",
      "c:\\anaconda\\lib\\site-packages\\ipykernel\\__main__.py:7: SettingWithCopyWarning: \n",
      "A value is trying to be set on a copy of a slice from a DataFrame\n",
      "\n",
      "See the caveats in the documentation: http://pandas.pydata.org/pandas-docs/stable/indexing.html#indexing-view-versus-copy\n"
     ]
    }
   ],
   "source": [
    "# Roughly split full adress into columns, without QA/QC\n",
    "for i in range(len(test1)):\n",
    "    test1[my_address][i] = test1[my_address][i].replace(',', ' ')\n",
    "    address = test1[my_address][i].split()\n",
    "    if len(address) <= 9:\n",
    "        for j in range(len(address)): \n",
    "            test1[col1[j]][i] = address[j]\n",
    "    else: \n",
    "        print address \n",
    "        #for j in range(4): #why 4? already investigated (the default is 6)\n",
    "            #test1[col1[j]][i] = address[j+2]"
   ]
  },
  {
   "cell_type": "code",
   "execution_count": 123,
   "metadata": {
    "collapsed": false,
    "scrolled": false
   },
   "outputs": [
    {
     "data": {
      "text/html": [
       "<div>\n",
       "<table border=\"1\" class=\"dataframe\">\n",
       "  <thead>\n",
       "    <tr style=\"text-align: right;\">\n",
       "      <th></th>\n",
       "      <th>HOUSENO</th>\n",
       "      <th>PREFIX</th>\n",
       "      <th>STRNAME</th>\n",
       "      <th>STRTYPE</th>\n",
       "      <th>SUFFIX</th>\n",
       "      <th>UNIT_BLD</th>\n",
       "      <th>CITY</th>\n",
       "      <th>STATE</th>\n",
       "      <th>ZIP</th>\n",
       "    </tr>\n",
       "  </thead>\n",
       "  <tbody>\n",
       "    <tr>\n",
       "      <th>492</th>\n",
       "      <td>520</td>\n",
       "      <td>SCENIC</td>\n",
       "      <td>WAY</td>\n",
       "      <td>S</td>\n",
       "      <td></td>\n",
       "      <td></td>\n",
       "      <td></td>\n",
       "      <td></td>\n",
       "      <td></td>\n",
       "    </tr>\n",
       "    <tr>\n",
       "      <th>493</th>\n",
       "      <td>26215</td>\n",
       "      <td>143</td>\n",
       "      <td>AVE</td>\n",
       "      <td>SE</td>\n",
       "      <td></td>\n",
       "      <td></td>\n",
       "      <td></td>\n",
       "      <td></td>\n",
       "      <td></td>\n",
       "    </tr>\n",
       "    <tr>\n",
       "      <th>494</th>\n",
       "      <td>13927</td>\n",
       "      <td>SE</td>\n",
       "      <td>238</td>\n",
       "      <td>PL</td>\n",
       "      <td></td>\n",
       "      <td></td>\n",
       "      <td></td>\n",
       "      <td></td>\n",
       "      <td></td>\n",
       "    </tr>\n",
       "    <tr>\n",
       "      <th>495</th>\n",
       "      <td>12524</td>\n",
       "      <td>SE</td>\n",
       "      <td>264</td>\n",
       "      <td>ST</td>\n",
       "      <td></td>\n",
       "      <td></td>\n",
       "      <td></td>\n",
       "      <td></td>\n",
       "      <td></td>\n",
       "    </tr>\n",
       "    <tr>\n",
       "      <th>496</th>\n",
       "      <td>4520</td>\n",
       "      <td>S</td>\n",
       "      <td>220</td>\n",
       "      <td>ST</td>\n",
       "      <td></td>\n",
       "      <td></td>\n",
       "      <td></td>\n",
       "      <td></td>\n",
       "      <td></td>\n",
       "    </tr>\n",
       "    <tr>\n",
       "      <th>497</th>\n",
       "      <td>10208</td>\n",
       "      <td>SE</td>\n",
       "      <td>228</td>\n",
       "      <td>ST</td>\n",
       "      <td></td>\n",
       "      <td></td>\n",
       "      <td></td>\n",
       "      <td></td>\n",
       "      <td></td>\n",
       "    </tr>\n",
       "    <tr>\n",
       "      <th>498</th>\n",
       "      <td>635</td>\n",
       "      <td>CLEARVIEW</td>\n",
       "      <td>POINT</td>\n",
       "      <td></td>\n",
       "      <td></td>\n",
       "      <td></td>\n",
       "      <td></td>\n",
       "      <td></td>\n",
       "      <td></td>\n",
       "    </tr>\n",
       "    <tr>\n",
       "      <th>499</th>\n",
       "      <td>13523</td>\n",
       "      <td>SE</td>\n",
       "      <td>250</td>\n",
       "      <td>ST</td>\n",
       "      <td></td>\n",
       "      <td></td>\n",
       "      <td></td>\n",
       "      <td></td>\n",
       "      <td></td>\n",
       "    </tr>\n",
       "    <tr>\n",
       "      <th>500</th>\n",
       "      <td>14616</td>\n",
       "      <td>SE</td>\n",
       "      <td>284</td>\n",
       "      <td>ST</td>\n",
       "      <td></td>\n",
       "      <td></td>\n",
       "      <td></td>\n",
       "      <td></td>\n",
       "      <td></td>\n",
       "    </tr>\n",
       "    <tr>\n",
       "      <th>501</th>\n",
       "      <td>28235</td>\n",
       "      <td>104</td>\n",
       "      <td>AVE</td>\n",
       "      <td>SE</td>\n",
       "      <td></td>\n",
       "      <td></td>\n",
       "      <td></td>\n",
       "      <td></td>\n",
       "      <td></td>\n",
       "    </tr>\n",
       "    <tr>\n",
       "      <th>502</th>\n",
       "      <td>25124</td>\n",
       "      <td>132</td>\n",
       "      <td>AVE</td>\n",
       "      <td>SE</td>\n",
       "      <td></td>\n",
       "      <td></td>\n",
       "      <td></td>\n",
       "      <td></td>\n",
       "      <td></td>\n",
       "    </tr>\n",
       "    <tr>\n",
       "      <th>503</th>\n",
       "      <td>20510</td>\n",
       "      <td>93</td>\n",
       "      <td>PL</td>\n",
       "      <td>S</td>\n",
       "      <td></td>\n",
       "      <td></td>\n",
       "      <td></td>\n",
       "      <td></td>\n",
       "      <td></td>\n",
       "    </tr>\n",
       "    <tr>\n",
       "      <th>504</th>\n",
       "      <td>20610</td>\n",
       "      <td>93</td>\n",
       "      <td>PL</td>\n",
       "      <td>S</td>\n",
       "      <td></td>\n",
       "      <td></td>\n",
       "      <td></td>\n",
       "      <td></td>\n",
       "      <td></td>\n",
       "    </tr>\n",
       "    <tr>\n",
       "      <th>505</th>\n",
       "      <td>20609</td>\n",
       "      <td>93</td>\n",
       "      <td>PL</td>\n",
       "      <td>S</td>\n",
       "      <td></td>\n",
       "      <td></td>\n",
       "      <td></td>\n",
       "      <td></td>\n",
       "      <td></td>\n",
       "    </tr>\n",
       "    <tr>\n",
       "      <th>506</th>\n",
       "      <td>20602</td>\n",
       "      <td>93</td>\n",
       "      <td>PL</td>\n",
       "      <td>S</td>\n",
       "      <td></td>\n",
       "      <td></td>\n",
       "      <td></td>\n",
       "      <td></td>\n",
       "      <td></td>\n",
       "    </tr>\n",
       "    <tr>\n",
       "      <th>507</th>\n",
       "      <td>20616</td>\n",
       "      <td>93</td>\n",
       "      <td>PL</td>\n",
       "      <td>S</td>\n",
       "      <td></td>\n",
       "      <td></td>\n",
       "      <td></td>\n",
       "      <td></td>\n",
       "      <td></td>\n",
       "    </tr>\n",
       "    <tr>\n",
       "      <th>508</th>\n",
       "      <td>20615</td>\n",
       "      <td>93</td>\n",
       "      <td>PL</td>\n",
       "      <td>S</td>\n",
       "      <td></td>\n",
       "      <td></td>\n",
       "      <td></td>\n",
       "      <td></td>\n",
       "      <td></td>\n",
       "    </tr>\n",
       "    <tr>\n",
       "      <th>509</th>\n",
       "      <td>20703</td>\n",
       "      <td>93</td>\n",
       "      <td>PL</td>\n",
       "      <td>S</td>\n",
       "      <td></td>\n",
       "      <td></td>\n",
       "      <td></td>\n",
       "      <td></td>\n",
       "      <td></td>\n",
       "    </tr>\n",
       "    <tr>\n",
       "      <th>510</th>\n",
       "      <td>733</td>\n",
       "      <td>5</td>\n",
       "      <td>AVE</td>\n",
       "      <td>S</td>\n",
       "      <td></td>\n",
       "      <td></td>\n",
       "      <td></td>\n",
       "      <td></td>\n",
       "      <td></td>\n",
       "    </tr>\n",
       "    <tr>\n",
       "      <th>511</th>\n",
       "      <td>733</td>\n",
       "      <td>5</td>\n",
       "      <td>AVE</td>\n",
       "      <td>S</td>\n",
       "      <td></td>\n",
       "      <td></td>\n",
       "      <td></td>\n",
       "      <td></td>\n",
       "      <td></td>\n",
       "    </tr>\n",
       "  </tbody>\n",
       "</table>\n",
       "</div>"
      ],
      "text/plain": [
       "    HOUSENO     PREFIX STRNAME STRTYPE SUFFIX UNIT_BLD CITY STATE ZIP\n",
       "492     520     SCENIC     WAY       S                               \n",
       "493   26215        143     AVE      SE                               \n",
       "494   13927         SE     238      PL                               \n",
       "495   12524         SE     264      ST                               \n",
       "496    4520          S     220      ST                               \n",
       "497   10208         SE     228      ST                               \n",
       "498     635  CLEARVIEW   POINT                                       \n",
       "499   13523         SE     250      ST                               \n",
       "500   14616         SE     284      ST                               \n",
       "501   28235        104     AVE      SE                               \n",
       "502   25124        132     AVE      SE                               \n",
       "503   20510         93      PL       S                               \n",
       "504   20610         93      PL       S                               \n",
       "505   20609         93      PL       S                               \n",
       "506   20602         93      PL       S                               \n",
       "507   20616         93      PL       S                               \n",
       "508   20615         93      PL       S                               \n",
       "509   20703         93      PL       S                               \n",
       "510     733          5     AVE       S                               \n",
       "511     733          5     AVE       S                               "
      ]
     },
     "execution_count": 123,
     "metadata": {},
     "output_type": "execute_result"
    }
   ],
   "source": [
    "test1[['HOUSENO', 'PREFIX', 'STRNAME', 'STRTYPE', 'SUFFIX', 'UNIT_BLD', 'CITY', 'STATE', 'ZIP']][-20:]"
   ]
  },
  {
   "cell_type": "code",
   "execution_count": 124,
   "metadata": {
    "collapsed": false
   },
   "outputs": [
    {
     "data": {
      "text/plain": [
       "array(['', 'AVE', 'CT', 'KANGLEY', 'LN', 'N', 'PL', 'S', 'SE', 'ST', 'WAY'], dtype=object)"
      ]
     },
     "execution_count": 124,
     "metadata": {},
     "output_type": "execute_result"
    }
   ],
   "source": [
    "np.unique(test1[['STRTYPE']])"
   ]
  },
  {
   "cell_type": "code",
   "execution_count": 125,
   "metadata": {
    "collapsed": false
   },
   "outputs": [
    {
     "data": {
      "text/plain": [
       "array(['192', '196', '197', '202', '204', '208', '212', '218', '219',\n",
       "       '220', '222', '227', '228', '229', '238', '240', '241', '242',\n",
       "       '243', '244', '245', '246', '248', '250', '251', '252', '253',\n",
       "       '255', '259', '260', '261', '264', '266', '267', '269', '270',\n",
       "       '272', '273', '276', '277', '278', '280', '284', '292', '293',\n",
       "       '294', '295', '297', 'ALDER', 'AVE', 'CT', 'DR', 'GUIBERSON', 'HWY',\n",
       "       'KENT', 'LN', 'NADEN', 'PL', 'POINT', 'RD', 'SMITH', 'ST', 'TITUS',\n",
       "       'WAY'], dtype=object)"
      ]
     },
     "execution_count": 125,
     "metadata": {},
     "output_type": "execute_result"
    }
   ],
   "source": [
    "np.unique(test1[[ 'STRNAME']])"
   ]
  },
  {
   "cell_type": "code",
   "execution_count": 126,
   "metadata": {
    "collapsed": true
   },
   "outputs": [],
   "source": [
    "list_prefix = ['S', 'SE', 'SW', 'W', 'NW', 'N','NE','E']\n",
    "list_suffix = ['S', 'SE', 'SW', 'W', 'NW', 'N','NE','E']"
   ]
  },
  {
   "cell_type": "code",
   "execution_count": 127,
   "metadata": {
    "collapsed": true
   },
   "outputs": [],
   "source": [
    "# Fix the prefix \n",
    "for i in range (len(test1)): \n",
    "    if test1['PREFIX'][i] not in list_prefix: \n",
    "        # move the value into next column \n",
    "        test1.loc[i:i,['PREFIX', 'STRNAME', 'STRTYPE', 'SUFFIX', 'UNIT_BLD']] = test1.loc[i:i,['PREFIX', 'STRNAME', 'STRTYPE', 'SUFFIX', 'UNIT_BLD']].shift(1,axis=1)\n",
    "    else:\n",
    "        continue "
   ]
  },
  {
   "cell_type": "code",
   "execution_count": 128,
   "metadata": {
    "collapsed": true
   },
   "outputs": [],
   "source": [
    "city_list = ['Auburn', 'AUBURN', 'RENTON', 'ENUMCLAW', 'Enumclaw', 'BEND', 'CARNATION', \n",
    "            'DUVALL', 'ISSAQUAH', 'Issaquah', 'KENT', 'King', 'PRESTON', 'RAVENSDALE',\n",
    "            'REDMOND', 'Renton', 'SAMMAMISH', 'SNOQUALMIE', 'VASHON', 'WOODINVILLE',\n",
    "            ]\n",
    "\n",
    "\n",
    "street_type = ['AVE', 'BLVD', 'CIR','CIRCLE','CROSSING', 'COVE', 'CT', 'DR', 'HWY', \n",
    "               'LN', 'LINE', 'LOOP', 'PL', 'RD', 'ROAD','Road','SHORE',\n",
    "               'ST', 'TRAIL', 'TRL',  'WAY']"
   ]
  },
  {
   "cell_type": "code",
   "execution_count": 129,
   "metadata": {
    "collapsed": true
   },
   "outputs": [],
   "source": [
    "backup_test1 = test1 # just in case, if I lost all data later "
   ]
  },
  {
   "cell_type": "code",
   "execution_count": 130,
   "metadata": {
    "collapsed": false,
    "scrolled": false
   },
   "outputs": [
    {
     "name": "stderr",
     "output_type": "stream",
     "text": [
      "c:\\anaconda\\lib\\site-packages\\ipykernel\\__main__.py:7: SettingWithCopyWarning: \n",
      "A value is trying to be set on a copy of a slice from a DataFrame\n",
      "\n",
      "See the caveats in the documentation: http://pandas.pydata.org/pandas-docs/stable/indexing.html#indexing-view-versus-copy\n"
     ]
    }
   ],
   "source": [
    "# use ['SUFFIX'] as the base to inspect the row # data, QA/QC street name and unit building name.\n",
    "for i in range(len(test1)): \n",
    "    #print test1['SUFFIX'][i]\n",
    "    if len(test1[my_address][i].split()) > 4: \n",
    "        #print i \n",
    "        if str(test1['SUFFIX'][i]) in street_type: \n",
    "            test1['STRNAME'][i] = test1['STRNAME'][i] + ' ' + test1['STRTYPE'][i] \n",
    "            test1.loc[i:i,['STRTYPE', 'SUFFIX', 'UNIT_BLD']] = test1.loc[i:i,['STRTYPE', 'SUFFIX', 'UNIT_BLD']].shift(-1,axis=1)\n",
    "        else: \n",
    "            if str(test1['SUFFIX'][i]) in list_suffix: # suffix is suffix\n",
    "                continue\n",
    "            if str(test1['SUFFIX'][i]) in city_list: # city name in suffix\n",
    "                test1.loc[i:i,['SUFFIX', 'UNIT_BLD']] = test1.loc[i:i,['SUFFIX', 'UNIT_BLD']].shift(1,axis=1)\n",
    "            if str(test1['SUFFIX'][i]) in ['WA']: # state name in suffix\n",
    "                test1.loc[i:i,['SUFFIX', 'UNIT_BLD']] = test1.loc[i:i,['SUFFIX', 'UNIT_BLD']].shift(2,axis=1)\n",
    "            if str(test1['SUFFIX'][i])[0] == 9: # zipcode in suffix\n",
    "                test1.loc[i:i,['SUFFIX', 'UNIT_BLD']] = test1.loc[i:i,['SUFFIX', 'UNIT_BLD']].shift(2,axis=1)\n",
    "            else: #may be street name in suffix ? or nothing in suffix \n",
    "                #print test1['ADDRESS'][i]\n",
    "                continue\n",
    "            #test1.loc[i:i,['SUFFIX', 'UNIT_BLD']] = test1.loc[i:i,['SUFFIX', 'UNIT_BLD']].shift(1,axis=1)\n",
    "    else: \n",
    "        continue "
   ]
  },
  {
   "cell_type": "code",
   "execution_count": 131,
   "metadata": {
    "collapsed": false
   },
   "outputs": [
    {
     "name": "stdout",
     "output_type": "stream",
     "text": [
      "[nan 'E' 'S' 'SE' 'W']\n",
      "['1/2 NADEN' '100' '101' '104' '106' '110' '112' '113' '114' '116' '117'\n",
      " '119' '120' '121' '122' '123' '124' '128' '131' '132' '133' '134' '138'\n",
      " '139' '140' '141' '143' '144' '147' '150' '151' '152' '153' '154' '155'\n",
      " '192' '196' '197' '2' '202' '204' '208' '212' '218' '219' '220' '222'\n",
      " '227' '228' '229' '238' '240' '241' '242' '243' '244' '245' '246' '248'\n",
      " '250' '251' '252' '253' '255' '259' '260' '261' '264' '266' '267' '269'\n",
      " '270' '272' '273' '276' '277' '278' '280' '284' '292' '293' '294' '295'\n",
      " '297' '38' '43' '5' '72' '76' '84' '90' '91' '92' '93' '94' '96' '97' '98'\n",
      " '99' 'ALDER' 'CENTRAL' 'CLEARVIEW' 'FRAGER' 'GUIBERSON' 'HAZEL'\n",
      " 'KENSINGTON' 'KENT KANGLEY' 'MAPLE' 'MILITARY' 'NADEN' 'PACIFIC' 'REITEN'\n",
      " 'SCENIC' 'SMITH' 'STATE' 'TITUS' 'VETERANS' 'WASHINGTON' 'WOODFORD']\n",
      "['AVE' 'CT' 'DR' 'HWY' 'LN' 'PL' 'POINT' 'RD' 'ST' 'WAY']\n",
      "['' 'N' 'S' 'SE']\n",
      "[nan '' '#A' 'SPC21' 'SPC7']\n",
      "['']\n",
      "['']\n",
      "['']\n"
     ]
    }
   ],
   "source": [
    "#validate\n",
    "#print np.unique(test1[[ 'HOUSENO']])\n",
    "print np.unique(test1[[ 'PREFIX']])\n",
    "print np.unique(test1[[ 'STRNAME']])\n",
    "print np.unique(test1[[ 'STRTYPE']])\n",
    "print np.unique(test1[[ 'SUFFIX']])\n",
    "print np.unique(test1[[ 'UNIT_BLD']])\n",
    "print np.unique(test1[[ 'CITY']])\n",
    "print np.unique(test1[[ 'STATE']])\n",
    "print np.unique(test1[[ 'ZIP']])"
   ]
  },
  {
   "cell_type": "code",
   "execution_count": 132,
   "metadata": {
    "collapsed": false
   },
   "outputs": [],
   "source": [
    "test1['ZIP'] = test1['Site ZipCode']"
   ]
  },
  {
   "cell_type": "code",
   "execution_count": 133,
   "metadata": {
    "collapsed": false
   },
   "outputs": [
    {
     "data": {
      "text/plain": [
       "array([ 98030.,  98031.,  98032.,  98042.,  98055.,  98092.,     nan,\n",
       "           nan,     nan,     nan,     nan,     nan,     nan,     nan,\n",
       "           nan,     nan,     nan,     nan,     nan,     nan,     nan,\n",
       "           nan,     nan,     nan,     nan,     nan,     nan,     nan,\n",
       "           nan,     nan,     nan,     nan,     nan,     nan,     nan,\n",
       "           nan,     nan,     nan])"
      ]
     },
     "execution_count": 133,
     "metadata": {},
     "output_type": "execute_result"
    }
   ],
   "source": [
    "np.unique(test1['ZIP'])"
   ]
  },
  {
   "cell_type": "markdown",
   "metadata": {},
   "source": [
    "# Drop Commercial "
   ]
  },
  {
   "cell_type": "code",
   "execution_count": 134,
   "metadata": {
    "code_folding": [],
    "collapsed": false
   },
   "outputs": [
    {
     "name": "stdout",
     "output_type": "stream",
     "text": [
      "10\n",
      "['COMMERCIAL', 'CONSTRUCTION,', 'BUILDING,', 'PLUMBING,', 'MECHANICAL.', '***Electrical', 'work', 'to', 'be']\n",
      "11\n",
      "['COMMERCIAL', 'BUILDING,', 'BUILDING,', 'PLUMBING,', 'MECHANICAL.', '***Electrical', 'work', 'to', 'performed']\n",
      "22\n",
      "['COMMERCIAL', 'ALTERATION,', 'CHANGE', 'OF', 'USE,', 'BUILDING', 'ONLY.', '***Mechanical,', 'plumbing,']\n",
      "23\n",
      "['COMMERCIAL', 'ALTERATION/CHANGE', 'OF', 'USE,', 'BUILDING', 'AND', 'PLUMBING', '***Mechanical', 'and']\n",
      "24\n",
      "['COMMERCIAL', 'ALTERATION', 'AND', 'CHANGE', 'OF', 'USE.', 'BUILDING', 'ONLY,', '***']\n",
      "27\n",
      "['COMMERCIAL', 'ALTERATION,', 'BUILDING', 'AND', 'PLUMBING', 'ONLY.', '***Mechanical', 'and', 'electrical']\n",
      "29\n",
      "['COMMERCIAL', 'ACCESSORY', 'BUILDING.', '329', 'SF', '-', 'PUMP', 'STATION', 'CONSTRUCT']\n",
      "30\n",
      "['COMMERCIAL', 'ACCESSORY', 'BUILDING.', '266', 'SF', '-', 'ELECTRICAL', 'SHELTER', 'CONSTRUCT']\n",
      "31\n",
      "['COMMERCIAL', 'ACCESSORY', 'BUILDING,', 'BUILDING', 'ONLY..', '513', 'SF', '-', 'GENERATOR']\n",
      "36\n",
      "['COMMERCIAL', 'ACCESSORY', 'BUILDING', 'FOR', 'EMPLOYEE', 'SMOKING.', 'ARCHITECT', 'OF', 'RECORD:']\n",
      "53\n",
      "['COMMERCIAL', 'STRUCTURE.']\n"
     ]
    }
   ],
   "source": [
    "drop_index = []\n",
    "for i in range(len(test1)):\n",
    "    des = test1[i:i+1]['Work Description'].tolist()[0].split()\n",
    "    if 'COMMERCIAL' in des:\n",
    "        print i \n",
    "        for j in range(len(des)):\n",
    "            if des[j] == 'COMMERCIAL':\n",
    "                print des[j:j+9]\n",
    "        drop_index = drop_index + [i]\n",
    "        "
   ]
  },
  {
   "cell_type": "code",
   "execution_count": 135,
   "metadata": {
    "collapsed": false
   },
   "outputs": [
    {
     "data": {
      "text/plain": [
       "[10, 11, 22, 23, 24, 27, 29, 30, 31, 36, 53]"
      ]
     },
     "execution_count": 135,
     "metadata": {},
     "output_type": "execute_result"
    }
   ],
   "source": [
    "drop_index"
   ]
  },
  {
   "cell_type": "code",
   "execution_count": 136,
   "metadata": {
    "collapsed": true
   },
   "outputs": [],
   "source": [
    "test2 = test1.drop(test1.index[drop_index]).reset_index(drop=True)"
   ]
  },
  {
   "cell_type": "code",
   "execution_count": null,
   "metadata": {
    "collapsed": true
   },
   "outputs": [],
   "source": []
  },
  {
   "cell_type": "markdown",
   "metadata": {},
   "source": [
    "# TYPE & PS"
   ]
  },
  {
   "cell_type": "markdown",
   "metadata": {
    "collapsed": true
   },
   "source": [
    "WARNING: 'TYPE', 'PS' ARE VERY DIFFICULT TO CODE, will NEED cross exam this step via excel manually in the end. "
   ]
  },
  {
   "cell_type": "markdown",
   "metadata": {},
   "source": [
    "Step1: get MF/Mobile home unit number (###)\n",
    "* find unit number from work description\n",
    "* confirm MF numbers from structure type information, permit activities infor, or other available informations\n",
    "\n",
    "Step2: get SF unit number (1, -1)\n",
    "* detect if it is new\n",
    "* detect if it is demolished \n",
    "* detect if it is additional dewell unit - depends on new structure type to jusdge unit#"
   ]
  },
  {
   "cell_type": "code",
   "execution_count": 165,
   "metadata": {
    "collapsed": false
   },
   "outputs": [],
   "source": [
    "test2['UNITS'] = ''\n",
    "test2['PS'] = ''\n",
    "test2['TYPE'] = ''\n",
    "test2['BLDGS'] = 1 #default - will have it updated if need"
   ]
  },
  {
   "cell_type": "code",
   "execution_count": 166,
   "metadata": {
    "collapsed": false
   },
   "outputs": [
    {
     "name": "stdout",
     "output_type": "stream",
     "text": [
      "['ADU' 'MF' 'MH' 'Other' 'SF']\n",
      "[nan 'Addition' 'New']\n",
      "----------------check correlation---------------------\n",
      "['Addition']\n",
      "['New']\n",
      "['New']\n",
      "[]\n",
      "['Addition' 'New']\n"
     ]
    }
   ],
   "source": [
    "print np.unique(test2['Structure Type'])\n",
    "print np.unique(test2['Permit Activity'])\n",
    "print \"----------------check correlation---------------------\"\n",
    "print np.unique(test2[(test2['Structure Type'] == 'ADU')]['Permit Activity'])\n",
    "print np.unique(test2[(test2['Structure Type'] == 'MF')]['Permit Activity'])\n",
    "print np.unique(test2[(test2['Structure Type'] == 'MH')]['Permit Activity'])\n",
    "print np.unique(test2[(test2['Structure Type'] == 'OTHER')]['Permit Activity'])\n",
    "print np.unique(test2[(test2['Structure Type'] == 'SF')]['Permit Activity'])"
   ]
  },
  {
   "cell_type": "markdown",
   "metadata": {},
   "source": [
    "# -----> Step 1"
   ]
  },
  {
   "cell_type": "code",
   "execution_count": 167,
   "metadata": {
    "collapsed": false
   },
   "outputs": [
    {
     "name": "stdout",
     "output_type": "stream",
     "text": [
      "3\n",
      "['PODIUM', '(4+1)', '154', 'DWELLING', 'UNITS', 'SQUARE', 'FOOTAGE:', '1ST', 'FLOOR', '-']\n",
      "4\n",
      "['STORIES:', '4.', 'NUMBER', 'OF', 'UNITS:', '28', 'SQUARE', 'FOOTAGE:', '1ST', 'FLOOR:']\n",
      "5\n",
      "['garage).', 'NUMBER', 'OF', 'DWELLING', 'UNITS:', '2.', 'NUMBER', 'OF', 'GARAGE', 'BAYS:']\n",
      "6\n",
      "['3.', 'NUMBER', 'OF', 'DWELLING', 'UNITS:', '2.', 'NUMBER', 'OF', 'GARAGE', 'BAYS:']\n",
      "7\n",
      "['3.', 'NUMBER', 'OF', 'DWELLING', 'UNITS:', '2.', 'NUMBER', 'OF', 'GARAGE', 'BAYS:']\n",
      "8\n",
      "['3.', 'NUMBER', 'OF', 'DWELLING', 'UNITS:', '2.', 'NUMBER', 'OF', 'GARAGE', 'BAYS:']\n",
      "9\n",
      "['GROUP:', 'R-2.', 'NUMBER', 'OF', 'UNITS:', '32', 'SQUARE', 'FOOTAGE:', '1ST', 'FLOOR:']\n",
      "10\n",
      "['R-2.', 'NUMBER', 'OF', 'DWELLING', 'UNITS:', '16', '2012', 'IBC.', '2012', 'WSEC.']\n",
      "11\n",
      "['R-2.', 'NUMBER', 'OF', 'DWELLING', 'UNITS:', '14', '2012', 'IBC.', '2012', 'WSEC.']\n",
      "12\n",
      "['R-2.', 'NUMBER', 'OF', 'DWELLING', 'UNITS:', '16', '2012', 'IBC.', '2012', 'WSEC.']\n",
      "492\n",
      "['OVER', 'BASEMENT)', 'NUMBER', 'OF', 'UNITS:', '4', 'SQUARE', 'FOOTAGE:', '1ST', 'FLOOR:']\n",
      "493\n",
      "['OVER', 'BASEMENT)', 'NUMBER', 'OF', 'UNITS:', '2', 'SQUARE', 'FOOTAGE:', '1ST', 'FLOOR:']\n",
      "494\n",
      "['OVER', 'BASEMENT)', 'NUMBER', 'OF', 'UNITS:', '2', 'SQUARE', 'FOOTAGE:', '1ST', 'FLOOR:']\n",
      "495\n",
      "['OVER', 'BASEMENT)', 'NUMBER', 'OF', 'UNITS:', '2', 'SQUARE', 'FOOTAGE:', '1ST', 'FLOOR:']\n",
      "496\n",
      "['OVER', 'BASEMENT)', 'NUMBER', 'OF', 'UNITS:', '4', 'SQUARE', 'FOOTAGE:', '1ST', 'FLOOR:']\n",
      "497\n",
      "['OVER', 'BASEMENT)', 'NUMBER', 'OF', 'UNITS:', '4', 'SQUARE', 'FOOTAGE:', '1ST', 'FLOOR:']\n",
      "498\n",
      "['STORIES:', '2', 'NUMBER', 'OF', 'UNITS:', '4', 'SQUARE', 'FOOTAGE', '-', 'BASEMENT:']\n",
      "499\n",
      "['CONSTRUCT', 'TOWNHOUSE', 'WITH', '4', 'UNITS', 'AND', '2', 'HOUR', 'SEPARATION', 'WALLS']\n",
      "['HOUR', 'SEPARATION', 'WALLS', 'BETWEEN', 'UNITS', '(BLDG.', 'B)', 'TYPE', 'OF', 'CONSTRUCTION:VB']\n",
      "500\n",
      "['CONSTRUCT', 'TOWNHOUSE', 'WITH', '4', 'UNITS', 'AND', '2', 'HOUR', 'SEPARATION', 'WALLS']\n",
      "['HOUR', 'SEPARATION', 'WALLS', 'BETWEEN', 'UNITS', '(BLDG.', 'A)', 'TYPE', 'OF', 'CONSTRUCTION:VB']\n"
     ]
    }
   ],
   "source": [
    "# find unit number from work description\n",
    "units_index = []\n",
    "for i in range(len(test2)):\n",
    "    des = test2[i:i+1]['Work Description'].tolist()[0].split()\n",
    "    if 'UNITS' in des:\n",
    "        print i \n",
    "        for j in range(len(des)):\n",
    "            if des[j] == 'UNITS':\n",
    "                j = max(0, j-4)\n",
    "                print des[j:j+10]\n",
    "        units_index = units_index + [i]\n",
    "\n",
    "    else: \n",
    "        if 'UNITS:' in des:\n",
    "            print i \n",
    "            for j in range(len(des)):\n",
    "                if des[j] == 'UNITS:':\n",
    "                    j = max(0, j-4)\n",
    "                    print des[j:j+10]\n",
    "            units_index = units_index + [i]"
   ]
  },
  {
   "cell_type": "code",
   "execution_count": 168,
   "metadata": {
    "collapsed": false
   },
   "outputs": [
    {
     "data": {
      "text/plain": [
       "[3, 4, 5, 6, 7, 8, 9, 10, 11, 12, 492, 493, 494, 495, 496, 497, 498, 499, 500]"
      ]
     },
     "execution_count": 168,
     "metadata": {},
     "output_type": "execute_result"
    }
   ],
   "source": [
    "units_index"
   ]
  },
  {
   "cell_type": "code",
   "execution_count": 169,
   "metadata": {
    "collapsed": false
   },
   "outputs": [],
   "source": [
    "################### hard coding required {unit index : number of unit } ##########################\n",
    "units_index_dict = {3: 154, 4:28, 5:2, 6:2, 7:2, 8:2, 9:32, 10:16, 11:14, 12:16, \n",
    "                    492:4, 493:2, 494:2, 495:2, 496:4, 496:4, 497:4, \n",
    "                    498:4, 499:4, 500:4}\n",
    "\n",
    "#fill in the unit number found at work descriptions \n",
    "for i in units_index:\n",
    "    test2.loc[i, 'UNITS'] = units_index_dict[i]\n",
    "    test2.loc[i, 'PS'] = 0"
   ]
  },
  {
   "cell_type": "code",
   "execution_count": 170,
   "metadata": {
    "collapsed": true
   },
   "outputs": [],
   "source": [
    "#comfirm if we got everything for multi-family "
   ]
  },
  {
   "cell_type": "code",
   "execution_count": 171,
   "metadata": {
    "collapsed": false
   },
   "outputs": [
    {
     "name": "stdout",
     "output_type": "stream",
     "text": [
      "19\n",
      "19\n",
      "19\n"
     ]
    }
   ],
   "source": [
    "# Validate: based on structure type and permit activity, to check if there is any MF permits been left behind \n",
    "print len(units_index_dict)\n",
    "print len(test2[test2['Structure Type'] == 'MF'])\n",
    "print len(test2[(test2['Structure Type'] == 'MF') & (test2['Permit Activity'] == 'New')])"
   ]
  },
  {
   "cell_type": "markdown",
   "metadata": {},
   "source": [
    "If the numbers above are all same, perfectly match! No need to do futhure investigation "
   ]
  },
  {
   "cell_type": "code",
   "execution_count": 172,
   "metadata": {
    "collapsed": false
   },
   "outputs": [
    {
     "name": "stdout",
     "output_type": "stream",
     "text": [
      "3\n",
      "['PHASE', 'III', '***', 'BUILDING', 'ONLY', '(PLUMBING', 'AND', 'MECHANICAL', 'UNDER', 'SEPARTE']\n",
      "4\n",
      "['BUILDING:', 'GRANDVIEW', 'BLDG', 'A.', 'BUILDING', 'AND', 'PLUMBING', 'ONLY', 'TYPE', 'OF']\n",
      "5\n",
      "['GARAGE.', 'Grandview', 'Bldg', 'D.', 'BUILDING', 'AND', 'PLUMBING', 'ONLY', 'TYPE', 'OF']\n",
      "9\n",
      "['BUILDING,', 'Grandview', 'Bldg', 'N,', 'BUILDING', 'AND', 'PLUMBING', 'ONLY', 'TYPE', 'OF']\n"
     ]
    }
   ],
   "source": [
    "# BUILDING NUMBERS FOR THESE MULTI-FAMILY UNITS\n",
    "# building\n",
    "# find unit number from work description\n",
    "building_index = []\n",
    "for i in units_index:\n",
    "    des = test2[i:i+1]['Work Description'].tolist()[0].split()\n",
    "    if 'BUILDING' in des:\n",
    "        print i \n",
    "        for j in range(len(des)):\n",
    "            if des[j] == 'BUILDING':\n",
    "                j = max(0, j-4)\n",
    "                print des[j:j+10]\n",
    "        building_index = building_index + [i]\n",
    "\n",
    "    else: \n",
    "        if 'BUILDING' in des:\n",
    "            print i \n",
    "            for j in range(len(des)):\n",
    "                if des[j] == 'BUILDING':\n",
    "                    j = max(0, j-4)\n",
    "                    print des[j:j+10]\n",
    "            building_index = building_index + [i]"
   ]
  },
  {
   "cell_type": "code",
   "execution_count": 173,
   "metadata": {
    "collapsed": false
   },
   "outputs": [
    {
     "data": {
      "text/plain": [
       "\"\\n################### hard coding required {building index : number of building } ##########################\\nbuilding_index_dict = {:}\\n\\n#fill in the building number found at work descriptions \\nfor i in building_index:\\n    test2.loc[i, 'BLDGS'] = building_index_dict[i]\\n    \\n    \""
      ]
     },
     "execution_count": 173,
     "metadata": {},
     "output_type": "execute_result"
    }
   ],
   "source": [
    "'''\n",
    "################### hard coding required {building index : number of building } ##########################\n",
    "building_index_dict = {:}\n",
    "\n",
    "#fill in the building number found at work descriptions \n",
    "for i in building_index:\n",
    "    test2.loc[i, 'BLDGS'] = building_index_dict[i]\n",
    "    \n",
    "    '''"
   ]
  },
  {
   "cell_type": "markdown",
   "metadata": {},
   "source": [
    "# ------> step2"
   ]
  },
  {
   "cell_type": "code",
   "execution_count": 174,
   "metadata": {
    "collapsed": false
   },
   "outputs": [
    {
     "name": "stdout",
     "output_type": "stream",
     "text": [
      "431\n",
      "402\n"
     ]
    }
   ],
   "source": [
    "print len(test2[test2['Structure Type'] == 'SF'])\n",
    "print len(test2[(test2['Structure Type'] == 'SF') & (test2['Permit Activity'] == 'New')])"
   ]
  },
  {
   "cell_type": "code",
   "execution_count": 195,
   "metadata": {
    "collapsed": false
   },
   "outputs": [
    {
     "name": "stderr",
     "output_type": "stream",
     "text": [
      "c:\\anaconda\\lib\\site-packages\\ipykernel\\__main__.py:1: SettingWithCopyWarning: \n",
      "A value is trying to be set on a copy of a slice from a DataFrame.\n",
      "Try using .loc[row_indexer,col_indexer] = value instead\n",
      "\n",
      "See the caveats in the documentation: http://pandas.pydata.org/pandas-docs/stable/indexing.html#indexing-view-versus-copy\n",
      "  if __name__ == '__main__':\n",
      "c:\\anaconda\\lib\\site-packages\\ipykernel\\__main__.py:2: SettingWithCopyWarning: \n",
      "A value is trying to be set on a copy of a slice from a DataFrame.\n",
      "Try using .loc[row_indexer,col_indexer] = value instead\n",
      "\n",
      "See the caveats in the documentation: http://pandas.pydata.org/pandas-docs/stable/indexing.html#indexing-view-versus-copy\n",
      "  from ipykernel import kernelapp as app\n",
      "c:\\anaconda\\lib\\site-packages\\ipykernel\\__main__.py:3: SettingWithCopyWarning: \n",
      "A value is trying to be set on a copy of a slice from a DataFrame.\n",
      "Try using .loc[row_indexer,col_indexer] = value instead\n",
      "\n",
      "See the caveats in the documentation: http://pandas.pydata.org/pandas-docs/stable/indexing.html#indexing-view-versus-copy\n",
      "  app.launch_new_instance()\n"
     ]
    }
   ],
   "source": [
    "test2[(test2['Structure Type'] == 'SF') & (test2['Permit Activity'] == 'New')]['UNITS'] = 1\n",
    "test2[(test2['Structure Type'] == 'SF') & (test2['Permit Activity'] == 'New')]['PS'] = 0\n",
    "test2[(test2['Structure Type'] == 'SF') & (test2['Permit Activity'] == 'New')]['TYPE'] = 111"
   ]
  },
  {
   "cell_type": "code",
   "execution_count": 204,
   "metadata": {
    "collapsed": false
   },
   "outputs": [
    {
     "data": {
      "text/plain": [
       "501"
      ]
     },
     "execution_count": 204,
     "metadata": {},
     "output_type": "execute_result"
    }
   ],
   "source": [
    "len(test2['TYPE'] == 111)"
   ]
  },
  {
   "cell_type": "code",
   "execution_count": 200,
   "metadata": {
    "collapsed": false
   },
   "outputs": [
    {
     "name": "stderr",
     "output_type": "stream",
     "text": [
      "c:\\anaconda\\lib\\site-packages\\ipykernel\\__main__.py:1: SettingWithCopyWarning: \n",
      "A value is trying to be set on a copy of a slice from a DataFrame.\n",
      "Try using .loc[row_indexer,col_indexer] = value instead\n",
      "\n",
      "See the caveats in the documentation: http://pandas.pydata.org/pandas-docs/stable/indexing.html#indexing-view-versus-copy\n",
      "  if __name__ == '__main__':\n",
      "c:\\anaconda\\lib\\site-packages\\ipykernel\\__main__.py:2: SettingWithCopyWarning: \n",
      "A value is trying to be set on a copy of a slice from a DataFrame.\n",
      "Try using .loc[row_indexer,col_indexer] = value instead\n",
      "\n",
      "See the caveats in the documentation: http://pandas.pydata.org/pandas-docs/stable/indexing.html#indexing-view-versus-copy\n",
      "  from ipykernel import kernelapp as app\n",
      "c:\\anaconda\\lib\\site-packages\\ipykernel\\__main__.py:3: SettingWithCopyWarning: \n",
      "A value is trying to be set on a copy of a slice from a DataFrame.\n",
      "Try using .loc[row_indexer,col_indexer] = value instead\n",
      "\n",
      "See the caveats in the documentation: http://pandas.pydata.org/pandas-docs/stable/indexing.html#indexing-view-versus-copy\n",
      "  app.launch_new_instance()\n"
     ]
    }
   ],
   "source": [
    "test2[(test2['Structure Type'] == 'SF') & (test2['Permit Activity'] == 'Addition')]['UNITS'] = 1\n",
    "test2[(test2['Structure Type'] == 'SF') & (test2['Permit Activity'] == 'Addition')]['PS'] = 1\n",
    "test2[(test2['Structure Type'] == 'SF') & (test2['Permit Activity'] == 'Addition')]['TYPE'] = 111"
   ]
  },
  {
   "cell_type": "code",
   "execution_count": 203,
   "metadata": {
    "collapsed": false
   },
   "outputs": [
    {
     "data": {
      "text/plain": [
       "501"
      ]
     },
     "execution_count": 203,
     "metadata": {},
     "output_type": "execute_result"
    }
   ],
   "source": [
    "len(test2['TYPE'] == 111)"
   ]
  },
  {
   "cell_type": "code",
   "execution_count": 202,
   "metadata": {
    "collapsed": false
   },
   "outputs": [
    {
     "name": "stdout",
     "output_type": "stream",
     "text": [
      "431\n",
      "29\n"
     ]
    }
   ],
   "source": [
    "print len(test2[test2['Structure Type'] == 'SF'])\n",
    "print len(test2[(test2['Structure Type'] == 'SF') & (test2['Permit Activity'] == 'Addition')])"
   ]
  },
  {
   "cell_type": "code",
   "execution_count": 178,
   "metadata": {
    "collapsed": false
   },
   "outputs": [
    {
     "name": "stdout",
     "output_type": "stream",
     "text": [
      "3\n",
      "['PODIUM', '(4+1)', '154', 'DWELLING', 'UNITS', 'SQUARE', 'FOOTAGE:', '1ST', 'FLOOR', '-']\n",
      "499\n",
      "['CONSTRUCT', 'TOWNHOUSE', 'WITH', '4', 'UNITS', 'AND', '2', 'HOUR', 'SEPARATION', 'WALLS']\n",
      "['HOUR', 'SEPARATION', 'WALLS', 'BETWEEN', 'UNITS', '(BLDG.', 'B)', 'TYPE', 'OF', 'CONSTRUCTION:VB']\n",
      "500\n",
      "['CONSTRUCT', 'TOWNHOUSE', 'WITH', '4', 'UNITS', 'AND', '2', 'HOUR', 'SEPARATION', 'WALLS']\n",
      "['HOUR', 'SEPARATION', 'WALLS', 'BETWEEN', 'UNITS', '(BLDG.', 'A)', 'TYPE', 'OF', 'CONSTRUCTION:VB']\n"
     ]
    }
   ],
   "source": [
    "# find the situation from work description\n",
    "units_index = []\n",
    "for i in range(len(test2)):\n",
    "    des = test2[i:i+1]['Work Description'].tolist()[0].split()\n",
    "    if 'UNITS' in des:\n",
    "        print i \n",
    "        for j in range(len(des)):\n",
    "            if des[j] == 'UNITS':\n",
    "                j = max(0, j-4)\n",
    "                print des[j:j+10]\n",
    "        units_index = units_index + [i]"
   ]
  },
  {
   "cell_type": "code",
   "execution_count": 179,
   "metadata": {
    "collapsed": false,
    "scrolled": false
   },
   "outputs": [
    {
     "data": {
      "text/plain": [
       "Index([u'Permit ID#', u'Project Name', u'Tax PID#', u'Site Address',\n",
       "       u'Site ZipCode', u'Issue Date', u'Final Date', u'Status', u'# of Units',\n",
       "       u'# of Buildings', u'Est. Value', u'Condo', u'Lot Area/Size',\n",
       "       u'Zoning Code', u'Work Description', u'Structure Type',\n",
       "       u'Permit Activity', u'Land Use', u'SORT', u'HOUSENO', u'PREFIX',\n",
       "       u'STRNAME', u'STRTYPE', u'SUFFIX', u'UNIT_BLD', u'CITY', u'STATE',\n",
       "       u'ZIP', u'UNITS', u'PS', u'TYPE', u'NOTES', u'NOTES2', u'NOTES3',\n",
       "       u'NOTES4', u'NOTES5', u'NOTES6', u'NOTES7', u'PERMITNO', u'PSRCIDN',\n",
       "       u'PIN', u'MULTIREC', u'LANDUSE', u'CONDO', u'ZONING', u'LOTSIZE',\n",
       "       u'PIN_PARENT', u'FINALED', u'ISSUED', u'STATUS', u'VALUE', u'ADDRESS',\n",
       "       u'BLDGS'],\n",
       "      dtype='object')"
      ]
     },
     "execution_count": 179,
     "metadata": {},
     "output_type": "execute_result"
    }
   ],
   "source": [
    "test2.columns\n"
   ]
  },
  {
   "cell_type": "code",
   "execution_count": 180,
   "metadata": {
    "collapsed": false
   },
   "outputs": [
    {
     "name": "stdout",
     "output_type": "stream",
     "text": [
      "29\n",
      "['DEMO', 'HOUSE', '-', '2490', 'SQ', 'FT', 'AND', 'FOUR', 'OUTBUILDINGS', '-']\n",
      "31\n",
      "['DEMO', 'AND', 'REMOVE', 'EXISTING', 'HOUSE', 'APPROXIMATELY', '2100', 'SQ', 'FT.']\n",
      "34\n",
      "['DEMO', 'HOUSE', 'AND', 'OUTBUILDINGS', '2,720', 'SQ', 'FT', 'CIVIL', 'PERMIT', '#RECC-2143553']\n",
      "37\n",
      "['800', 'SF', 'RESIDENTIAL', 'STRUCTURE.', 'DEMO', 'TO', 'BEGIN', 'ON', '8/9/16', 'AND']\n",
      "38\n",
      "['DEMO', '1200', 'SQ', 'FT', 'HOUSE']\n",
      "39\n",
      "['DEMO', '2,060', 'SQ', 'FT', 'HOUSE', 'WITH', '820', 'SQ', 'FT', 'GARAGE']\n",
      "40\n",
      "['DEMO', '1060', 'SQ', 'FT', 'RESIDENCE']\n",
      "41\n",
      "['DEMO', 'OF', 'OLD', 'TOP', 'BLDG', '(FORMER', 'TRANSPORTATION', 'BLDG)', 'LOCATED', 'AT']\n",
      "['REMOVE', 'SLAB', '&', 'FOOTING.', 'DEMO', 'WILL', 'BEGIN', 'ON', '1/16/17', 'AND']\n",
      "48\n",
      "['CALL', '253-856-5427', 'TO', 'SCHEDULE.', 'DEMO', 'HOUSE', 'IN', 'PREPARATION', 'FOR', 'NEW']\n",
      "49\n",
      "['CALL', '253-856-5427', 'TO', 'SCHEDULE.', 'DEMO', 'HOUSE', 'IN', 'PREPARATION', 'FOR', 'NEW']\n",
      "50\n",
      "['CALL', '253-856-5427', 'TO', 'SCHEDULE.', 'DEMO', 'HOUSE', 'IN', 'PREPARATION', 'FOR', 'NEW']\n",
      "52\n",
      "['CALL', '253-856-5427', 'TO', 'SCHEDULE.', 'DEMO', 'EXISTING', '1090', 'SQ', 'FT', 'HOUSE.']\n",
      "59\n",
      "['CALL', '253-856-5427', 'TO', 'SCHEDULE.', 'DEMO', 'HOUSE', '1896', 'SF', 'HOUSE', '520']\n",
      "204\n",
      "['OF', 'KENT', 'DEMOLITION', 'PERMIT.', 'DEMO', 'PERMIT', 'TO', 'BE', 'FINALLED', 'BEFORE']\n",
      "205\n",
      "['EXISTING', 'HOUSE', 'PARTIALLY', 'DEMO', 'WITHOUT', 'PERMIT.', 'REMAINING', 'OF', 'HOUSE', 'TO']\n"
     ]
    }
   ],
   "source": [
    "#demolish\n",
    "# find unit number from work description\n",
    "demo_index = []\n",
    "for i in range(len(test2)):\n",
    "    des = test2[i:i+1]['Work Description'].tolist()[0].split()\n",
    "    if 'DEMO' in des:\n",
    "        print i \n",
    "        for j in range(len(des)):\n",
    "            if des[j] == 'DEMO':\n",
    "                j = max(0, j-4)\n",
    "                print des[j:j+10]\n",
    "        demo_index = units_index + [i]\n",
    "\n",
    "    else: \n",
    "        if 'DEMO' in des:\n",
    "            print i \n",
    "            for j in range(len(des)):\n",
    "                if des[j] == 'DEMO':\n",
    "                    j = max(0, j-4)\n",
    "                    print des[j:j+10]\n",
    "            demo_index = units_index + [i]"
   ]
  },
  {
   "cell_type": "code",
   "execution_count": 181,
   "metadata": {
    "collapsed": false
   },
   "outputs": [
    {
     "data": {
      "text/plain": [
       "[3, 499, 500, 205]"
      ]
     },
     "execution_count": 181,
     "metadata": {},
     "output_type": "execute_result"
    }
   ],
   "source": [
    "demo_index"
   ]
  },
  {
   "cell_type": "code",
   "execution_count": 182,
   "metadata": {
    "collapsed": true
   },
   "outputs": [],
   "source": [
    "for i in demo_index:\n",
    "    test2.loc[i,'TYPE']= 111\n",
    "    test2.loc[i,'PS']= 5"
   ]
  },
  {
   "cell_type": "code",
   "execution_count": null,
   "metadata": {
    "collapsed": true
   },
   "outputs": [],
   "source": []
  },
  {
   "cell_type": "code",
   "execution_count": null,
   "metadata": {
    "collapsed": true
   },
   "outputs": [],
   "source": []
  },
  {
   "cell_type": "code",
   "execution_count": null,
   "metadata": {
    "collapsed": true
   },
   "outputs": [],
   "source": []
  },
  {
   "cell_type": "code",
   "execution_count": null,
   "metadata": {
    "collapsed": true
   },
   "outputs": [],
   "source": []
  },
  {
   "cell_type": "markdown",
   "metadata": {},
   "source": [
    "# NOTES, 2, 3, 4, 5"
   ]
  },
  {
   "cell_type": "code",
   "execution_count": 183,
   "metadata": {
    "collapsed": true
   },
   "outputs": [],
   "source": [
    "for c in ['NOTES', 'NOTES2', 'NOTES3', 'NOTES4', 'NOTES5']:\n",
    "    test2[c] = ''"
   ]
  },
  {
   "cell_type": "code",
   "execution_count": 184,
   "metadata": {
    "collapsed": false
   },
   "outputs": [
    {
     "data": {
      "text/plain": [
       "Index([u'Permit ID#', u'Project Name', u'Tax PID#', u'Site Address',\n",
       "       u'Site ZipCode', u'Issue Date', u'Final Date', u'Status', u'# of Units',\n",
       "       u'# of Buildings', u'Est. Value', u'Condo', u'Lot Area/Size',\n",
       "       u'Zoning Code', u'Work Description', u'Structure Type',\n",
       "       u'Permit Activity', u'Land Use', u'SORT', u'HOUSENO', u'PREFIX',\n",
       "       u'STRNAME', u'STRTYPE', u'SUFFIX', u'UNIT_BLD', u'CITY', u'STATE',\n",
       "       u'ZIP', u'UNITS', u'PS', u'TYPE', u'NOTES', u'NOTES2', u'NOTES3',\n",
       "       u'NOTES4', u'NOTES5', u'NOTES6', u'NOTES7', u'PERMITNO', u'PSRCIDN',\n",
       "       u'PIN', u'MULTIREC', u'LANDUSE', u'CONDO', u'ZONING', u'LOTSIZE',\n",
       "       u'PIN_PARENT', u'FINALED', u'ISSUED', u'STATUS', u'VALUE', u'ADDRESS',\n",
       "       u'BLDGS'],\n",
       "      dtype='object')"
      ]
     },
     "execution_count": 184,
     "metadata": {},
     "output_type": "execute_result"
    }
   ],
   "source": [
    "test2.columns"
   ]
  },
  {
   "cell_type": "code",
   "execution_count": 185,
   "metadata": {
    "collapsed": false
   },
   "outputs": [
    {
     "name": "stderr",
     "output_type": "stream",
     "text": [
      "c:\\anaconda\\lib\\site-packages\\ipykernel\\__main__.py:11: SettingWithCopyWarning: \n",
      "A value is trying to be set on a copy of a slice from a DataFrame\n",
      "\n",
      "See the caveats in the documentation: http://pandas.pydata.org/pandas-docs/stable/indexing.html#indexing-view-versus-copy\n"
     ]
    }
   ],
   "source": [
    "test2['NOTES'] = test2['Project Name']\n",
    "#test2['NOTES2'] = test2['Lot Area/Size']\n",
    "test2['NOTES3'] = test2['Structure Type']\n",
    "test2['NOTES5'] = test2['Status']\n",
    "test2['NOTES6'] = ''\n",
    "test2['NOTES7'] = ''\n",
    "#test2['NOTES6'] = test2['Type'] # just reserve some info from raw data\n",
    "#test2['NOTES7'] = test2['Sub-Type'] # reserve some info from raw data \n",
    "for i in range(len(test2)):\n",
    "    work = test2['Work Description'][i]\n",
    "    test2['NOTES4'][i] = work[:50]\n"
   ]
  },
  {
   "cell_type": "markdown",
   "metadata": {},
   "source": [
    "# Extra information to carry over"
   ]
  },
  {
   "cell_type": "markdown",
   "metadata": {},
   "source": [
    "The first two digits indicate the project year. The second two digits indicate the county in which the permit is located by abbreviated FIPS county code. The next five digits (included since 2000) indicate the jurisdiction of permit issue by FIPS place code. The last five digits serve as an automatic counter."
   ]
  },
  {
   "cell_type": "code",
   "execution_count": 186,
   "metadata": {
    "collapsed": false
   },
   "outputs": [],
   "source": [
    "test3 = test2"
   ]
  },
  {
   "cell_type": "code",
   "execution_count": 187,
   "metadata": {
    "collapsed": false
   },
   "outputs": [],
   "source": [
    "test3['PERMITNO'] = test3['Permit ID#']"
   ]
  },
  {
   "cell_type": "code",
   "execution_count": 188,
   "metadata": {
    "collapsed": false
   },
   "outputs": [],
   "source": [
    "test3['PSRCIDN'] = '' # no data \n",
    "test3['PIN'] = test3['Tax PID#'] # no data \n",
    "test3['MULTIREC'] = ''\n",
    "test3['LANDUSE'] = ''\n",
    "test3['CONDO'] = ''\n",
    "test3['ZONING'] = ''\n",
    "test3['LOTSIZE'] = '' \n",
    "test3['PIN_PARENT'] = ''\n",
    "test3['FINALED'] = test3['Final Date']\n",
    "test3['ISSUED'] = test3['Issue Date']\n",
    "test3['STATUS'] = test3['Status']\n",
    "test3['VALUE'] = test3['Est. Value']\n",
    "test3['ADDRESS'] = test3['Site Address']"
   ]
  },
  {
   "cell_type": "code",
   "execution_count": 189,
   "metadata": {
    "collapsed": false
   },
   "outputs": [
    {
     "data": {
      "text/plain": [
       "Index([u'Permit ID#', u'Project Name', u'Tax PID#', u'Site Address',\n",
       "       u'Site ZipCode', u'Issue Date', u'Final Date', u'Status', u'# of Units',\n",
       "       u'# of Buildings', u'Est. Value', u'Condo', u'Lot Area/Size',\n",
       "       u'Zoning Code', u'Work Description', u'Structure Type',\n",
       "       u'Permit Activity', u'Land Use', u'SORT', u'HOUSENO', u'PREFIX',\n",
       "       u'STRNAME', u'STRTYPE', u'SUFFIX', u'UNIT_BLD', u'CITY', u'STATE',\n",
       "       u'ZIP', u'UNITS', u'PS', u'TYPE', u'NOTES', u'NOTES2', u'NOTES3',\n",
       "       u'NOTES4', u'NOTES5', u'NOTES6', u'NOTES7', u'PERMITNO', u'PSRCIDN',\n",
       "       u'PIN', u'MULTIREC', u'LANDUSE', u'CONDO', u'ZONING', u'LOTSIZE',\n",
       "       u'PIN_PARENT', u'FINALED', u'ISSUED', u'STATUS', u'VALUE', u'ADDRESS',\n",
       "       u'BLDGS'],\n",
       "      dtype='object')"
      ]
     },
     "execution_count": 189,
     "metadata": {},
     "output_type": "execute_result"
    }
   ],
   "source": [
    "test3.columns"
   ]
  },
  {
   "cell_type": "code",
   "execution_count": 222,
   "metadata": {
    "collapsed": false
   },
   "outputs": [
    {
     "data": {
      "text/plain": [
       "array([0, 5, ''], dtype=object)"
      ]
     },
     "execution_count": 222,
     "metadata": {},
     "output_type": "execute_result"
    }
   ],
   "source": [
    "np.unique(test3['PS'])"
   ]
  },
  {
   "cell_type": "markdown",
   "metadata": {
    "collapsed": true
   },
   "source": [
    "# Template "
   ]
  },
  {
   "cell_type": "code",
   "execution_count": 214,
   "metadata": {
    "collapsed": false
   },
   "outputs": [
    {
     "name": "stdout",
     "output_type": "stream",
     "text": [
      "['PSRCIDN', 'PERMITNO', 'SORT', 'MULTIREC', 'PIN', 'ADDRESS', 'HOUSENO', 'PREFIX', 'STRNAME', 'STRTYPE', 'SUFFIX', 'UNIT_BLD', 'ZIP', 'ISSUED', 'FINALED', 'STATUS', 'TYPE', 'PS', 'UNITS', 'BLDGS', 'LANDUSE', 'CONDO', 'VALUE', 'ZONING', 'NOTES', 'NOTES2', 'NOTES3', 'NOTES4', 'NOTES5', 'NOTES6', 'NOTES7', 'LOTSIZE', 'PIN_PARENT']\n"
     ]
    }
   ],
   "source": [
    "final_col = temp.columns.tolist()\n",
    "print final_col"
   ]
  },
  {
   "cell_type": "code",
   "execution_count": 215,
   "metadata": {
    "collapsed": false
   },
   "outputs": [],
   "source": [
    "df = test3[final_col]"
   ]
  },
  {
   "cell_type": "code",
   "execution_count": 219,
   "metadata": {
    "collapsed": false
   },
   "outputs": [
    {
     "name": "stdout",
     "output_type": "stream",
     "text": [
      "3      111\n",
      "205    111\n",
      "499    111\n",
      "500    111\n",
      "Name: TYPE, dtype: object\n"
     ]
    }
   ],
   "source": [
    "print df[df['TYPE']== 111]['TYPE']"
   ]
  },
  {
   "cell_type": "code",
   "execution_count": 193,
   "metadata": {
    "collapsed": false
   },
   "outputs": [
    {
     "data": {
      "text/plain": [
       "'C:\\\\Users\\\\Angela\\\\Documents\\\\GitHub\\\\Latest_Github\\\\permits\\\\scripts'"
      ]
     },
     "execution_count": 193,
     "metadata": {},
     "output_type": "execute_result"
    }
   ],
   "source": [
    "os.getcwd()"
   ]
  },
  {
   "cell_type": "code",
   "execution_count": 227,
   "metadata": {
    "collapsed": false
   },
   "outputs": [],
   "source": [
    "df.to_csv(r'J:\\Projects\\Permits\\17Permit\\data\\2working\\after_process_KENT3.csv')"
   ]
  },
  {
   "cell_type": "code",
   "execution_count": 221,
   "metadata": {
    "collapsed": false
   },
   "outputs": [
    {
     "data": {
      "text/plain": [
       "501"
      ]
     },
     "execution_count": 221,
     "metadata": {},
     "output_type": "execute_result"
    }
   ],
   "source": [
    "len(df['TYPE'] == 111)"
   ]
  },
  {
   "cell_type": "code",
   "execution_count": null,
   "metadata": {
    "collapsed": true
   },
   "outputs": [],
   "source": []
  }
 ],
 "metadata": {
  "kernelspec": {
   "display_name": "Python 2",
   "language": "python",
   "name": "python2"
  },
  "language_info": {
   "codemirror_mode": {
    "name": "ipython",
    "version": 2
   },
   "file_extension": ".py",
   "mimetype": "text/x-python",
   "name": "python",
   "nbconvert_exporter": "python",
   "pygments_lexer": "ipython2",
   "version": "2.7.11"
  }
 },
 "nbformat": 4,
 "nbformat_minor": 2
}
