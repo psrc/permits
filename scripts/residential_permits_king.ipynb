{
 "cells": [
  {
   "cell_type": "markdown",
   "metadata": {
    "collapsed": true
   },
   "source": [
    "This script is convert raw residential permit data to import ready PSRC data "
   ]
  },
  {
   "cell_type": "code",
   "execution_count": 1,
   "metadata": {
    "collapsed": false
   },
   "outputs": [
    {
     "data": {
      "text/plain": [
       "'T:\\\\2018March\\\\Angela'"
      ]
     },
     "execution_count": 1,
     "metadata": {},
     "output_type": "execute_result"
    }
   ],
   "source": [
    "import pandas as pd \n",
    "import numpy as np\n",
    "import os\n",
    "os.getcwd()"
   ]
  },
  {
   "cell_type": "code",
   "execution_count": 5,
   "metadata": {
    "collapsed": false
   },
   "outputs": [],
   "source": [
    "temp = pd.read_csv('template.csv')\n",
    "raw_data = pd.read_csv('033UNINCORPORATEDKING.csv')\n",
    "PIN_info = pd.read_csv('033UNINCORPORATEDKING3.csv')"
   ]
  },
  {
   "cell_type": "code",
   "execution_count": 6,
   "metadata": {
    "collapsed": false
   },
   "outputs": [],
   "source": [
    "test1 = raw_data "
   ]
  },
  {
   "cell_type": "code",
   "execution_count": 7,
   "metadata": {
    "collapsed": true
   },
   "outputs": [],
   "source": [
    "my_permit_id = 'PERMIT_NUMBER' #the column name for permit id from raw data\n",
    "my_address = 'ADDRESS'"
   ]
  },
  {
   "cell_type": "markdown",
   "metadata": {
    "collapsed": true
   },
   "source": [
    "# Sort "
   ]
  },
  {
   "cell_type": "markdown",
   "metadata": {},
   "source": [
    "Creat Sort ID by following previous format. The format could be different from city to city.  "
   ]
  },
  {
   "cell_type": "code",
   "execution_count": 8,
   "metadata": {
    "collapsed": false
   },
   "outputs": [
    {
     "name": "stderr",
     "output_type": "stream",
     "text": [
      "c:\\anaconda\\lib\\site-packages\\ipykernel\\__main__.py:5: SettingWithCopyWarning: \n",
      "A value is trying to be set on a copy of a slice from a DataFrame\n",
      "\n",
      "See the caveats in the documentation: http://pandas.pydata.org/pandas-docs/stable/indexing.html#indexing-view-versus-copy\n"
     ]
    }
   ],
   "source": [
    "test1['SORT'] = ''\n",
    "for i in range(len(test1)): \n",
    "    p = test1[my_permit_id][i]\n",
    "    p1 = '20' + p[4:6] + p[0:4] + '-' + p[-4:]\n",
    "    test1['SORT'][i] = p1"
   ]
  },
  {
   "cell_type": "code",
   "execution_count": 9,
   "metadata": {
    "collapsed": false
   },
   "outputs": [
    {
     "data": {
      "text/plain": [
       "0    2014ADDC-0625\n",
       "1    2015ADDC-0124\n",
       "2    2015ADDC-0196\n",
       "3    2015ADDC-0218\n",
       "4    2015ADDC-0419\n",
       "Name: SORT, dtype: object"
      ]
     },
     "execution_count": 9,
     "metadata": {},
     "output_type": "execute_result"
    }
   ],
   "source": [
    "test1['SORT'].head()"
   ]
  },
  {
   "cell_type": "markdown",
   "metadata": {},
   "source": [
    "# Site Address"
   ]
  },
  {
   "cell_type": "markdown",
   "metadata": {},
   "source": [
    "split full address into ['HOUSENO', 'PREFIX', 'STRNAME', 'STRTYPE', 'SUFFIX', 'UNIT_BLD', 'CITY', 'STATE', 'ZIP'] columns"
   ]
  },
  {
   "cell_type": "code",
   "execution_count": 10,
   "metadata": {
    "collapsed": false
   },
   "outputs": [
    {
     "data": {
      "text/plain": [
       "0                  10722 244TH AVE NE 98053\n",
       "1                  32437 190TH AVE SE 98092\n",
       "2                  14015 240TH AVE SE 98027\n",
       "3    39711 248TH AVE SE, ENUMCLAW, WA 98022\n",
       "4                  16704 162ND AVE NE 98072\n",
       "Name: ADDRESS, dtype: object"
      ]
     },
     "execution_count": 10,
     "metadata": {},
     "output_type": "execute_result"
    }
   ],
   "source": [
    "test1[my_address].head()"
   ]
  },
  {
   "cell_type": "code",
   "execution_count": 13,
   "metadata": {
    "collapsed": false
   },
   "outputs": [],
   "source": [
    "col1 = ['HOUSENO', 'PREFIX', 'STRNAME', 'STRTYPE', 'SUFFIX', 'UNIT_BLD', 'CITY', 'STATE', 'ZIP']\n",
    "for c in col1:\n",
    "    test1[c] = ''"
   ]
  },
  {
   "cell_type": "code",
   "execution_count": 14,
   "metadata": {
    "collapsed": false
   },
   "outputs": [
    {
     "name": "stderr",
     "output_type": "stream",
     "text": [
      "c:\\anaconda\\lib\\site-packages\\ipykernel\\__main__.py:3: SettingWithCopyWarning: \n",
      "A value is trying to be set on a copy of a slice from a DataFrame\n",
      "\n",
      "See the caveats in the documentation: http://pandas.pydata.org/pandas-docs/stable/indexing.html#indexing-view-versus-copy\n",
      "  app.launch_new_instance()\n",
      "c:\\anaconda\\lib\\site-packages\\ipykernel\\__main__.py:7: SettingWithCopyWarning: \n",
      "A value is trying to be set on a copy of a slice from a DataFrame\n",
      "\n",
      "See the caveats in the documentation: http://pandas.pydata.org/pandas-docs/stable/indexing.html#indexing-view-versus-copy\n"
     ]
    }
   ],
   "source": [
    "# Roughly split full adress into columns, without QA/QC\n",
    "for i in range(len(test1)):\n",
    "    test1[my_address][i] = test1[my_address][i].replace(',', ' ')\n",
    "    address = test1[my_address][i].split()\n",
    "    if len(address) <= 9:\n",
    "        for j in range(len(address)): \n",
    "            test1[col1[j]][i] = address[j]\n",
    "    else: \n",
    "        print address \n",
    "        #for j in range(4): #why 4? already investigated (the default is 6)\n",
    "            #test1[col1[j]][i] = address[j+2]"
   ]
  },
  {
   "cell_type": "code",
   "execution_count": 15,
   "metadata": {
    "collapsed": true
   },
   "outputs": [],
   "source": [
    "city_list = ['Auburn', 'AUBURN', 'RENTON', 'ENUMCLAW', 'Enumclaw', 'BEND', 'CARNATION', \n",
    "            'DUVALL', 'ISSAQUAH', 'Issaquah', 'KENT', 'King', 'PRESTON', 'RAVENSDALE',\n",
    "            'REDMOND', 'Renton', 'SAMMAMISH', 'SNOQUALMIE', 'VASHON', 'WOODINVILLE',\n",
    "            ]\n",
    "\n",
    "list_prefix = ['S', 'SE', 'SW', 'W', 'NW', 'N','NE','E']\n",
    "list_suffix = ['S', 'SE', 'SW', 'W', 'NW', 'N','NE','E']\n",
    "\n",
    "street_type = ['AVE', 'BLVD', 'CIR','CIRCLE','CROSSING', 'COVE', 'CT', 'DR', 'HWY', \n",
    "               'LN', 'LINE', 'LOOP', 'PL', 'RD', 'ROAD','Road','SHORE',\n",
    "               'ST', 'TRAIL', 'TRL',  'WAY']"
   ]
  },
  {
   "cell_type": "code",
   "execution_count": 16,
   "metadata": {
    "collapsed": true
   },
   "outputs": [],
   "source": [
    "# Fix the prefix \n",
    "for i in range (len(test1)): \n",
    "    if test1['PREFIX'][i] not in list_prefix: \n",
    "        test1.loc[i:i,['PREFIX', 'STRNAME', 'STRTYPE', 'SUFFIX', 'UNIT_BLD']] = test1.loc[i:i,['PREFIX', 'STRNAME', 'STRTYPE', 'SUFFIX', 'UNIT_BLD']].shift(1,axis=1)\n",
    "    else:\n",
    "        continue "
   ]
  },
  {
   "cell_type": "code",
   "execution_count": 18,
   "metadata": {
    "collapsed": true
   },
   "outputs": [],
   "source": [
    "backup_test1 = test1 # just in case, if I lost all data later "
   ]
  },
  {
   "cell_type": "code",
   "execution_count": 17,
   "metadata": {
    "collapsed": false,
    "scrolled": true
   },
   "outputs": [
    {
     "name": "stderr",
     "output_type": "stream",
     "text": [
      "c:\\anaconda\\lib\\site-packages\\ipykernel\\__main__.py:7: SettingWithCopyWarning: \n",
      "A value is trying to be set on a copy of a slice from a DataFrame\n",
      "\n",
      "See the caveats in the documentation: http://pandas.pydata.org/pandas-docs/stable/indexing.html#indexing-view-versus-copy\n"
     ]
    }
   ],
   "source": [
    "# use ['SUFFIX'] as the base to inspect the row # data, QA/QC street name and unit building name.\n",
    "for i in range(len(test1)): \n",
    "    #print test1['SUFFIX'][i]\n",
    "    if len(test1['ADDRESS'][i].split()) > 4: \n",
    "        #print i \n",
    "        if str(test1['SUFFIX'][i]) in street_type: \n",
    "            test1['STRNAME'][i] = test1['STRNAME'][i] + ' ' + test1['STRTYPE'][i] \n",
    "            test1.loc[i:i,['STRTYPE', 'SUFFIX', 'UNIT_BLD']] = test1.loc[i:i,['STRTYPE', 'SUFFIX', 'UNIT_BLD']].shift(-1,axis=1)\n",
    "        else: \n",
    "            if str(test1['SUFFIX'][i]) in list_suffix: # suffix is suffix\n",
    "                continue\n",
    "            if str(test1['SUFFIX'][i]) in city_list: # city name in suffix\n",
    "                test1.loc[i:i,['SUFFIX', 'UNIT_BLD']] = test1.loc[i:i,['SUFFIX', 'UNIT_BLD']].shift(1,axis=1)\n",
    "            if str(test1['SUFFIX'][i]) in ['WA']: # state name in suffix\n",
    "                test1.loc[i:i,['SUFFIX', 'UNIT_BLD']] = test1.loc[i:i,['SUFFIX', 'UNIT_BLD']].shift(2,axis=1)\n",
    "            if str(test1['SUFFIX'][i])[0] == 9: # zipcode in suffix\n",
    "                test1.loc[i:i,['SUFFIX', 'UNIT_BLD']] = test1.loc[i:i,['SUFFIX', 'UNIT_BLD']].shift(2,axis=1)\n",
    "            else: #may be street name in suffix ? or nothing in suffix \n",
    "                #print test1['ADDRESS'][i]\n",
    "                continue\n",
    "            #test1.loc[i:i,['SUFFIX', 'UNIT_BLD']] = test1.loc[i:i,['SUFFIX', 'UNIT_BLD']].shift(1,axis=1)\n",
    "    else: \n",
    "        continue "
   ]
  },
  {
   "cell_type": "code",
   "execution_count": 19,
   "metadata": {
    "code_folding": [],
    "collapsed": false
   },
   "outputs": [],
   "source": [
    "# QA/QC surffix\n",
    "for i in range (len(test1)): \n",
    "    if test1['SUFFIX'][i] not in list_suffix: \n",
    "        test1.loc[i:i,['SUFFIX', 'UNIT_BLD', 'CITY', 'STATE', 'ZIP']] = test1.loc[i:i,['SUFFIX', 'UNIT_BLD', 'CITY', 'STATE', 'ZIP']].shift(1,axis=1)\n",
    "    else:\n",
    "        continue "
   ]
  },
  {
   "cell_type": "code",
   "execution_count": 20,
   "metadata": {
    "collapsed": true
   },
   "outputs": [],
   "source": [
    "# QA/QC unit building number \n",
    "for i in range (len(test1)): \n",
    "    if test1['UNIT_BLD'][i] not in ['1', '']: \n",
    "        test1.loc[i:i,['UNIT_BLD', 'CITY', 'STATE', 'ZIP']] = test1.loc[i:i,['UNIT_BLD', 'CITY', 'STATE', 'ZIP']].shift(1,axis=1)\n",
    "    else:\n",
    "        continue "
   ]
  },
  {
   "cell_type": "code",
   "execution_count": 21,
   "metadata": {
    "collapsed": true
   },
   "outputs": [],
   "source": [
    "for i in range (len(test1)): \n",
    "    if test1['CITY'][i] not in city_list: \n",
    "        test1.loc[i:i,['CITY', 'STATE', 'ZIP']] = test1.loc[i:i,[ 'CITY', 'STATE', 'ZIP']].shift(1,axis=1)\n",
    "    else:\n",
    "        continue "
   ]
  },
  {
   "cell_type": "code",
   "execution_count": 22,
   "metadata": {
    "collapsed": true
   },
   "outputs": [],
   "source": [
    "for i in range (len(test1)): \n",
    "    if test1['STATE'][i] not in ['WA']: \n",
    "        test1.loc[i:i,['STATE', 'ZIP']] = test1.loc[i:i,[ 'STATE', 'ZIP']].shift(1,axis=1)\n",
    "    else:\n",
    "        continue "
   ]
  },
  {
   "cell_type": "code",
   "execution_count": null,
   "metadata": {
    "collapsed": true
   },
   "outputs": [],
   "source": []
  },
  {
   "cell_type": "code",
   "execution_count": 23,
   "metadata": {
    "collapsed": false
   },
   "outputs": [
    {
     "name": "stderr",
     "output_type": "stream",
     "text": [
      "c:\\anaconda\\lib\\site-packages\\numpy\\lib\\arraysetops.py:200: FutureWarning: numpy not_equal will not check object identity in the future. The comparison did not return the same result as suggested by the identity (`is`)) and will change.\n",
      "  flag = np.concatenate(([True], aux[1:] != aux[:-1]))\n"
     ]
    },
    {
     "data": {
      "text/plain": [
       "array([nan, nan, nan, nan, nan, nan, nan, nan, nan, nan, nan, nan, nan,\n",
       "       nan, nan, nan, nan, nan, nan, nan, nan, nan, nan, nan, nan, nan,\n",
       "       nan, nan, nan, nan, nan, nan, nan, nan, nan, nan, nan, '', '***',\n",
       "       '98001', '98003', '98010', '98011', '98014', '98019', '98022',\n",
       "       '98024', '98027', '98029', '98032', '98038', '98042', '98045',\n",
       "       '98051', '98052', '98053', '98058', '98059', '98065', '98070',\n",
       "       '98072', '98074', '98077', '98092', '98106', '98146', '98168',\n",
       "       '98178', 'CITY', 'DESIRE', 'DIAMOND', 'LAKE', 'MAPLE', 'NORTH',\n",
       "       'SEATTLE', 'VALLEY'], dtype=object)"
      ]
     },
     "execution_count": 23,
     "metadata": {},
     "output_type": "execute_result"
    }
   ],
   "source": [
    "np.unique(test1['ZIP'])"
   ]
  },
  {
   "cell_type": "code",
   "execution_count": 24,
   "metadata": {
    "collapsed": false
   },
   "outputs": [],
   "source": [
    "test1 = test1.replace(np.nan, '', regex=True)"
   ]
  },
  {
   "cell_type": "markdown",
   "metadata": {},
   "source": [
    "# Type "
   ]
  },
  {
   "cell_type": "markdown",
   "metadata": {
    "collapsed": true
   },
   "source": [
    "TYPE IS VERY DIFFICULT TO CODE, will process this via excel manually in the end. "
   ]
  },
  {
   "cell_type": "markdown",
   "metadata": {},
   "source": [
    "# NOTES, 2, 3, 4, 5"
   ]
  },
  {
   "cell_type": "code",
   "execution_count": 26,
   "metadata": {
    "collapsed": false
   },
   "outputs": [],
   "source": [
    "test2 = test1"
   ]
  },
  {
   "cell_type": "code",
   "execution_count": 27,
   "metadata": {
    "collapsed": true
   },
   "outputs": [],
   "source": [
    "for c in ['NOTES', 'NOTES2', 'NOTES3', 'NOTES4', 'NOTES5']:\n",
    "    test2[c] = ''"
   ]
  },
  {
   "cell_type": "code",
   "execution_count": 28,
   "metadata": {
    "collapsed": false
   },
   "outputs": [
    {
     "data": {
      "text/plain": [
       "Index([u'PERMIT_NUMBER', u'Group', u'Type', u'Sub-Type', u'Category',\n",
       "       u'PROJECT_NAME', u'DETAIL_DESCRIPTION', u'APPLICATION_DATE',\n",
       "       u'ISSUED_DATE', u'STATUS', u' JOB_VALUE ', u'PARCEL',\n",
       "       u'SITE ADDRESS_LOCATION', u'ADDRESS', u'APPLICANT_NAME_ADDR',\n",
       "       u'OWNER_NAME_ADDR', u'NBR_OF_DWELLING_UNITS', u'REVISION',\n",
       "       u'COMMUNITY_SERVICE_AREA', u'COUNCEL_DISTRICT', u'PERMIT_TYPE',\n",
       "       u'Month', u'Quarter', u'Year', u'Issuing Agency', u'FOR PERIOD ',\n",
       "       u'SORT', u'HOUSENO', u'PREFIX', u'STRNAME', u'STRTYPE', u'SUFFIX',\n",
       "       u'UNIT_BLD', u'CITY', u'STATE', u'ZIP', u'NOTES', u'NOTES2', u'NOTES3',\n",
       "       u'NOTES4', u'NOTES5'],\n",
       "      dtype='object')"
      ]
     },
     "execution_count": 28,
     "metadata": {},
     "output_type": "execute_result"
    }
   ],
   "source": [
    "test2.columns"
   ]
  },
  {
   "cell_type": "code",
   "execution_count": 29,
   "metadata": {
    "collapsed": false
   },
   "outputs": [
    {
     "name": "stderr",
     "output_type": "stream",
     "text": [
      "c:\\anaconda\\lib\\site-packages\\ipykernel\\__main__.py:9: SettingWithCopyWarning: \n",
      "A value is trying to be set on a copy of a slice from a DataFrame\n",
      "\n",
      "See the caveats in the documentation: http://pandas.pydata.org/pandas-docs/stable/indexing.html#indexing-view-versus-copy\n"
     ]
    }
   ],
   "source": [
    "test2['NOTES'] = test2['PROJECT_NAME']\n",
    "#test2['NOTES2'] = test2['Lot Area/Size']\n",
    "test2['NOTES3'] = test2['Type']\n",
    "test2['NOTES5'] = test2['STATUS']\n",
    "test2['NOTES6'] = test2['Type'] # just reserve some info from raw data\n",
    "test2['NOTES7'] = test2['Sub-Type'] # reserve some info from raw data \n",
    "for i in range(len(test2)):\n",
    "    work = test2['DETAIL_DESCRIPTION'][i]\n",
    "    test2['NOTES4'][i] = work[:50]\n"
   ]
  },
  {
   "cell_type": "markdown",
   "metadata": {},
   "source": [
    "# Extra information to carry over"
   ]
  },
  {
   "cell_type": "markdown",
   "metadata": {},
   "source": [
    "The first two digits indicate the project year. The second two digits indicate the county in which the permit is located by abbreviated FIPS county code. The next five digits (included since 2000) indicate the jurisdiction of permit issue by FIPS place code. The last five digits serve as an automatic counter."
   ]
  },
  {
   "cell_type": "code",
   "execution_count": 30,
   "metadata": {
    "collapsed": false
   },
   "outputs": [],
   "source": [
    "test3 = test2"
   ]
  },
  {
   "cell_type": "code",
   "execution_count": 31,
   "metadata": {
    "collapsed": true
   },
   "outputs": [],
   "source": [
    "test3['PERMITNO'] = test3['PERMIT_NUMBER']"
   ]
  },
  {
   "cell_type": "code",
   "execution_count": 32,
   "metadata": {
    "collapsed": false
   },
   "outputs": [],
   "source": [
    "test3['PSRCIDN'] = '' # no data \n",
    "test3['PIN'] = '' # no data \n",
    "test3['TYPE'] = ''\n",
    "test3['PS'] = ''\n",
    "test3['MULTIREC'] = ''\n",
    "test3['LANDUSE'] = ''\n",
    "test3['CONDO'] = ''\n",
    "test3['ZONING'] = ''\n",
    "test3['LOTSIZE'] = '' \n",
    "test3['PIN_PARENT'] = ''\n",
    "test3['BLDGS'] = 1\n",
    "test3['FINALED'] = ''\n",
    "test3['ISSUED'] = test3['ISSUED_DATE']\n",
    "test3['STATUS'] = test3['STATUS']\n",
    "test3['VALUE'] = test3[' JOB_VALUE ']\n",
    "test3['UNITS'] = test3['NBR_OF_DWELLING_UNITS']"
   ]
  },
  {
   "cell_type": "code",
   "execution_count": 33,
   "metadata": {
    "collapsed": false
   },
   "outputs": [
    {
     "name": "stderr",
     "output_type": "stream",
     "text": [
      "c:\\anaconda\\lib\\site-packages\\ipykernel\\__main__.py:5: SettingWithCopyWarning: \n",
      "A value is trying to be set on a copy of a slice from a DataFrame\n",
      "\n",
      "See the caveats in the documentation: http://pandas.pydata.org/pandas-docs/stable/indexing.html#indexing-view-versus-copy\n"
     ]
    }
   ],
   "source": [
    "test3['SORT'] = ''\n",
    "for i in range(len(test3)): \n",
    "    p = test3[my_permit_id][i]\n",
    "    p1 = '20' + p[4:6] + p[0:4] + '-' + p[-4:]\n",
    "    test3['SORT'][i] = p1"
   ]
  },
  {
   "cell_type": "markdown",
   "metadata": {
    "collapsed": true
   },
   "source": [
    "# Template "
   ]
  },
  {
   "cell_type": "code",
   "execution_count": 35,
   "metadata": {
    "collapsed": false
   },
   "outputs": [],
   "source": [
    "final_col = list(temp.columns.values) + ['CITY', 'STATE'] "
   ]
  },
  {
   "cell_type": "code",
   "execution_count": 36,
   "metadata": {
    "collapsed": false
   },
   "outputs": [
    {
     "data": {
      "text/plain": [
       "Index([u'PERMIT_NUMBER', u'Group', u'Type', u'Sub-Type', u'Category',\n",
       "       u'PROJECT_NAME', u'DETAIL_DESCRIPTION', u'APPLICATION_DATE',\n",
       "       u'ISSUED_DATE', u'STATUS', u' JOB_VALUE ', u'PARCEL',\n",
       "       u'SITE ADDRESS_LOCATION', u'ADDRESS', u'APPLICANT_NAME_ADDR',\n",
       "       u'OWNER_NAME_ADDR', u'NBR_OF_DWELLING_UNITS', u'REVISION',\n",
       "       u'COMMUNITY_SERVICE_AREA', u'COUNCEL_DISTRICT', u'PERMIT_TYPE',\n",
       "       u'Month', u'Quarter', u'Year', u'Issuing Agency', u'FOR PERIOD ',\n",
       "       u'SORT', u'HOUSENO', u'PREFIX', u'STRNAME', u'STRTYPE', u'SUFFIX',\n",
       "       u'UNIT_BLD', u'CITY', u'STATE', u'ZIP', u'NOTES', u'NOTES2', u'NOTES3',\n",
       "       u'NOTES4', u'NOTES5', u'NOTES6', u'NOTES7', u'PERMITNO', u'PSRCIDN',\n",
       "       u'PIN', u'TYPE', u'PS', u'MULTIREC', u'LANDUSE', u'CONDO', u'ZONING',\n",
       "       u'LOTSIZE', u'PIN_PARENT', u'BLDGS', u'FINALED', u'ISSUED', u'VALUE',\n",
       "       u'UNITS'],\n",
       "      dtype='object')"
      ]
     },
     "execution_count": 36,
     "metadata": {},
     "output_type": "execute_result"
    }
   ],
   "source": [
    "test3.columns"
   ]
  },
  {
   "cell_type": "code",
   "execution_count": 37,
   "metadata": {
    "collapsed": false
   },
   "outputs": [],
   "source": [
    "df = test3[final_col]"
   ]
  },
  {
   "cell_type": "markdown",
   "metadata": {},
   "source": [
    "# PIN"
   ]
  },
  {
   "cell_type": "code",
   "execution_count": 41,
   "metadata": {
    "collapsed": false
   },
   "outputs": [],
   "source": [
    "df_pin = PIN_info[['PERMITNO', 'PIN']]"
   ]
  },
  {
   "cell_type": "code",
   "execution_count": 42,
   "metadata": {
    "collapsed": false
   },
   "outputs": [],
   "source": [
    "left=df\n",
    "right=df_pin\n",
    "df = pd.merge(left, right, how='left', on='PERMITNO')"
   ]
  },
  {
   "cell_type": "code",
   "execution_count": 43,
   "metadata": {
    "collapsed": false
   },
   "outputs": [],
   "source": [
    "df['PIN_y'] = df['PIN_y'].astype(str)"
   ]
  },
  {
   "cell_type": "code",
   "execution_count": 67,
   "metadata": {
    "collapsed": false
   },
   "outputs": [],
   "source": [
    "df.to_csv('final_unincorporated_king_withPIN.csv')"
   ]
  },
  {
   "cell_type": "code",
   "execution_count": null,
   "metadata": {
    "collapsed": true
   },
   "outputs": [],
   "source": []
  }
 ],
 "metadata": {
  "kernelspec": {
   "display_name": "Python 2",
   "language": "python",
   "name": "python2"
  },
  "language_info": {
   "codemirror_mode": {
    "name": "ipython",
    "version": 2
   },
   "file_extension": ".py",
   "mimetype": "text/x-python",
   "name": "python",
   "nbconvert_exporter": "python",
   "pygments_lexer": "ipython2",
   "version": "2.7.11"
  }
 },
 "nbformat": 4,
 "nbformat_minor": 2
}
